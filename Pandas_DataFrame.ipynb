{
  "nbformat": 4,
  "nbformat_minor": 0,
  "metadata": {
    "colab": {
      "provenance": []
    },
    "kernelspec": {
      "name": "python3",
      "display_name": "Python 3"
    },
    "language_info": {
      "name": "python"
    }
  },
  "cells": [
    {
      "cell_type": "code",
      "metadata": {
        "id": "aVxxOaZvg9UC"
      },
      "source": [
        "import pandas as pd"
      ],
      "execution_count": null,
      "outputs": []
    },
    {
      "cell_type": "code",
      "metadata": {
        "colab": {
          "resources": {
            "http://localhost:8080/nbextensions/google.colab/files.js": {
              "data": "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",
              "ok": true,
              "headers": [
                [
                  "content-type",
                  "application/javascript"
                ]
              ],
              "status": 200,
              "status_text": ""
            }
          },
          "base_uri": "https://localhost:8080/",
          "height": 111
        },
        "id": "SpXgVzMghFuf",
        "outputId": "d64217af-092b-46af-d659-7ffb9dd799fd"
      },
      "source": [
        "from google.colab import files\n",
        "files.upload()"
      ],
      "execution_count": null,
      "outputs": [
        {
          "output_type": "display_data",
          "data": {
            "text/html": [
              "\n",
              "     <input type=\"file\" id=\"files-fab7e268-3f93-46ee-93d1-93223249316c\" name=\"files[]\" multiple disabled\n",
              "        style=\"border:none\" />\n",
              "     <output id=\"result-fab7e268-3f93-46ee-93d1-93223249316c\">\n",
              "      Upload widget is only available when the cell has been executed in the\n",
              "      current browser session. Please rerun this cell to enable.\n",
              "      </output>\n",
              "      <script src=\"/nbextensions/google.colab/files.js\"></script> "
            ],
            "text/plain": [
              "<IPython.core.display.HTML object>"
            ]
          },
          "metadata": {}
        },
        {
          "output_type": "stream",
          "name": "stdout",
          "text": [
            "Saving nba.csv to nba.csv\n"
          ]
        },
        {
          "output_type": "execute_result",
          "data": {
            "text/plain": [
              "{'nba.csv': b\"Name,Team,Number,Position,Age,Height,Weight,College,Salary\\nAvery Bradley,Boston Celtics,0.0,PG,25.0,6-2,180.0,Texas,7730337.0\\nJae Crowder,Boston Celtics,99.0,SF,25.0,6-6,235.0,Marquette,6796117.0\\nJohn Holland,Boston Celtics,30.0,SG,27.0,6-5,205.0,Boston University,\\nR.J. Hunter,Boston Celtics,28.0,SG,22.0,6-5,185.0,Georgia State,1148640.0\\nJonas Jerebko,Boston Celtics,8.0,PF,29.0,6-10,231.0,,5000000.0\\nAmir Johnson,Boston Celtics,90.0,PF,29.0,6-9,240.0,,12000000.0\\nJordan Mickey,Boston Celtics,55.0,PF,21.0,6-8,235.0,LSU,1170960.0\\nKelly Olynyk,Boston Celtics,41.0,C,25.0,7-0,238.0,Gonzaga,2165160.0\\nTerry Rozier,Boston Celtics,12.0,PG,22.0,6-2,190.0,Louisville,1824360.0\\nMarcus Smart,Boston Celtics,36.0,PG,22.0,6-4,220.0,Oklahoma State,3431040.0\\nJared Sullinger,Boston Celtics,7.0,C,24.0,6-9,260.0,Ohio State,2569260.0\\nIsaiah Thomas,Boston Celtics,4.0,PG,27.0,5-9,185.0,Washington,6912869.0\\nEvan Turner,Boston Celtics,11.0,SG,27.0,6-7,220.0,Ohio State,3425510.0\\nJames Young,Boston Celtics,13.0,SG,20.0,6-6,215.0,Kentucky,1749840.0\\nTyler Zeller,Boston Celtics,44.0,C,26.0,7-0,253.0,North Carolina,2616975.0\\nBojan Bogdanovic,Brooklyn Nets,44.0,SG,27.0,6-8,216.0,,3425510.0\\nMarkel Brown,Brooklyn Nets,22.0,SG,24.0,6-3,190.0,Oklahoma State,845059.0\\nWayne Ellington,Brooklyn Nets,21.0,SG,28.0,6-4,200.0,North Carolina,1500000.0\\nRondae Hollis-Jefferson,Brooklyn Nets,24.0,SG,21.0,6-7,220.0,Arizona,1335480.0\\nJarrett Jack,Brooklyn Nets,2.0,PG,32.0,6-3,200.0,Georgia Tech,6300000.0\\nSergey Karasev,Brooklyn Nets,10.0,SG,22.0,6-7,208.0,,1599840.0\\nSean Kilpatrick,Brooklyn Nets,6.0,SG,26.0,6-4,219.0,Cincinnati,134215.0\\nShane Larkin,Brooklyn Nets,0.0,PG,23.0,5-11,175.0,Miami (FL),1500000.0\\nBrook Lopez,Brooklyn Nets,11.0,C,28.0,7-0,275.0,Stanford,19689000.0\\nChris McCullough,Brooklyn Nets,1.0,PF,21.0,6-11,200.0,Syracuse,1140240.0\\nWillie Reed,Brooklyn Nets,33.0,PF,26.0,6-10,220.0,Saint Louis,947276.0\\nThomas Robinson,Brooklyn Nets,41.0,PF,25.0,6-10,237.0,Kansas,981348.0\\nHenry Sims,Brooklyn Nets,14.0,C,26.0,6-10,248.0,Georgetown,947276.0\\nDonald Sloan,Brooklyn Nets,15.0,PG,28.0,6-3,205.0,Texas A&M,947276.0\\nThaddeus Young,Brooklyn Nets,30.0,PF,27.0,6-8,221.0,Georgia Tech,11235955.0\\nArron Afflalo,New York Knicks,4.0,SG,30.0,6-5,210.0,UCLA,8000000.0\\nLou Amundson,New York Knicks,17.0,PF,33.0,6-9,220.0,UNLV,1635476.0\\nThanasis Antetokounmpo,New York Knicks,43.0,SF,23.0,6-7,205.0,,30888.0\\nCarmelo Anthony,New York Knicks,7.0,SF,32.0,6-8,240.0,Syracuse,22875000.0\\nJose Calderon,New York Knicks,3.0,PG,34.0,6-3,200.0,,7402812.0\\nCleanthony Early,New York Knicks,11.0,SF,25.0,6-8,210.0,Wichita State,845059.0\\nLangston Galloway,New York Knicks,2.0,SG,24.0,6-2,200.0,Saint Joseph's,845059.0\\nJerian Grant,New York Knicks,13.0,PG,23.0,6-4,195.0,Notre Dame,1572360.0\\nRobin Lopez,New York Knicks,8.0,C,28.0,7-0,255.0,Stanford,12650000.0\\nKyle O'Quinn,New York Knicks,9.0,PF,26.0,6-10,250.0,Norfolk State,3750000.0\\nKristaps Porzingis,New York Knicks,6.0,PF,20.0,7-3,240.0,,4131720.0\\nKevin Seraphin,New York Knicks,1.0,C,26.0,6-10,278.0,,2814000.0\\nLance Thomas,New York Knicks,42.0,SF,28.0,6-8,235.0,Duke,1636842.0\\nSasha Vujacic,New York Knicks,18.0,SG,32.0,6-7,195.0,,947276.0\\nDerrick Williams,New York Knicks,23.0,PF,25.0,6-8,240.0,Arizona,4000000.0\\nTony Wroten,New York Knicks,5.0,SG,23.0,6-6,205.0,Washington,167406.0\\nElton Brand,Philadelphia 76ers,42.0,PF,37.0,6-9,254.0,Duke,\\nIsaiah Canaan,Philadelphia 76ers,0.0,PG,25.0,6-0,201.0,Murray State,947276.0\\nRobert Covington,Philadelphia 76ers,33.0,SF,25.0,6-9,215.0,Tennessee State,1000000.0\\nJoel Embiid,Philadelphia 76ers,21.0,C,22.0,7-0,250.0,Kansas,4626960.0\\nJerami Grant,Philadelphia 76ers,39.0,SF,22.0,6-8,210.0,Syracuse,845059.0\\nRichaun Holmes,Philadelphia 76ers,22.0,PF,22.0,6-10,245.0,Bowling Green,1074169.0\\nCarl Landry,Philadelphia 76ers,7.0,PF,32.0,6-9,248.0,Purdue,6500000.0\\nKendall Marshall,Philadelphia 76ers,5.0,PG,24.0,6-4,200.0,North Carolina,2144772.0\\nT.J. McConnell,Philadelphia 76ers,12.0,PG,24.0,6-2,200.0,Arizona,525093.0\\nNerlens Noel,Philadelphia 76ers,4.0,PF,22.0,6-11,228.0,Kentucky,3457800.0\\nJahlil Okafor,Philadelphia 76ers,8.0,C,20.0,6-11,275.0,Duke,4582680.0\\nIsh Smith,Philadelphia 76ers,1.0,PG,27.0,6-0,175.0,Wake Forest,947276.0\\nNik Stauskas,Philadelphia 76ers,11.0,SG,22.0,6-6,205.0,Michigan,2869440.0\\nHollis Thompson,Philadelphia 76ers,31.0,SG,25.0,6-8,206.0,Georgetown,947276.0\\nChristian Wood,Philadelphia 76ers,35.0,PF,20.0,6-11,220.0,UNLV,525093.0\\nBismack Biyombo,Toronto Raptors,8.0,C,23.0,6-9,245.0,,2814000.0\\nBruno Caboclo,Toronto Raptors,20.0,SF,20.0,6-9,205.0,,1524000.0\\nDeMarre Carroll,Toronto Raptors,5.0,SF,29.0,6-8,212.0,Missouri,13600000.0\\nDeMar DeRozan,Toronto Raptors,10.0,SG,26.0,6-7,220.0,USC,10050000.0\\nJames Johnson,Toronto Raptors,3.0,PF,29.0,6-9,250.0,Wake Forest,2500000.0\\nCory Joseph,Toronto Raptors,6.0,PG,24.0,6-3,190.0,Texas,7000000.0\\nKyle Lowry,Toronto Raptors,7.0,PG,30.0,6-0,205.0,Villanova,12000000.0\\nLucas Nogueira,Toronto Raptors,92.0,C,23.0,7-0,220.0,,1842000.0\\nPatrick Patterson,Toronto Raptors,54.0,PF,27.0,6-9,235.0,Kentucky,6268675.0\\nNorman Powell,Toronto Raptors,24.0,SG,23.0,6-4,215.0,UCLA,650000.0\\nTerrence Ross,Toronto Raptors,31.0,SF,25.0,6-7,195.0,Washington,3553917.0\\nLuis Scola,Toronto Raptors,4.0,PF,36.0,6-9,240.0,,2900000.0\\nJason Thompson,Toronto Raptors,1.0,PF,29.0,6-11,250.0,Rider,245177.0\\nJonas Valanciunas,Toronto Raptors,17.0,C,24.0,7-0,255.0,,4660482.0\\nDelon Wright,Toronto Raptors,55.0,PG,24.0,6-5,190.0,Utah,1509360.0\\nLeandro Barbosa,Golden State Warriors,19.0,SG,33.0,6-3,194.0,,2500000.0\\nHarrison Barnes,Golden State Warriors,40.0,SF,24.0,6-8,225.0,North Carolina,3873398.0\\nAndrew Bogut,Golden State Warriors,12.0,C,31.0,7-0,260.0,Utah,13800000.0\\nIan Clark,Golden State Warriors,21.0,SG,25.0,6-3,175.0,Belmont,947276.0\\nStephen Curry,Golden State Warriors,30.0,PG,28.0,6-3,190.0,Davidson,11370786.0\\nFestus Ezeli,Golden State Warriors,31.0,C,26.0,6-11,265.0,Vanderbilt,2008748.0\\nDraymond Green,Golden State Warriors,23.0,PF,26.0,6-7,230.0,Michigan State,14260870.0\\nAndre Iguodala,Golden State Warriors,9.0,SF,32.0,6-6,215.0,Arizona,11710456.0\\nShaun Livingston,Golden State Warriors,34.0,PG,30.0,6-7,192.0,,5543725.0\\nKevon Looney,Golden State Warriors,36.0,SF,20.0,6-9,220.0,UCLA,1131960.0\\nJames Michael McAdoo,Golden State Warriors,20.0,SF,23.0,6-9,240.0,North Carolina,845059.0\\nBrandon Rush,Golden State Warriors,4.0,SF,30.0,6-6,220.0,Kansas,1270964.0\\nMarreese Speights,Golden State Warriors,5.0,C,28.0,6-10,255.0,Florida,3815000.0\\nKlay Thompson,Golden State Warriors,11.0,SG,26.0,6-7,215.0,Washington State,15501000.0\\nAnderson Varejao,Golden State Warriors,18.0,PF,33.0,6-11,273.0,,289755.0\\nCole Aldrich,Los Angeles Clippers,45.0,C,27.0,6-11,250.0,Kansas,1100602.0\\nJeff Ayres,Los Angeles Clippers,19.0,PF,29.0,6-9,250.0,Arizona State,111444.0\\nJamal Crawford,Los Angeles Clippers,11.0,SG,36.0,6-5,195.0,Michigan,5675000.0\\nBranden Dawson,Los Angeles Clippers,22.0,SF,23.0,6-6,225.0,Michigan State,525093.0\\nJeff Green,Los Angeles Clippers,8.0,SF,29.0,6-9,235.0,Georgetown,9650000.0\\nBlake Griffin,Los Angeles Clippers,32.0,PF,27.0,6-10,251.0,Oklahoma,18907726.0\\nWesley Johnson,Los Angeles Clippers,33.0,SF,28.0,6-7,215.0,Syracuse,1100602.0\\nDeAndre Jordan,Los Angeles Clippers,6.0,C,27.0,6-11,265.0,Texas A&M,19689000.0\\nLuc Richard Mbah a Moute,Los Angeles Clippers,12.0,PF,29.0,6-8,230.0,UCLA,947276.0\\nChris Paul,Los Angeles Clippers,3.0,PG,31.0,6-0,175.0,Wake Forest,21468695.0\\nPaul Pierce,Los Angeles Clippers,34.0,SF,38.0,6-7,235.0,Kansas,3376000.0\\nPablo Prigioni,Los Angeles Clippers,9.0,PG,39.0,6-3,185.0,,947726.0\\nJJ Redick,Los Angeles Clippers,4.0,SG,31.0,6-4,190.0,Duke,7085000.0\\nAustin Rivers,Los Angeles Clippers,25.0,PG,23.0,6-4,200.0,Duke,3110796.0\\nC.J. Wilcox,Los Angeles Clippers,30.0,SG,25.0,6-5,195.0,Washington,1159680.0\\nBrandon Bass,Los Angeles Lakers,2.0,PF,31.0,6-8,250.0,LSU,3000000.0\\nTarik Black,Los Angeles Lakers,28.0,C,24.0,6-9,250.0,Kansas,845059.0\\nAnthony Brown,Los Angeles Lakers,3.0,SF,23.0,6-7,210.0,Stanford,700000.0\\nKobe Bryant,Los Angeles Lakers,24.0,SF,37.0,6-6,212.0,,25000000.0\\nJordan Clarkson,Los Angeles Lakers,6.0,PG,24.0,6-5,194.0,Missouri,845059.0\\nRoy Hibbert,Los Angeles Lakers,17.0,C,29.0,7-2,270.0,Georgetown,15592217.0\\nMarcelo Huertas,Los Angeles Lakers,9.0,PG,33.0,6-3,200.0,,525093.0\\nRyan Kelly,Los Angeles Lakers,4.0,PF,25.0,6-11,230.0,Duke,1724250.0\\nLarry Nance Jr.,Los Angeles Lakers,7.0,PF,23.0,6-9,230.0,Wyoming,1155600.0\\nJulius Randle,Los Angeles Lakers,30.0,PF,21.0,6-9,250.0,Kentucky,3132240.0\\nD'Angelo Russell,Los Angeles Lakers,1.0,PG,20.0,6-5,195.0,Ohio State,5103120.0\\nRobert Sacre,Los Angeles Lakers,50.0,C,27.0,7-0,270.0,Gonzaga,981348.0\\nLouis Williams,Los Angeles Lakers,23.0,SG,29.0,6-1,175.0,,7000000.0\\nMetta World Peace,Los Angeles Lakers,37.0,SF,36.0,6-7,260.0,St. John's,947276.0\\nNick Young,Los Angeles Lakers,0.0,SF,31.0,6-7,210.0,USC,5219169.0\\nEric Bledsoe,Phoenix Suns,2.0,PG,26.0,6-1,190.0,Kentucky,13500000.0\\nDevin Booker,Phoenix Suns,1.0,SG,19.0,6-6,206.0,Kentucky,2127840.0\\nChase Budinger,Phoenix Suns,10.0,SF,28.0,6-7,209.0,Arizona,206192.0\\nTyson Chandler,Phoenix Suns,4.0,C,33.0,7-1,240.0,,13000000.0\\nArchie Goodwin,Phoenix Suns,20.0,SG,21.0,6-5,200.0,Kentucky,1160160.0\\nJohn Jenkins,Phoenix Suns,23.0,SG,25.0,6-4,215.0,Vanderbilt,981348.0\\nBrandon Knight,Phoenix Suns,3.0,PG,24.0,6-3,189.0,Kentucky,13500000.0\\nAlex Len,Phoenix Suns,21.0,C,22.0,7-1,260.0,Maryland,3807120.0\\nJon Leuer,Phoenix Suns,30.0,PF,27.0,6-10,228.0,Wisconsin,1035000.0\\nPhil Pressey,Phoenix Suns,25.0,PG,25.0,5-11,175.0,Missouri,55722.0\\nRonnie Price,Phoenix Suns,14.0,PG,32.0,6-2,190.0,Utah Valley,947276.0\\nMirza Teletovic,Phoenix Suns,35.0,PF,30.0,6-9,242.0,,5500000.0\\nP.J. Tucker,Phoenix Suns,17.0,SF,31.0,6-6,245.0,Texas,5500000.0\\nT.J. Warren,Phoenix Suns,12.0,SF,22.0,6-8,230.0,North Carolina State,2041080.0\\nAlan Williams,Phoenix Suns,15.0,C,23.0,6-8,260.0,UC Santa Barbara,83397.0\\nQuincy Acy,Sacramento Kings,13.0,SF,25.0,6-7,240.0,Baylor,981348.0\\nJames Anderson,Sacramento Kings,5.0,SG,27.0,6-6,213.0,Oklahoma State,1015421.0\\nMarco Belinelli,Sacramento Kings,3.0,SG,30.0,6-5,210.0,,6060606.0\\nCaron Butler,Sacramento Kings,31.0,SF,36.0,6-7,228.0,Connecticut,1449187.0\\nOmri Casspi,Sacramento Kings,18.0,SF,27.0,6-9,225.0,,2836186.0\\nWillie Cauley-Stein,Sacramento Kings,0.0,C,22.0,7-0,240.0,Kentucky,3398280.0\\nDarren Collison,Sacramento Kings,7.0,PG,28.0,6-0,175.0,UCLA,5013559.0\\nDeMarcus Cousins,Sacramento Kings,15.0,C,25.0,6-11,270.0,Kentucky,15851950.0\\nSeth Curry,Sacramento Kings,30.0,SG,25.0,6-2,185.0,Duke,947276.0\\nDuje Dukan,Sacramento Kings,26.0,PF,24.0,6-9,220.0,Wisconsin,525093.0\\nRudy Gay,Sacramento Kings,8.0,SF,29.0,6-8,230.0,Connecticut,12403101.0\\nKosta Koufos,Sacramento Kings,41.0,C,27.0,7-0,265.0,Ohio State,7700000.0\\nBen McLemore,Sacramento Kings,23.0,SG,23.0,6-5,195.0,Kansas,3156600.0\\nEric Moreland,Sacramento Kings,25.0,PF,24.0,6-10,238.0,Oregon State,845059.0\\nRajon Rondo,Sacramento Kings,9.0,PG,30.0,6-1,186.0,Kentucky,9500000.0\\nCameron Bairstow,Chicago Bulls,41.0,PF,25.0,6-9,250.0,New Mexico,845059.0\\nAaron Brooks,Chicago Bulls,0.0,PG,31.0,6-0,161.0,Oregon,2250000.0\\nJimmy Butler,Chicago Bulls,21.0,SG,26.0,6-7,220.0,Marquette,16407500.0\\nMike Dunleavy,Chicago Bulls,34.0,SG,35.0,6-9,230.0,Duke,4500000.0\\nCristiano Felicio,Chicago Bulls,6.0,PF,23.0,6-10,275.0,,525093.0\\nPau Gasol,Chicago Bulls,16.0,C,35.0,7-0,250.0,,7448760.0\\nTaj Gibson,Chicago Bulls,22.0,PF,30.0,6-9,225.0,USC,8500000.0\\nJustin Holiday,Chicago Bulls,7.0,SG,27.0,6-6,185.0,Washington,947276.0\\nDoug McDermott,Chicago Bulls,3.0,SF,24.0,6-8,225.0,Creighton,2380440.0\\nNikola Mirotic,Chicago Bulls,44.0,PF,25.0,6-10,220.0,,5543725.0\\nE'Twaun Moore,Chicago Bulls,55.0,SG,27.0,6-4,191.0,Purdue,1015421.0\\nJoakim Noah,Chicago Bulls,13.0,C,31.0,6-11,232.0,Florida,13400000.0\\nBobby Portis,Chicago Bulls,5.0,PF,21.0,6-11,230.0,Arkansas,1391160.0\\nDerrick Rose,Chicago Bulls,1.0,PG,27.0,6-3,190.0,Memphis,20093064.0\\nTony Snell,Chicago Bulls,20.0,SF,24.0,6-7,200.0,New Mexico,1535880.0\\nMatthew Dellavedova,Cleveland Cavaliers,8.0,PG,25.0,6-4,198.0,Saint Mary's,1147276.0\\nChanning Frye,Cleveland Cavaliers,9.0,PF,33.0,6-11,255.0,Arizona,8193029.0\\nKyrie Irving,Cleveland Cavaliers,2.0,PG,24.0,6-3,193.0,Duke,16407501.0\\nLeBron James,Cleveland Cavaliers,23.0,SF,31.0,6-8,250.0,,22970500.0\\nRichard Jefferson,Cleveland Cavaliers,24.0,SF,35.0,6-7,233.0,Arizona,947276.0\\nDahntay Jones,Cleveland Cavaliers,30.0,SG,35.0,6-6,225.0,Duke,\\nJames Jones,Cleveland Cavaliers,1.0,SG,35.0,6-8,218.0,Miami (FL),947276.0\\nSasha Kaun,Cleveland Cavaliers,14.0,C,31.0,6-11,260.0,Kansas,1276000.0\\nKevin Love,Cleveland Cavaliers,0.0,PF,27.0,6-10,251.0,UCLA,19689000.0\\nJordan McRae,Cleveland Cavaliers,12.0,SG,25.0,6-5,179.0,Tennessee,111196.0\\nTimofey Mozgov,Cleveland Cavaliers,20.0,C,29.0,7-1,275.0,,4950000.0\\nIman Shumpert,Cleveland Cavaliers,4.0,SG,25.0,6-5,220.0,Georgia Tech,8988765.0\\nJ.R. Smith,Cleveland Cavaliers,5.0,SG,30.0,6-6,225.0,,5000000.0\\nTristan Thompson,Cleveland Cavaliers,13.0,C,25.0,6-9,238.0,Texas,14260870.0\\nMo Williams,Cleveland Cavaliers,52.0,PG,33.0,6-1,198.0,Alabama,2100000.0\\nJoel Anthony,Detroit Pistons,50.0,C,33.0,6-9,245.0,UNLV,2500000.0\\nAron Baynes,Detroit Pistons,12.0,C,29.0,6-10,260.0,Washington State,6500000.0\\nSteve Blake,Detroit Pistons,22.0,PG,36.0,6-3,172.0,Maryland,2170465.0\\nLorenzo Brown,Detroit Pistons,17.0,PG,25.0,6-5,189.0,North Carolina State,111444.0\\nReggie Bullock,Detroit Pistons,25.0,SF,25.0,6-7,205.0,North Carolina,1252440.0\\nKentavious Caldwell-Pope,Detroit Pistons,5.0,SG,23.0,6-5,205.0,Georgia,2891760.0\\nSpencer Dinwiddie,Detroit Pistons,8.0,PG,23.0,6-6,200.0,Colorado,845059.0\\nAndre Drummond,Detroit Pistons,0.0,C,22.0,6-11,279.0,Connecticut,3272091.0\\nTobias Harris,Detroit Pistons,34.0,SF,23.0,6-9,235.0,Tennessee,16000000.0\\nDarrun Hilliard,Detroit Pistons,6.0,SF,23.0,6-6,205.0,Villanova,600000.0\\nReggie Jackson,Detroit Pistons,1.0,PG,26.0,6-3,208.0,Boston College,13913044.0\\nStanley Johnson,Detroit Pistons,3.0,SF,20.0,6-7,245.0,Arizona,2841960.0\\nJodie Meeks,Detroit Pistons,20.0,SG,28.0,6-4,210.0,Kentucky,6270000.0\\nMarcus Morris,Detroit Pistons,13.0,PF,26.0,6-9,235.0,Kansas,5000000.0\\nAnthony Tolliver,Detroit Pistons,43.0,PF,31.0,6-8,240.0,Creighton,3000000.0\\nLavoy Allen,Indiana Pacers,5.0,PF,27.0,6-9,255.0,Temple,4050000.0\\nRakeem Christmas,Indiana Pacers,25.0,PF,24.0,6-9,250.0,Syracuse,1007026.0\\nMonta Ellis,Indiana Pacers,11.0,SG,30.0,6-3,185.0,,10300000.0\\nPaul George,Indiana Pacers,13.0,SF,26.0,6-9,220.0,Fresno State,17120106.0\\nGeorge Hill,Indiana Pacers,3.0,PG,30.0,6-3,188.0,IUPUI,8000000.0\\nJordan Hill,Indiana Pacers,27.0,C,28.0,6-10,235.0,Arizona,4000000.0\\nSolomon Hill,Indiana Pacers,44.0,SF,25.0,6-7,225.0,Arizona,1358880.0\\nTy Lawson,Indiana Pacers,10.0,PG,28.0,5-11,195.0,North Carolina,211744.0\\nIan Mahinmi,Indiana Pacers,28.0,C,29.0,6-11,250.0,,4000000.0\\nC.J. Miles,Indiana Pacers,0.0,SF,29.0,6-6,231.0,,4394225.0\\nGlenn Robinson III,Indiana Pacers,40.0,SG,22.0,6-7,222.0,Michigan,1100000.0\\nRodney Stuckey,Indiana Pacers,2.0,PG,30.0,6-5,205.0,Eastern Washington,7000000.0\\nMyles Turner,Indiana Pacers,33.0,PF,20.0,6-11,243.0,Texas,2357760.0\\nShayne Whittington,Indiana Pacers,42.0,PF,25.0,6-11,250.0,Western Michigan,845059.0\\nJoe Young,Indiana Pacers,1.0,PG,23.0,6-2,180.0,Oregon,1007026.0\\nGiannis Antetokounmpo,Milwaukee Bucks,34.0,SF,21.0,6-11,222.0,,1953960.0\\nJerryd Bayless,Milwaukee Bucks,19.0,PG,27.0,6-3,200.0,Arizona,3000000.0\\nMichael Carter-Williams,Milwaukee Bucks,5.0,PG,24.0,6-6,190.0,Syracuse,2399040.0\\nJared Cunningham,Milwaukee Bucks,9.0,SG,25.0,6-4,195.0,Oregon State,947276.0\\nTyler Ennis,Milwaukee Bucks,11.0,PG,21.0,6-3,194.0,Syracuse,1662360.0\\nJohn Henson,Milwaukee Bucks,31.0,PF,25.0,6-11,229.0,North Carolina,2943221.0\\nDamien Inglis,Milwaukee Bucks,17.0,SF,21.0,6-8,246.0,,855000.0\\nO.J. Mayo,Milwaukee Bucks,3.0,SG,28.0,6-5,210.0,USC,8000000.0\\nKhris Middleton,Milwaukee Bucks,22.0,SG,24.0,6-8,234.0,Texas A&M,14700000.0\\nGreg Monroe,Milwaukee Bucks,15.0,C,26.0,6-11,265.0,Georgetown,16407500.0\\nSteve Novak,Milwaukee Bucks,6.0,SF,32.0,6-10,225.0,Marquette,295327.0\\nJohnny O'Bryant III,Milwaukee Bucks,77.0,PF,23.0,6-9,257.0,LSU,845059.0\\nJabari Parker,Milwaukee Bucks,12.0,PF,21.0,6-8,250.0,Duke,5152440.0\\nMiles Plumlee,Milwaukee Bucks,18.0,C,27.0,6-11,249.0,Duke,2109294.0\\nGreivis Vasquez,Milwaukee Bucks,21.0,PG,29.0,6-6,217.0,Maryland,6600000.0\\nRashad Vaughn,Milwaukee Bucks,20.0,SG,19.0,6-6,202.0,UNLV,1733040.0\\nJustin Anderson,Dallas Mavericks,1.0,SG,22.0,6-6,228.0,Virginia,1449000.0\\nJ.J. Barea,Dallas Mavericks,5.0,PG,31.0,6-0,185.0,Northeastern,4290000.0\\nJeremy Evans,Dallas Mavericks,21.0,SF,28.0,6-9,200.0,Western Kentucky,1100602.0\\nRaymond Felton,Dallas Mavericks,2.0,PG,31.0,6-1,205.0,North Carolina,3950313.0\\nDevin Harris,Dallas Mavericks,34.0,PG,33.0,6-3,185.0,Wisconsin,4053446.0\\nDavid Lee,Dallas Mavericks,42.0,PF,33.0,6-9,245.0,Florida,2085671.0\\nWesley Matthews,Dallas Mavericks,23.0,SG,29.0,6-5,220.0,Marquette,16407500.0\\nJaVale McGee,Dallas Mavericks,11.0,C,28.0,7-0,270.0,Nevada,1270964.0\\nSalah Mejri,Dallas Mavericks,50.0,C,29.0,7-2,245.0,,525093.0\\nDirk Nowitzki,Dallas Mavericks,41.0,PF,37.0,7-0,245.0,,8333334.0\\nZaza Pachulia,Dallas Mavericks,27.0,C,32.0,6-11,275.0,,5200000.0\\nChandler Parsons,Dallas Mavericks,25.0,SF,27.0,6-10,230.0,Florida,15361500.0\\nDwight Powell,Dallas Mavericks,7.0,PF,24.0,6-11,240.0,Stanford,845059.0\\nCharlie Villanueva,Dallas Mavericks,3.0,PF,31.0,6-11,232.0,Connecticut,947276.0\\nDeron Williams,Dallas Mavericks,8.0,PG,31.0,6-3,200.0,Illinois,5378974.0\\nTrevor Ariza,Houston Rockets,1.0,SF,30.0,6-8,215.0,UCLA,8193030.0\\nMichael Beasley,Houston Rockets,8.0,SF,27.0,6-10,235.0,Kansas State,306527.0\\nPatrick Beverley,Houston Rockets,2.0,PG,27.0,6-1,185.0,Arkansas,6486486.0\\nCorey Brewer,Houston Rockets,33.0,SG,30.0,6-9,186.0,Florida,8229375.0\\nClint Capela,Houston Rockets,15.0,PF,22.0,6-10,240.0,,1242720.0\\nSam Dekker,Houston Rockets,7.0,SF,22.0,6-9,230.0,Wisconsin,1646400.0\\nAndrew Goudelock,Houston Rockets,0.0,PG,27.0,6-3,200.0,Charleston,200600.0\\nJames Harden,Houston Rockets,13.0,SG,26.0,6-5,220.0,Arizona State,15756438.0\\nMontrezl Harrell,Houston Rockets,35.0,PF,22.0,6-8,240.0,Louisville,1000000.0\\nDwight Howard,Houston Rockets,12.0,C,30.0,6-11,265.0,,22359364.0\\nTerrence Jones,Houston Rockets,6.0,PF,24.0,6-9,252.0,Kentucky,2489530.0\\nK.J. McDaniels,Houston Rockets,32.0,SG,23.0,6-6,205.0,Clemson,3189794.0\\nDonatas Motiejunas,Houston Rockets,20.0,PF,25.0,7-0,222.0,,2288205.0\\nJosh Smith,Houston Rockets,5.0,C,30.0,6-9,225.0,,947276.0\\nJason Terry,Houston Rockets,31.0,SG,38.0,6-2,185.0,Arizona,947276.0\\nJordan Adams,Memphis Grizzlies,3.0,SG,21.0,6-5,209.0,UCLA,1404600.0\\nTony Allen,Memphis Grizzlies,9.0,SG,34.0,6-4,213.0,Oklahoma State,5158539.0\\nChris Andersen,Memphis Grizzlies,7.0,PF,37.0,6-10,245.0,Blinn College,5000000.0\\nMatt Barnes,Memphis Grizzlies,22.0,SF,36.0,6-7,226.0,UCLA,3542500.0\\nVince Carter,Memphis Grizzlies,15.0,SG,39.0,6-6,220.0,North Carolina,4088019.0\\nMike Conley,Memphis Grizzlies,11.0,PG,28.0,6-1,175.0,Ohio State,9588426.0\\nBryce Cotton,Memphis Grizzlies,8.0,PG,23.0,6-1,165.0,Providence,700902.0\\nJordan Farmar,Memphis Grizzlies,4.0,PG,29.0,6-2,180.0,UCLA,\\nMarc Gasol,Memphis Grizzlies,33.0,C,31.0,7-1,255.0,,19688000.0\\nJaMychal Green,Memphis Grizzlies,0.0,PF,25.0,6-9,227.0,Alabama,845059.0\\nP.J. Hairston,Memphis Grizzlies,19.0,SF,23.0,6-6,230.0,North Carolina,1201440.0\\nJarell Martin,Memphis Grizzlies,10.0,PF,22.0,6-10,239.0,LSU,1230840.0\\nRay McCallum,Memphis Grizzlies,5.0,PG,24.0,6-3,190.0,Detroit,\\nXavier Munford,Memphis Grizzlies,14.0,PG,24.0,6-3,180.0,Rhode Island,\\nZach Randolph,Memphis Grizzlies,50.0,PF,34.0,6-9,260.0,Michigan State,9638555.0\\nLance Stephenson,Memphis Grizzlies,1.0,SF,25.0,6-5,230.0,Cincinnati,9000000.0\\nAlex Stepheson,Memphis Grizzlies,35.0,PF,28.0,6-10,270.0,USC,\\nBrandan Wright,Memphis Grizzlies,34.0,PF,28.0,6-10,210.0,North Carolina,5464000.0\\nAlexis Ajinca,New Orleans Pelicans,42.0,C,28.0,7-2,248.0,,4389607.0\\nRyan Anderson,New Orleans Pelicans,33.0,PF,28.0,6-10,240.0,California,8500000.0\\nOmer Asik,New Orleans Pelicans,3.0,C,29.0,7-0,255.0,,9213483.0\\nLuke Babbitt,New Orleans Pelicans,8.0,SF,26.0,6-9,225.0,Nevada,1100602.0\\nNorris Cole,New Orleans Pelicans,30.0,PG,27.0,6-2,175.0,Cleveland State,3036927.0\\nDante Cunningham,New Orleans Pelicans,44.0,PF,29.0,6-8,230.0,Villanova,2850000.0\\nAnthony Davis,New Orleans Pelicans,23.0,PF,23.0,6-10,253.0,Kentucky,7070730.0\\nBryce Dejean-Jones,New Orleans Pelicans,31.0,SG,23.0,6-6,203.0,Iowa State,169883.0\\nToney Douglas,New Orleans Pelicans,16.0,PG,30.0,6-2,195.0,Florida State,1164858.0\\nJames Ennis,New Orleans Pelicans,4.0,SF,25.0,6-7,210.0,Long Beach State,845059.0\\nTyreke Evans,New Orleans Pelicans,1.0,SG,26.0,6-6,220.0,Memphis,10734586.0\\nTim Frazier,New Orleans Pelicans,2.0,PG,25.0,6-1,170.0,Penn State,845059.0\\nAlonzo Gee,New Orleans Pelicans,15.0,SF,29.0,6-6,225.0,Alabama,1320000.0\\nEric Gordon,New Orleans Pelicans,10.0,SG,27.0,6-4,215.0,Indiana,15514031.0\\nJordan Hamilton,New Orleans Pelicans,25.0,SG,25.0,6-7,220.0,Texas,1015421.0\\nJrue Holiday,New Orleans Pelicans,11.0,PG,25.0,6-4,205.0,UCLA,10595507.0\\nOrlando Johnson,New Orleans Pelicans,0.0,SG,27.0,6-5,220.0,UC Santa Barbara,55722.0\\nKendrick Perkins,New Orleans Pelicans,5.0,C,31.0,6-10,270.0,,947276.0\\nQuincy Pondexter,New Orleans Pelicans,20.0,SF,28.0,6-7,220.0,Washington,3382023.0\\nLaMarcus Aldridge,San Antonio Spurs,12.0,PF,30.0,6-11,240.0,Texas,19689000.0\\nKyle Anderson,San Antonio Spurs,1.0,SF,22.0,6-9,230.0,UCLA,1142880.0\\nMatt Bonner,San Antonio Spurs,15.0,C,36.0,6-10,235.0,Florida,947276.0\\nBoris Diaw,San Antonio Spurs,33.0,C,34.0,6-8,250.0,,7500000.0\\nTim Duncan,San Antonio Spurs,21.0,C,40.0,6-11,250.0,Wake Forest,5250000.0\\nManu Ginobili,San Antonio Spurs,20.0,SG,38.0,6-6,205.0,,2814000.0\\nDanny Green,San Antonio Spurs,14.0,SG,28.0,6-6,215.0,North Carolina,10000000.0\\nKawhi Leonard,San Antonio Spurs,2.0,SF,24.0,6-7,230.0,San Diego State,16407500.0\\nBoban Marjanovic,San Antonio Spurs,40.0,C,27.0,7-3,290.0,,1200000.0\\nKevin Martin,San Antonio Spurs,23.0,SG,33.0,6-7,199.0,Western Carolina,200600.0\\nAndre Miller,San Antonio Spurs,24.0,PG,40.0,6-3,200.0,Utah,250750.0\\nPatty Mills,San Antonio Spurs,8.0,PG,27.0,6-0,185.0,Saint Mary's,3578947.0\\nTony Parker,San Antonio Spurs,9.0,PG,34.0,6-2,185.0,,13437500.0\\nJonathon Simmons,San Antonio Spurs,17.0,SG,26.0,6-6,195.0,Houston,525093.0\\nDavid West,San Antonio Spurs,30.0,PF,35.0,6-9,250.0,Xavier,1499187.0\\nKent Bazemore,Atlanta Hawks,24.0,SF,26.0,6-5,201.0,Old Dominion,2000000.0\\nTim Hardaway Jr.,Atlanta Hawks,10.0,SG,24.0,6-6,205.0,Michigan,1304520.0\\nKirk Hinrich,Atlanta Hawks,12.0,SG,35.0,6-4,190.0,Kansas,2854940.0\\nAl Horford,Atlanta Hawks,15.0,C,30.0,6-10,245.0,Florida,12000000.0\\nKris Humphries,Atlanta Hawks,43.0,PF,31.0,6-9,235.0,Minnesota,1000000.0\\nKyle Korver,Atlanta Hawks,26.0,SG,35.0,6-7,212.0,Creighton,5746479.0\\nPaul Millsap,Atlanta Hawks,4.0,PF,31.0,6-8,246.0,Louisiana Tech,18671659.0\\nMike Muscala,Atlanta Hawks,31.0,PF,24.0,6-11,240.0,Bucknell,947276.0\\nLamar Patterson,Atlanta Hawks,13.0,SG,24.0,6-5,225.0,Pittsburgh,525093.0\\nDennis Schroder,Atlanta Hawks,17.0,PG,22.0,6-1,172.0,,1763400.0\\nMike Scott,Atlanta Hawks,32.0,PF,27.0,6-8,237.0,Virginia,3333333.0\\nThabo Sefolosha,Atlanta Hawks,25.0,SF,32.0,6-7,220.0,,4000000.0\\nTiago Splitter,Atlanta Hawks,11.0,C,31.0,6-11,245.0,,9756250.0\\nWalter Tavares,Atlanta Hawks,22.0,C,24.0,7-3,260.0,,1000000.0\\nJeff Teague,Atlanta Hawks,0.0,PG,27.0,6-2,186.0,Wake Forest,8000000.0\\nNicolas Batum,Charlotte Hornets,5.0,SG,27.0,6-8,200.0,,13125306.0\\nTroy Daniels,Charlotte Hornets,30.0,SG,24.0,6-4,205.0,Virginia Commonwealth,947276.0\\nJorge Gutierrez,Charlotte Hornets,12.0,PG,27.0,6-3,189.0,California,189455.0\\nTyler Hansbrough,Charlotte Hornets,50.0,PF,30.0,6-9,250.0,North Carolina,947276.0\\nAaron Harrison,Charlotte Hornets,9.0,SG,21.0,6-6,210.0,Kentucky,525093.0\\nSpencer Hawes,Charlotte Hornets,0.0,PF,28.0,7-1,245.0,Washington,6110034.0\\nAl Jefferson,Charlotte Hornets,25.0,C,31.0,6-10,289.0,,13500000.0\\nFrank Kaminsky III,Charlotte Hornets,44.0,C,23.0,7-0,240.0,Wisconsin,2612520.0\\nMichael Kidd-Gilchrist,Charlotte Hornets,14.0,SF,22.0,6-7,232.0,Kentucky,6331404.0\\nJeremy Lamb,Charlotte Hornets,3.0,SG,24.0,6-5,185.0,Connecticut,3034356.0\\nCourtney Lee,Charlotte Hornets,1.0,SG,30.0,6-5,200.0,Western Kentucky,5675000.0\\nJeremy Lin,Charlotte Hornets,7.0,PG,27.0,6-3,200.0,Harvard,2139000.0\\nKemba Walker,Charlotte Hornets,15.0,PG,26.0,6-1,184.0,Connecticut,12000000.0\\nMarvin Williams,Charlotte Hornets,2.0,PF,29.0,6-9,237.0,North Carolina,7000000.0\\nCody Zeller,Charlotte Hornets,40.0,C,23.0,7-0,240.0,Indiana,4204200.0\\nChris Bosh,Miami Heat,1.0,PF,32.0,6-11,235.0,Georgia Tech,22192730.0\\nLuol Deng,Miami Heat,9.0,SF,31.0,6-9,220.0,Duke,10151612.0\\nGoran Dragic,Miami Heat,7.0,PG,30.0,6-3,190.0,,14783000.0\\nGerald Green,Miami Heat,14.0,SF,30.0,6-7,205.0,,947276.0\\nUdonis Haslem,Miami Heat,40.0,PF,36.0,6-8,235.0,Florida,2854940.0\\nJoe Johnson,Miami Heat,2.0,SF,34.0,6-7,240.0,Arkansas,261894.0\\nTyler Johnson,Miami Heat,8.0,SG,24.0,6-4,186.0,Fresno State,845059.0\\nJosh McRoberts,Miami Heat,4.0,PF,29.0,6-10,240.0,Duke,5543725.0\\nJosh Richardson,Miami Heat,0.0,SG,22.0,6-6,200.0,Tennessee,525093.0\\nAmar'e Stoudemire,Miami Heat,5.0,PF,33.0,6-10,245.0,,947276.0\\nDwyane Wade,Miami Heat,3.0,SG,34.0,6-4,220.0,Marquette,20000000.0\\nBriante Weber,Miami Heat,12.0,PG,23.0,6-2,165.0,Virginia Commonwealth,\\nHassan Whiteside,Miami Heat,21.0,C,26.0,7-0,265.0,Marshall,981348.0\\nJustise Winslow,Miami Heat,20.0,SF,20.0,6-7,225.0,Duke,2481720.0\\nDorell Wright,Miami Heat,11.0,SF,30.0,6-9,205.0,,\\nDewayne Dedmon,Orlando Magic,3.0,C,26.0,7-0,245.0,USC,947276.0\\nEvan Fournier,Orlando Magic,10.0,SG,23.0,6-7,205.0,,2288205.0\\nAaron Gordon,Orlando Magic,0.0,PF,20.0,6-9,220.0,Arizona,4171680.0\\nMario Hezonja,Orlando Magic,23.0,SG,21.0,6-8,218.0,,3741480.0\\nErsan Ilyasova,Orlando Magic,7.0,PF,29.0,6-10,235.0,,7900000.0\\nBrandon Jennings,Orlando Magic,55.0,PG,26.0,6-1,169.0,,8344497.0\\nDevyn Marble,Orlando Magic,11.0,SF,23.0,6-6,200.0,Iowa,845059.0\\nShabazz Napier,Orlando Magic,13.0,PG,24.0,6-1,175.0,Connecticut,1294440.0\\nAndrew Nicholson,Orlando Magic,44.0,PF,26.0,6-9,250.0,St. Bonaventure,2380593.0\\nVictor Oladipo,Orlando Magic,5.0,SG,24.0,6-4,210.0,Indiana,5192520.0\\nElfrid Payton,Orlando Magic,4.0,PG,22.0,6-4,185.0,Louisiana-Lafayette,2505720.0\\nJason Smith,Orlando Magic,14.0,PF,30.0,7-0,240.0,Colorado State,4300000.0\\nNikola Vucevic,Orlando Magic,9.0,C,25.0,7-0,260.0,USC,11250000.0\\nC.J. Watson,Orlando Magic,32.0,PG,32.0,6-2,175.0,Tennessee,5000000.0\\nAlan Anderson,Washington Wizards,6.0,SG,33.0,6-6,220.0,Michigan State,4000000.0\\nBradley Beal,Washington Wizards,3.0,SG,22.0,6-5,207.0,Florida,5694674.0\\nJared Dudley,Washington Wizards,1.0,SF,30.0,6-7,225.0,Boston College,4375000.0\\nJarell Eddie,Washington Wizards,8.0,SG,24.0,6-7,218.0,Virginia Tech,561716.0\\nDrew Gooden,Washington Wizards,90.0,PF,34.0,6-10,250.0,Kansas,3300000.0\\nMarcin Gortat,Washington Wizards,13.0,C,32.0,6-11,240.0,,11217391.0\\nJJ Hickson,Washington Wizards,21.0,C,27.0,6-9,242.0,North Carolina State,273038.0\\nNene Hilario,Washington Wizards,42.0,C,33.0,6-11,250.0,,13000000.0\\nMarkieff Morris,Washington Wizards,5.0,PF,26.0,6-10,245.0,Kansas,8000000.0\\nKelly Oubre Jr.,Washington Wizards,12.0,SF,20.0,6-7,205.0,Kansas,1920240.0\\nOtto Porter Jr.,Washington Wizards,22.0,SF,23.0,6-8,198.0,Georgetown,4662960.0\\nRamon Sessions,Washington Wizards,7.0,PG,30.0,6-3,190.0,Nevada,2170465.0\\nGarrett Temple,Washington Wizards,17.0,SG,30.0,6-6,195.0,LSU,1100602.0\\nMarcus Thornton,Washington Wizards,15.0,SF,29.0,6-4,205.0,LSU,200600.0\\nJohn Wall,Washington Wizards,2.0,PG,25.0,6-4,195.0,Kentucky,15851950.0\\nDarrell Arthur,Denver Nuggets,0.0,PF,28.0,6-9,235.0,Kansas,2814000.0\\nD.J. Augustin,Denver Nuggets,12.0,PG,28.0,6-0,183.0,Texas,3000000.0\\nWill Barton,Denver Nuggets,5.0,SF,25.0,6-6,175.0,Memphis,3533333.0\\nWilson Chandler,Denver Nuggets,21.0,SF,29.0,6-8,225.0,DePaul,10449438.0\\nKenneth Faried,Denver Nuggets,35.0,PF,26.0,6-8,228.0,Morehead State,11235955.0\\nDanilo Gallinari,Denver Nuggets,8.0,SF,27.0,6-10,225.0,,14000000.0\\nGary Harris,Denver Nuggets,14.0,SG,21.0,6-4,210.0,Michigan State,1584480.0\\nNikola Jokic,Denver Nuggets,15.0,C,21.0,6-10,250.0,,1300000.0\\nJoffrey Lauvergne,Denver Nuggets,77.0,C,24.0,6-11,220.0,,1709719.0\\nMike Miller,Denver Nuggets,3.0,SG,36.0,6-8,218.0,Florida,947276.0\\nEmmanuel Mudiay,Denver Nuggets,0.0,PG,20.0,6-5,200.0,,3102240.0\\nJameer Nelson,Denver Nuggets,1.0,PG,34.0,6-0,190.0,Saint Joseph's,4345000.0\\nJusuf Nurkic,Denver Nuggets,23.0,C,21.0,7-0,280.0,,1842000.0\\nJaKarr Sampson,Denver Nuggets,9.0,SG,23.0,6-9,214.0,St. John's,258489.0\\nAxel Toupane,Denver Nuggets,6.0,SG,23.0,6-7,210.0,,\\nNemanja Bjelica,Minnesota Timberwolves,88.0,PF,28.0,6-10,240.0,,3950001.0\\nGorgui Dieng,Minnesota Timberwolves,5.0,C,26.0,6-11,241.0,Louisville,1474440.0\\nKevin Garnett,Minnesota Timberwolves,21.0,PF,40.0,6-11,240.0,,8500000.0\\nTyus Jones,Minnesota Timberwolves,1.0,PG,20.0,6-2,195.0,Duke,1282080.0\\nZach LaVine,Minnesota Timberwolves,8.0,PG,21.0,6-5,189.0,UCLA,2148360.0\\nShabazz Muhammad,Minnesota Timberwolves,15.0,SF,23.0,6-6,223.0,UCLA,2056920.0\\nAdreian Payne,Minnesota Timberwolves,33.0,PF,25.0,6-10,237.0,Michigan State,1938840.0\\nNikola Pekovic,Minnesota Timberwolves,14.0,C,30.0,6-11,307.0,,12100000.0\\nTayshaun Prince,Minnesota Timberwolves,12.0,SF,36.0,6-9,212.0,Kentucky,947276.0\\nRicky Rubio,Minnesota Timberwolves,9.0,PG,25.0,6-4,194.0,,12700000.0\\nDamjan Rudez,Minnesota Timberwolves,10.0,SF,29.0,6-9,230.0,,1149500.0\\nGreg Smith,Minnesota Timberwolves,4.0,PF,25.0,6-10,250.0,Fresno State,\\nKarl-Anthony Towns,Minnesota Timberwolves,32.0,C,20.0,7-0,244.0,Kentucky,5703600.0\\nAndrew Wiggins,Minnesota Timberwolves,22.0,SG,21.0,6-8,199.0,Kansas,5758680.0\\nSteven Adams,Oklahoma City Thunder,12.0,C,22.0,7-0,255.0,Pittsburgh,2279040.0\\nNick Collison,Oklahoma City Thunder,4.0,PF,35.0,6-10,255.0,Kansas,3750000.0\\nKevin Durant,Oklahoma City Thunder,35.0,SF,27.0,6-9,240.0,Texas,20158622.0\\nRandy Foye,Oklahoma City Thunder,6.0,SG,32.0,6-4,213.0,Villanova,3135000.0\\nJosh Huestis,Oklahoma City Thunder,34.0,SF,24.0,6-7,230.0,Stanford,1140240.0\\nSerge Ibaka,Oklahoma City Thunder,9.0,PF,26.0,6-10,245.0,,12250000.0\\nEnes Kanter,Oklahoma City Thunder,11.0,C,24.0,6-11,245.0,Kentucky,16407500.0\\nMitch McGary,Oklahoma City Thunder,33.0,PF,24.0,6-10,255.0,Michigan,1463040.0\\nNazr Mohammed,Oklahoma City Thunder,13.0,C,38.0,6-10,250.0,Kentucky,222888.0\\nAnthony Morrow,Oklahoma City Thunder,2.0,SG,30.0,6-5,210.0,Georgia Tech,3344000.0\\nCameron Payne,Oklahoma City Thunder,22.0,PG,21.0,6-3,185.0,Murray State,2021520.0\\nAndre Roberson,Oklahoma City Thunder,21.0,SG,24.0,6-7,210.0,Colorado,1210800.0\\nKyle Singler,Oklahoma City Thunder,5.0,SF,28.0,6-8,228.0,Duke,4500000.0\\nDion Waiters,Oklahoma City Thunder,3.0,SG,24.0,6-4,220.0,Syracuse,5138430.0\\nRussell Westbrook,Oklahoma City Thunder,0.0,PG,27.0,6-3,200.0,UCLA,16744218.0\\nCliff Alexander,Portland Trail Blazers,34.0,PF,20.0,6-8,240.0,Kansas,525093.0\\nAl-Farouq Aminu,Portland Trail Blazers,8.0,SF,25.0,6-9,215.0,Wake Forest,8042895.0\\nPat Connaughton,Portland Trail Blazers,5.0,SG,23.0,6-5,206.0,Notre Dame,625093.0\\nAllen Crabbe,Portland Trail Blazers,23.0,SG,24.0,6-6,210.0,California,947276.0\\nEd Davis,Portland Trail Blazers,17.0,C,27.0,6-10,240.0,North Carolina,6980802.0\\nMaurice Harkless,Portland Trail Blazers,4.0,SF,23.0,6-9,215.0,St. John's,2894059.0\\nGerald Henderson,Portland Trail Blazers,9.0,SG,28.0,6-5,215.0,Duke,6000000.0\\nChris Kaman,Portland Trail Blazers,35.0,C,34.0,7-0,265.0,Central Michigan,5016000.0\\nMeyers Leonard,Portland Trail Blazers,11.0,PF,24.0,7-1,245.0,Illinois,3075880.0\\nDamian Lillard,Portland Trail Blazers,0.0,PG,25.0,6-3,195.0,Weber State,4236287.0\\nC.J. McCollum,Portland Trail Blazers,3.0,SG,24.0,6-4,200.0,Lehigh,2525160.0\\nLuis Montero,Portland Trail Blazers,44.0,SG,23.0,6-7,185.0,Westchester CC,525093.0\\nMason Plumlee,Portland Trail Blazers,24.0,C,26.0,6-11,235.0,Duke,1415520.0\\nBrian Roberts,Portland Trail Blazers,2.0,PG,30.0,6-1,173.0,Dayton,2854940.0\\nNoah Vonleh,Portland Trail Blazers,21.0,PF,20.0,6-9,240.0,Indiana,2637720.0\\nTrevor Booker,Utah Jazz,33.0,PF,28.0,6-8,228.0,Clemson,4775000.0\\nTrey Burke,Utah Jazz,3.0,PG,23.0,6-1,191.0,Michigan,2658240.0\\nAlec Burks,Utah Jazz,10.0,SG,24.0,6-6,214.0,Colorado,9463484.0\\nDante Exum,Utah Jazz,11.0,PG,20.0,6-6,190.0,,3777720.0\\nDerrick Favors,Utah Jazz,15.0,PF,24.0,6-10,265.0,Georgia Tech,12000000.0\\nRudy Gobert,Utah Jazz,27.0,C,23.0,7-1,245.0,,1175880.0\\nGordon Hayward,Utah Jazz,20.0,SF,26.0,6-8,226.0,Butler,15409570.0\\nRodney Hood,Utah Jazz,5.0,SG,23.0,6-8,206.0,Duke,1348440.0\\nJoe Ingles,Utah Jazz,2.0,SF,28.0,6-8,226.0,,2050000.0\\nChris Johnson,Utah Jazz,23.0,SF,26.0,6-6,206.0,Dayton,981348.0\\nTrey Lyles,Utah Jazz,41.0,PF,20.0,6-10,234.0,Kentucky,2239800.0\\nShelvin Mack,Utah Jazz,8.0,PG,26.0,6-3,203.0,Butler,2433333.0\\nRaul Neto,Utah Jazz,25.0,PG,24.0,6-1,179.0,,900000.0\\nTibor Pleiss,Utah Jazz,21.0,C,26.0,7-3,256.0,,2900000.0\\nJeff Withey,Utah Jazz,24.0,C,26.0,7-0,231.0,Kansas,947276.0\\n,,,,,,,,\\n\"}"
            ]
          },
          "metadata": {},
          "execution_count": 2
        }
      ]
    },
    {
      "cell_type": "code",
      "metadata": {
        "id": "12bj1wfLhd12"
      },
      "source": [
        "df = pd.read_csv(\"nba.csv\")"
      ],
      "execution_count": null,
      "outputs": []
    },
    {
      "cell_type": "code",
      "metadata": {
        "colab": {
          "base_uri": "https://localhost:8080/",
          "height": 206
        },
        "id": "InrA7w72jJaU",
        "outputId": "870324d5-577a-4270-feff-cd63e930db11"
      },
      "source": [
        "df.head()"
      ],
      "execution_count": null,
      "outputs": [
        {
          "output_type": "execute_result",
          "data": {
            "text/html": [
              "<div>\n",
              "<style scoped>\n",
              "    .dataframe tbody tr th:only-of-type {\n",
              "        vertical-align: middle;\n",
              "    }\n",
              "\n",
              "    .dataframe tbody tr th {\n",
              "        vertical-align: top;\n",
              "    }\n",
              "\n",
              "    .dataframe thead th {\n",
              "        text-align: right;\n",
              "    }\n",
              "</style>\n",
              "<table border=\"1\" class=\"dataframe\">\n",
              "  <thead>\n",
              "    <tr style=\"text-align: right;\">\n",
              "      <th></th>\n",
              "      <th>Name</th>\n",
              "      <th>Team</th>\n",
              "      <th>Number</th>\n",
              "      <th>Position</th>\n",
              "      <th>Age</th>\n",
              "      <th>Height</th>\n",
              "      <th>Weight</th>\n",
              "      <th>College</th>\n",
              "      <th>Salary</th>\n",
              "    </tr>\n",
              "  </thead>\n",
              "  <tbody>\n",
              "    <tr>\n",
              "      <th>0</th>\n",
              "      <td>Avery Bradley</td>\n",
              "      <td>Boston Celtics</td>\n",
              "      <td>0.0</td>\n",
              "      <td>PG</td>\n",
              "      <td>25.0</td>\n",
              "      <td>6-2</td>\n",
              "      <td>180.0</td>\n",
              "      <td>Texas</td>\n",
              "      <td>7730337.0</td>\n",
              "    </tr>\n",
              "    <tr>\n",
              "      <th>1</th>\n",
              "      <td>Jae Crowder</td>\n",
              "      <td>Boston Celtics</td>\n",
              "      <td>99.0</td>\n",
              "      <td>SF</td>\n",
              "      <td>25.0</td>\n",
              "      <td>6-6</td>\n",
              "      <td>235.0</td>\n",
              "      <td>Marquette</td>\n",
              "      <td>6796117.0</td>\n",
              "    </tr>\n",
              "    <tr>\n",
              "      <th>2</th>\n",
              "      <td>John Holland</td>\n",
              "      <td>Boston Celtics</td>\n",
              "      <td>30.0</td>\n",
              "      <td>SG</td>\n",
              "      <td>27.0</td>\n",
              "      <td>6-5</td>\n",
              "      <td>205.0</td>\n",
              "      <td>Boston University</td>\n",
              "      <td>NaN</td>\n",
              "    </tr>\n",
              "    <tr>\n",
              "      <th>3</th>\n",
              "      <td>R.J. Hunter</td>\n",
              "      <td>Boston Celtics</td>\n",
              "      <td>28.0</td>\n",
              "      <td>SG</td>\n",
              "      <td>22.0</td>\n",
              "      <td>6-5</td>\n",
              "      <td>185.0</td>\n",
              "      <td>Georgia State</td>\n",
              "      <td>1148640.0</td>\n",
              "    </tr>\n",
              "    <tr>\n",
              "      <th>4</th>\n",
              "      <td>Jonas Jerebko</td>\n",
              "      <td>Boston Celtics</td>\n",
              "      <td>8.0</td>\n",
              "      <td>PF</td>\n",
              "      <td>29.0</td>\n",
              "      <td>6-10</td>\n",
              "      <td>231.0</td>\n",
              "      <td>NaN</td>\n",
              "      <td>5000000.0</td>\n",
              "    </tr>\n",
              "  </tbody>\n",
              "</table>\n",
              "</div>"
            ],
            "text/plain": [
              "            Name            Team  Number  ... Weight            College     Salary\n",
              "0  Avery Bradley  Boston Celtics     0.0  ...  180.0              Texas  7730337.0\n",
              "1    Jae Crowder  Boston Celtics    99.0  ...  235.0          Marquette  6796117.0\n",
              "2   John Holland  Boston Celtics    30.0  ...  205.0  Boston University        NaN\n",
              "3    R.J. Hunter  Boston Celtics    28.0  ...  185.0      Georgia State  1148640.0\n",
              "4  Jonas Jerebko  Boston Celtics     8.0  ...  231.0                NaN  5000000.0\n",
              "\n",
              "[5 rows x 9 columns]"
            ]
          },
          "metadata": {},
          "execution_count": 4
        }
      ]
    },
    {
      "cell_type": "code",
      "metadata": {
        "colab": {
          "base_uri": "https://localhost:8080/",
          "height": 206
        },
        "id": "QsUl0-BknVeN",
        "outputId": "714ed608-be6d-4df6-f1b8-3de22e757223"
      },
      "source": [
        "df.tail()"
      ],
      "execution_count": null,
      "outputs": [
        {
          "output_type": "execute_result",
          "data": {
            "text/html": [
              "<div>\n",
              "<style scoped>\n",
              "    .dataframe tbody tr th:only-of-type {\n",
              "        vertical-align: middle;\n",
              "    }\n",
              "\n",
              "    .dataframe tbody tr th {\n",
              "        vertical-align: top;\n",
              "    }\n",
              "\n",
              "    .dataframe thead th {\n",
              "        text-align: right;\n",
              "    }\n",
              "</style>\n",
              "<table border=\"1\" class=\"dataframe\">\n",
              "  <thead>\n",
              "    <tr style=\"text-align: right;\">\n",
              "      <th></th>\n",
              "      <th>Name</th>\n",
              "      <th>Team</th>\n",
              "      <th>Number</th>\n",
              "      <th>Position</th>\n",
              "      <th>Age</th>\n",
              "      <th>Height</th>\n",
              "      <th>Weight</th>\n",
              "      <th>College</th>\n",
              "      <th>Salary</th>\n",
              "    </tr>\n",
              "  </thead>\n",
              "  <tbody>\n",
              "    <tr>\n",
              "      <th>453</th>\n",
              "      <td>Shelvin Mack</td>\n",
              "      <td>Utah Jazz</td>\n",
              "      <td>8.0</td>\n",
              "      <td>PG</td>\n",
              "      <td>26.0</td>\n",
              "      <td>6-3</td>\n",
              "      <td>203.0</td>\n",
              "      <td>Butler</td>\n",
              "      <td>2433333.0</td>\n",
              "    </tr>\n",
              "    <tr>\n",
              "      <th>454</th>\n",
              "      <td>Raul Neto</td>\n",
              "      <td>Utah Jazz</td>\n",
              "      <td>25.0</td>\n",
              "      <td>PG</td>\n",
              "      <td>24.0</td>\n",
              "      <td>6-1</td>\n",
              "      <td>179.0</td>\n",
              "      <td>NaN</td>\n",
              "      <td>900000.0</td>\n",
              "    </tr>\n",
              "    <tr>\n",
              "      <th>455</th>\n",
              "      <td>Tibor Pleiss</td>\n",
              "      <td>Utah Jazz</td>\n",
              "      <td>21.0</td>\n",
              "      <td>C</td>\n",
              "      <td>26.0</td>\n",
              "      <td>7-3</td>\n",
              "      <td>256.0</td>\n",
              "      <td>NaN</td>\n",
              "      <td>2900000.0</td>\n",
              "    </tr>\n",
              "    <tr>\n",
              "      <th>456</th>\n",
              "      <td>Jeff Withey</td>\n",
              "      <td>Utah Jazz</td>\n",
              "      <td>24.0</td>\n",
              "      <td>C</td>\n",
              "      <td>26.0</td>\n",
              "      <td>7-0</td>\n",
              "      <td>231.0</td>\n",
              "      <td>Kansas</td>\n",
              "      <td>947276.0</td>\n",
              "    </tr>\n",
              "    <tr>\n",
              "      <th>457</th>\n",
              "      <td>NaN</td>\n",
              "      <td>NaN</td>\n",
              "      <td>NaN</td>\n",
              "      <td>NaN</td>\n",
              "      <td>NaN</td>\n",
              "      <td>NaN</td>\n",
              "      <td>NaN</td>\n",
              "      <td>NaN</td>\n",
              "      <td>NaN</td>\n",
              "    </tr>\n",
              "  </tbody>\n",
              "</table>\n",
              "</div>"
            ],
            "text/plain": [
              "             Name       Team  Number Position  ...  Height Weight  College     Salary\n",
              "453  Shelvin Mack  Utah Jazz     8.0       PG  ...     6-3  203.0   Butler  2433333.0\n",
              "454     Raul Neto  Utah Jazz    25.0       PG  ...     6-1  179.0      NaN   900000.0\n",
              "455  Tibor Pleiss  Utah Jazz    21.0        C  ...     7-3  256.0      NaN  2900000.0\n",
              "456   Jeff Withey  Utah Jazz    24.0        C  ...     7-0  231.0   Kansas   947276.0\n",
              "457           NaN        NaN     NaN      NaN  ...     NaN    NaN      NaN        NaN\n",
              "\n",
              "[5 rows x 9 columns]"
            ]
          },
          "metadata": {},
          "execution_count": 5
        }
      ]
    },
    {
      "cell_type": "code",
      "metadata": {
        "colab": {
          "base_uri": "https://localhost:8080/"
        },
        "id": "uuucQw5bnvRk",
        "outputId": "0be90a00-5d7e-4a24-c2c9-0e359272f67e"
      },
      "source": [
        "df.index"
      ],
      "execution_count": null,
      "outputs": [
        {
          "output_type": "execute_result",
          "data": {
            "text/plain": [
              "RangeIndex(start=0, stop=458, step=1)"
            ]
          },
          "metadata": {},
          "execution_count": 6
        }
      ]
    },
    {
      "cell_type": "code",
      "metadata": {
        "colab": {
          "base_uri": "https://localhost:8080/"
        },
        "id": "VzEbTHr8n4pQ",
        "outputId": "ed4dee11-cfdc-49ab-876a-93be346e3328"
      },
      "source": [
        "df.values"
      ],
      "execution_count": null,
      "outputs": [
        {
          "output_type": "execute_result",
          "data": {
            "text/plain": [
              "array([['Avery Bradley', 'Boston Celtics', 0.0, ..., 180.0, 'Texas',\n",
              "        7730337.0],\n",
              "       ['Jae Crowder', 'Boston Celtics', 99.0, ..., 235.0, 'Marquette',\n",
              "        6796117.0],\n",
              "       ['John Holland', 'Boston Celtics', 30.0, ..., 205.0,\n",
              "        'Boston University', nan],\n",
              "       ...,\n",
              "       ['Tibor Pleiss', 'Utah Jazz', 21.0, ..., 256.0, nan, 2900000.0],\n",
              "       ['Jeff Withey', 'Utah Jazz', 24.0, ..., 231.0, 'Kansas', 947276.0],\n",
              "       [nan, nan, nan, ..., nan, nan, nan]], dtype=object)"
            ]
          },
          "metadata": {},
          "execution_count": 7
        }
      ]
    },
    {
      "cell_type": "code",
      "metadata": {
        "colab": {
          "base_uri": "https://localhost:8080/"
        },
        "id": "Lj7CZxVHocUY",
        "outputId": "424801b1-a44f-4d0c-9d82-8a9dfdbe535e"
      },
      "source": [
        "df.shape"
      ],
      "execution_count": null,
      "outputs": [
        {
          "output_type": "execute_result",
          "data": {
            "text/plain": [
              "(458, 9)"
            ]
          },
          "metadata": {},
          "execution_count": 8
        }
      ]
    },
    {
      "cell_type": "code",
      "metadata": {
        "colab": {
          "base_uri": "https://localhost:8080/"
        },
        "id": "PbZ27cIWo4ja",
        "outputId": "a06d357a-0824-4696-9c5d-32d759ff86e6"
      },
      "source": [
        "df.dtypes"
      ],
      "execution_count": null,
      "outputs": [
        {
          "output_type": "execute_result",
          "data": {
            "text/plain": [
              "Name         object\n",
              "Team         object\n",
              "Number      float64\n",
              "Position     object\n",
              "Age         float64\n",
              "Height       object\n",
              "Weight      float64\n",
              "College      object\n",
              "Salary      float64\n",
              "dtype: object"
            ]
          },
          "metadata": {},
          "execution_count": 10
        }
      ]
    },
    {
      "cell_type": "code",
      "metadata": {
        "colab": {
          "base_uri": "https://localhost:8080/"
        },
        "id": "O4fXL6LYpv-A",
        "outputId": "c5a9b0e9-393e-42a9-dcc4-edaca22760fd"
      },
      "source": [
        "df.columns"
      ],
      "execution_count": null,
      "outputs": [
        {
          "output_type": "execute_result",
          "data": {
            "text/plain": [
              "Index(['Name', 'Team', 'Number', 'Position', 'Age', 'Height', 'Weight',\n",
              "       'College', 'Salary'],\n",
              "      dtype='object')"
            ]
          },
          "metadata": {},
          "execution_count": 11
        }
      ]
    },
    {
      "cell_type": "code",
      "metadata": {
        "colab": {
          "base_uri": "https://localhost:8080/"
        },
        "id": "RkyRSssewKE5",
        "outputId": "10de0050-d7b6-42d9-a3a8-19b28d5177a7"
      },
      "source": [
        "df.axes"
      ],
      "execution_count": null,
      "outputs": [
        {
          "output_type": "execute_result",
          "data": {
            "text/plain": [
              "[RangeIndex(start=0, stop=458, step=1),\n",
              " Index(['Name', 'Team', 'Number', 'Position', 'Age', 'Height', 'Weight',\n",
              "        'College', 'Salary'],\n",
              "       dtype='object')]"
            ]
          },
          "metadata": {},
          "execution_count": 12
        }
      ]
    },
    {
      "cell_type": "code",
      "metadata": {
        "colab": {
          "base_uri": "https://localhost:8080/"
        },
        "id": "kr3ftKgKwfEg",
        "outputId": "0042a68e-3090-4690-b0c3-9efa410f07ad"
      },
      "source": [
        "df.info()"
      ],
      "execution_count": null,
      "outputs": [
        {
          "output_type": "stream",
          "name": "stdout",
          "text": [
            "<class 'pandas.core.frame.DataFrame'>\n",
            "RangeIndex: 458 entries, 0 to 457\n",
            "Data columns (total 9 columns):\n",
            " #   Column    Non-Null Count  Dtype  \n",
            "---  ------    --------------  -----  \n",
            " 0   Name      457 non-null    object \n",
            " 1   Team      457 non-null    object \n",
            " 2   Number    457 non-null    float64\n",
            " 3   Position  457 non-null    object \n",
            " 4   Age       457 non-null    float64\n",
            " 5   Height    457 non-null    object \n",
            " 6   Weight    457 non-null    float64\n",
            " 7   College   373 non-null    object \n",
            " 8   Salary    446 non-null    float64\n",
            "dtypes: float64(4), object(5)\n",
            "memory usage: 32.3+ KB\n"
          ]
        }
      ]
    },
    {
      "cell_type": "code",
      "metadata": {
        "id": "rol6WwK-_Mvy"
      },
      "source": [
        "Perbedaan antara DataFrame dan Series untuk shared method"
      ],
      "execution_count": null,
      "outputs": []
    },
    {
      "cell_type": "code",
      "metadata": {
        "colab": {
          "resources": {
            "http://localhost:8080/nbextensions/google.colab/files.js": {
              "data": "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",
              "ok": true,
              "headers": [
                [
                  "content-type",
                  "application/javascript"
                ]
              ],
              "status": 200,
              "status_text": ""
            }
          },
          "base_uri": "https://localhost:8080/",
          "height": 111
        },
        "id": "pDG6UvHl_Q_A",
        "outputId": "2acd44ef-e265-44da-c3e9-d6b1df1f949b"
      },
      "source": [
        "from google.colab import files\n",
        "files.upload()"
      ],
      "execution_count": null,
      "outputs": [
        {
          "output_type": "display_data",
          "data": {
            "text/html": [
              "\n",
              "     <input type=\"file\" id=\"files-9db8d73d-5c87-49a4-bcb2-cf6d0b01b6f7\" name=\"files[]\" multiple disabled\n",
              "        style=\"border:none\" />\n",
              "     <output id=\"result-9db8d73d-5c87-49a4-bcb2-cf6d0b01b6f7\">\n",
              "      Upload widget is only available when the cell has been executed in the\n",
              "      current browser session. Please rerun this cell to enable.\n",
              "      </output>\n",
              "      <script src=\"/nbextensions/google.colab/files.js\"></script> "
            ],
            "text/plain": [
              "<IPython.core.display.HTML object>"
            ]
          },
          "metadata": {}
        },
        {
          "output_type": "stream",
          "name": "stdout",
          "text": [
            "Saving revenue.csv to revenue.csv\n"
          ]
        },
        {
          "output_type": "execute_result",
          "data": {
            "text/plain": [
              "{'revenue.csv': b'Date,New York,Los Angeles,Miami\\r\\n1/1/16,985,122,499\\r\\n1/2/16,738,788,534\\r\\n1/3/16,14,20,933\\r\\n1/4/16,730,904,885\\r\\n1/5/16,114,71,253\\r\\n1/6/16,936,502,497\\r\\n1/7/16,123,996,115\\r\\n1/8/16,935,492,886\\r\\n1/9/16,846,954,823\\r\\n1/10/16,54,285,216'}"
            ]
          },
          "metadata": {},
          "execution_count": 15
        }
      ]
    },
    {
      "cell_type": "code",
      "metadata": {
        "colab": {
          "base_uri": "https://localhost:8080/",
          "height": 399
        },
        "id": "r_eLo-V-_bFi",
        "outputId": "9d9713c0-6640-4333-b6f3-301452ff6161"
      },
      "source": [
        "df = pd.read_csv(\"revenue.csv\", index_col=\"Date\")\n",
        "df.head()"
      ],
      "execution_count": null,
      "outputs": [
        {
          "output_type": "error",
          "ename": "FileNotFoundError",
          "evalue": "ignored",
          "traceback": [
            "\u001b[0;31m---------------------------------------------------------------------------\u001b[0m",
            "\u001b[0;31mFileNotFoundError\u001b[0m                         Traceback (most recent call last)",
            "\u001b[0;32m<ipython-input-10-7bb62c4fbfe7>\u001b[0m in \u001b[0;36m<module>\u001b[0;34m()\u001b[0m\n\u001b[0;32m----> 1\u001b[0;31m \u001b[0mdf\u001b[0m \u001b[0;34m=\u001b[0m \u001b[0mpd\u001b[0m\u001b[0;34m.\u001b[0m\u001b[0mread_csv\u001b[0m\u001b[0;34m(\u001b[0m\u001b[0;34m\"revenue.csv\"\u001b[0m\u001b[0;34m,\u001b[0m \u001b[0mindex_col\u001b[0m\u001b[0;34m=\u001b[0m\u001b[0;34m\"Date\"\u001b[0m\u001b[0;34m)\u001b[0m\u001b[0;34m\u001b[0m\u001b[0;34m\u001b[0m\u001b[0m\n\u001b[0m\u001b[1;32m      2\u001b[0m \u001b[0mdf\u001b[0m\u001b[0;34m.\u001b[0m\u001b[0mhead\u001b[0m\u001b[0;34m(\u001b[0m\u001b[0;34m)\u001b[0m\u001b[0;34m\u001b[0m\u001b[0;34m\u001b[0m\u001b[0m\n",
            "\u001b[0;32m/usr/local/lib/python3.7/dist-packages/pandas/io/parsers.py\u001b[0m in \u001b[0;36mread_csv\u001b[0;34m(filepath_or_buffer, sep, delimiter, header, names, index_col, usecols, squeeze, prefix, mangle_dupe_cols, dtype, engine, converters, true_values, false_values, skipinitialspace, skiprows, skipfooter, nrows, na_values, keep_default_na, na_filter, verbose, skip_blank_lines, parse_dates, infer_datetime_format, keep_date_col, date_parser, dayfirst, cache_dates, iterator, chunksize, compression, thousands, decimal, lineterminator, quotechar, quoting, doublequote, escapechar, comment, encoding, dialect, error_bad_lines, warn_bad_lines, delim_whitespace, low_memory, memory_map, float_precision)\u001b[0m\n\u001b[1;32m    686\u001b[0m     )\n\u001b[1;32m    687\u001b[0m \u001b[0;34m\u001b[0m\u001b[0m\n\u001b[0;32m--> 688\u001b[0;31m     \u001b[0;32mreturn\u001b[0m \u001b[0m_read\u001b[0m\u001b[0;34m(\u001b[0m\u001b[0mfilepath_or_buffer\u001b[0m\u001b[0;34m,\u001b[0m \u001b[0mkwds\u001b[0m\u001b[0;34m)\u001b[0m\u001b[0;34m\u001b[0m\u001b[0;34m\u001b[0m\u001b[0m\n\u001b[0m\u001b[1;32m    689\u001b[0m \u001b[0;34m\u001b[0m\u001b[0m\n\u001b[1;32m    690\u001b[0m \u001b[0;34m\u001b[0m\u001b[0m\n",
            "\u001b[0;32m/usr/local/lib/python3.7/dist-packages/pandas/io/parsers.py\u001b[0m in \u001b[0;36m_read\u001b[0;34m(filepath_or_buffer, kwds)\u001b[0m\n\u001b[1;32m    452\u001b[0m \u001b[0;34m\u001b[0m\u001b[0m\n\u001b[1;32m    453\u001b[0m     \u001b[0;31m# Create the parser.\u001b[0m\u001b[0;34m\u001b[0m\u001b[0;34m\u001b[0m\u001b[0;34m\u001b[0m\u001b[0m\n\u001b[0;32m--> 454\u001b[0;31m     \u001b[0mparser\u001b[0m \u001b[0;34m=\u001b[0m \u001b[0mTextFileReader\u001b[0m\u001b[0;34m(\u001b[0m\u001b[0mfp_or_buf\u001b[0m\u001b[0;34m,\u001b[0m \u001b[0;34m**\u001b[0m\u001b[0mkwds\u001b[0m\u001b[0;34m)\u001b[0m\u001b[0;34m\u001b[0m\u001b[0;34m\u001b[0m\u001b[0m\n\u001b[0m\u001b[1;32m    455\u001b[0m \u001b[0;34m\u001b[0m\u001b[0m\n\u001b[1;32m    456\u001b[0m     \u001b[0;32mif\u001b[0m \u001b[0mchunksize\u001b[0m \u001b[0;32mor\u001b[0m \u001b[0miterator\u001b[0m\u001b[0;34m:\u001b[0m\u001b[0;34m\u001b[0m\u001b[0;34m\u001b[0m\u001b[0m\n",
            "\u001b[0;32m/usr/local/lib/python3.7/dist-packages/pandas/io/parsers.py\u001b[0m in \u001b[0;36m__init__\u001b[0;34m(self, f, engine, **kwds)\u001b[0m\n\u001b[1;32m    946\u001b[0m             \u001b[0mself\u001b[0m\u001b[0;34m.\u001b[0m\u001b[0moptions\u001b[0m\u001b[0;34m[\u001b[0m\u001b[0;34m\"has_index_names\"\u001b[0m\u001b[0;34m]\u001b[0m \u001b[0;34m=\u001b[0m \u001b[0mkwds\u001b[0m\u001b[0;34m[\u001b[0m\u001b[0;34m\"has_index_names\"\u001b[0m\u001b[0;34m]\u001b[0m\u001b[0;34m\u001b[0m\u001b[0;34m\u001b[0m\u001b[0m\n\u001b[1;32m    947\u001b[0m \u001b[0;34m\u001b[0m\u001b[0m\n\u001b[0;32m--> 948\u001b[0;31m         \u001b[0mself\u001b[0m\u001b[0;34m.\u001b[0m\u001b[0m_make_engine\u001b[0m\u001b[0;34m(\u001b[0m\u001b[0mself\u001b[0m\u001b[0;34m.\u001b[0m\u001b[0mengine\u001b[0m\u001b[0;34m)\u001b[0m\u001b[0;34m\u001b[0m\u001b[0;34m\u001b[0m\u001b[0m\n\u001b[0m\u001b[1;32m    949\u001b[0m \u001b[0;34m\u001b[0m\u001b[0m\n\u001b[1;32m    950\u001b[0m     \u001b[0;32mdef\u001b[0m \u001b[0mclose\u001b[0m\u001b[0;34m(\u001b[0m\u001b[0mself\u001b[0m\u001b[0;34m)\u001b[0m\u001b[0;34m:\u001b[0m\u001b[0;34m\u001b[0m\u001b[0;34m\u001b[0m\u001b[0m\n",
            "\u001b[0;32m/usr/local/lib/python3.7/dist-packages/pandas/io/parsers.py\u001b[0m in \u001b[0;36m_make_engine\u001b[0;34m(self, engine)\u001b[0m\n\u001b[1;32m   1178\u001b[0m     \u001b[0;32mdef\u001b[0m \u001b[0m_make_engine\u001b[0m\u001b[0;34m(\u001b[0m\u001b[0mself\u001b[0m\u001b[0;34m,\u001b[0m \u001b[0mengine\u001b[0m\u001b[0;34m=\u001b[0m\u001b[0;34m\"c\"\u001b[0m\u001b[0;34m)\u001b[0m\u001b[0;34m:\u001b[0m\u001b[0;34m\u001b[0m\u001b[0;34m\u001b[0m\u001b[0m\n\u001b[1;32m   1179\u001b[0m         \u001b[0;32mif\u001b[0m \u001b[0mengine\u001b[0m \u001b[0;34m==\u001b[0m \u001b[0;34m\"c\"\u001b[0m\u001b[0;34m:\u001b[0m\u001b[0;34m\u001b[0m\u001b[0;34m\u001b[0m\u001b[0m\n\u001b[0;32m-> 1180\u001b[0;31m             \u001b[0mself\u001b[0m\u001b[0;34m.\u001b[0m\u001b[0m_engine\u001b[0m \u001b[0;34m=\u001b[0m \u001b[0mCParserWrapper\u001b[0m\u001b[0;34m(\u001b[0m\u001b[0mself\u001b[0m\u001b[0;34m.\u001b[0m\u001b[0mf\u001b[0m\u001b[0;34m,\u001b[0m \u001b[0;34m**\u001b[0m\u001b[0mself\u001b[0m\u001b[0;34m.\u001b[0m\u001b[0moptions\u001b[0m\u001b[0;34m)\u001b[0m\u001b[0;34m\u001b[0m\u001b[0;34m\u001b[0m\u001b[0m\n\u001b[0m\u001b[1;32m   1181\u001b[0m         \u001b[0;32melse\u001b[0m\u001b[0;34m:\u001b[0m\u001b[0;34m\u001b[0m\u001b[0;34m\u001b[0m\u001b[0m\n\u001b[1;32m   1182\u001b[0m             \u001b[0;32mif\u001b[0m \u001b[0mengine\u001b[0m \u001b[0;34m==\u001b[0m \u001b[0;34m\"python\"\u001b[0m\u001b[0;34m:\u001b[0m\u001b[0;34m\u001b[0m\u001b[0;34m\u001b[0m\u001b[0m\n",
            "\u001b[0;32m/usr/local/lib/python3.7/dist-packages/pandas/io/parsers.py\u001b[0m in \u001b[0;36m__init__\u001b[0;34m(self, src, **kwds)\u001b[0m\n\u001b[1;32m   2008\u001b[0m         \u001b[0mkwds\u001b[0m\u001b[0;34m[\u001b[0m\u001b[0;34m\"usecols\"\u001b[0m\u001b[0;34m]\u001b[0m \u001b[0;34m=\u001b[0m \u001b[0mself\u001b[0m\u001b[0;34m.\u001b[0m\u001b[0musecols\u001b[0m\u001b[0;34m\u001b[0m\u001b[0;34m\u001b[0m\u001b[0m\n\u001b[1;32m   2009\u001b[0m \u001b[0;34m\u001b[0m\u001b[0m\n\u001b[0;32m-> 2010\u001b[0;31m         \u001b[0mself\u001b[0m\u001b[0;34m.\u001b[0m\u001b[0m_reader\u001b[0m \u001b[0;34m=\u001b[0m \u001b[0mparsers\u001b[0m\u001b[0;34m.\u001b[0m\u001b[0mTextReader\u001b[0m\u001b[0;34m(\u001b[0m\u001b[0msrc\u001b[0m\u001b[0;34m,\u001b[0m \u001b[0;34m**\u001b[0m\u001b[0mkwds\u001b[0m\u001b[0;34m)\u001b[0m\u001b[0;34m\u001b[0m\u001b[0;34m\u001b[0m\u001b[0m\n\u001b[0m\u001b[1;32m   2011\u001b[0m         \u001b[0mself\u001b[0m\u001b[0;34m.\u001b[0m\u001b[0munnamed_cols\u001b[0m \u001b[0;34m=\u001b[0m \u001b[0mself\u001b[0m\u001b[0;34m.\u001b[0m\u001b[0m_reader\u001b[0m\u001b[0;34m.\u001b[0m\u001b[0munnamed_cols\u001b[0m\u001b[0;34m\u001b[0m\u001b[0;34m\u001b[0m\u001b[0m\n\u001b[1;32m   2012\u001b[0m \u001b[0;34m\u001b[0m\u001b[0m\n",
            "\u001b[0;32mpandas/_libs/parsers.pyx\u001b[0m in \u001b[0;36mpandas._libs.parsers.TextReader.__cinit__\u001b[0;34m()\u001b[0m\n",
            "\u001b[0;32mpandas/_libs/parsers.pyx\u001b[0m in \u001b[0;36mpandas._libs.parsers.TextReader._setup_parser_source\u001b[0;34m()\u001b[0m\n",
            "\u001b[0;31mFileNotFoundError\u001b[0m: [Errno 2] No such file or directory: 'revenue.csv'"
          ]
        }
      ]
    },
    {
      "cell_type": "code",
      "metadata": {
        "colab": {
          "base_uri": "https://localhost:8080/"
        },
        "id": "6KkvK5y6_l-W",
        "outputId": "4869b88e-27d5-4a33-af7a-995b66ce9627"
      },
      "source": [
        "sr = pd.Series([1, 1, 2, 3])\n",
        "sr"
      ],
      "execution_count": null,
      "outputs": [
        {
          "output_type": "execute_result",
          "data": {
            "text/plain": [
              "0    1\n",
              "1    1\n",
              "2    2\n",
              "3    3\n",
              "dtype: int64"
            ]
          },
          "metadata": {},
          "execution_count": 18
        }
      ]
    },
    {
      "cell_type": "code",
      "metadata": {
        "colab": {
          "base_uri": "https://localhost:8080/"
        },
        "id": "Tnf0OwSCAm3K",
        "outputId": "f5bc0761-12a6-4c32-dfc2-a90ab3537936"
      },
      "source": [
        "sr.sum()"
      ],
      "execution_count": null,
      "outputs": [
        {
          "output_type": "execute_result",
          "data": {
            "text/plain": [
              "7"
            ]
          },
          "metadata": {},
          "execution_count": 19
        }
      ]
    },
    {
      "cell_type": "code",
      "metadata": {
        "colab": {
          "base_uri": "https://localhost:8080/"
        },
        "id": "BaMdHaHzAwVZ",
        "outputId": "ab4dd19b-214a-45b9-c146-ddac5ba37df5"
      },
      "source": [
        "df.sum(axis=0)"
      ],
      "execution_count": null,
      "outputs": [
        {
          "output_type": "execute_result",
          "data": {
            "text/plain": [
              "New York       5475\n",
              "Los Angeles    5134\n",
              "Miami          5641\n",
              "dtype: int64"
            ]
          },
          "metadata": {},
          "execution_count": 37
        }
      ]
    },
    {
      "cell_type": "code",
      "metadata": {
        "colab": {
          "base_uri": "https://localhost:8080/"
        },
        "id": "sztG7pw9BGiN",
        "outputId": "52369f06-bbb5-4cd3-f748-75d6c1aa8b4e"
      },
      "source": [
        "df.sum(axis=0)"
      ],
      "execution_count": null,
      "outputs": [
        {
          "output_type": "execute_result",
          "data": {
            "text/plain": [
              "New York       5475\n",
              "Los Angeles    5134\n",
              "Miami          5641\n",
              "dtype: int64"
            ]
          },
          "metadata": {},
          "execution_count": 33
        }
      ]
    },
    {
      "cell_type": "code",
      "metadata": {
        "colab": {
          "base_uri": "https://localhost:8080/"
        },
        "id": "sbDseIjq6nan",
        "outputId": "a6367780-9c1e-4910-9aed-bad31f8371fc"
      },
      "source": [
        "df.Name"
      ],
      "execution_count": null,
      "outputs": [
        {
          "output_type": "execute_result",
          "data": {
            "text/plain": [
              "0      Avery Bradley\n",
              "1        Jae Crowder\n",
              "2       John Holland\n",
              "3        R.J. Hunter\n",
              "4      Jonas Jerebko\n",
              "           ...      \n",
              "453     Shelvin Mack\n",
              "454        Raul Neto\n",
              "455     Tibor Pleiss\n",
              "456      Jeff Withey\n",
              "457              NaN\n",
              "Name: Name, Length: 458, dtype: object"
            ]
          },
          "metadata": {},
          "execution_count": 5
        }
      ]
    },
    {
      "cell_type": "code",
      "metadata": {
        "colab": {
          "base_uri": "https://localhost:8080/"
        },
        "id": "DyxKazf_7XTP",
        "outputId": "d24963ae-71b1-4a5c-fd7e-8846f164d941"
      },
      "source": [
        "df[\"Name\"]"
      ],
      "execution_count": null,
      "outputs": [
        {
          "output_type": "execute_result",
          "data": {
            "text/plain": [
              "0      Avery Bradley\n",
              "1        Jae Crowder\n",
              "2       John Holland\n",
              "3        R.J. Hunter\n",
              "4      Jonas Jerebko\n",
              "           ...      \n",
              "453     Shelvin Mack\n",
              "454        Raul Neto\n",
              "455     Tibor Pleiss\n",
              "456      Jeff Withey\n",
              "457              NaN\n",
              "Name: Name, Length: 458, dtype: object"
            ]
          },
          "metadata": {},
          "execution_count": 6
        }
      ]
    },
    {
      "cell_type": "code",
      "metadata": {
        "colab": {
          "base_uri": "https://localhost:8080/",
          "height": 424
        },
        "id": "ZDiKAXZ7-Wsb",
        "outputId": "91bf87fd-211c-4ec9-c57f-dab0e4376c30"
      },
      "source": [
        "df[[\"Name\", \"Team\"]]"
      ],
      "execution_count": null,
      "outputs": [
        {
          "output_type": "execute_result",
          "data": {
            "text/html": [
              "<div>\n",
              "<style scoped>\n",
              "    .dataframe tbody tr th:only-of-type {\n",
              "        vertical-align: middle;\n",
              "    }\n",
              "\n",
              "    .dataframe tbody tr th {\n",
              "        vertical-align: top;\n",
              "    }\n",
              "\n",
              "    .dataframe thead th {\n",
              "        text-align: right;\n",
              "    }\n",
              "</style>\n",
              "<table border=\"1\" class=\"dataframe\">\n",
              "  <thead>\n",
              "    <tr style=\"text-align: right;\">\n",
              "      <th></th>\n",
              "      <th>Name</th>\n",
              "      <th>Team</th>\n",
              "    </tr>\n",
              "  </thead>\n",
              "  <tbody>\n",
              "    <tr>\n",
              "      <th>0</th>\n",
              "      <td>Avery Bradley</td>\n",
              "      <td>Boston Celtics</td>\n",
              "    </tr>\n",
              "    <tr>\n",
              "      <th>1</th>\n",
              "      <td>Jae Crowder</td>\n",
              "      <td>Boston Celtics</td>\n",
              "    </tr>\n",
              "    <tr>\n",
              "      <th>2</th>\n",
              "      <td>John Holland</td>\n",
              "      <td>Boston Celtics</td>\n",
              "    </tr>\n",
              "    <tr>\n",
              "      <th>3</th>\n",
              "      <td>R.J. Hunter</td>\n",
              "      <td>Boston Celtics</td>\n",
              "    </tr>\n",
              "    <tr>\n",
              "      <th>4</th>\n",
              "      <td>Jonas Jerebko</td>\n",
              "      <td>Boston Celtics</td>\n",
              "    </tr>\n",
              "    <tr>\n",
              "      <th>...</th>\n",
              "      <td>...</td>\n",
              "      <td>...</td>\n",
              "    </tr>\n",
              "    <tr>\n",
              "      <th>453</th>\n",
              "      <td>Shelvin Mack</td>\n",
              "      <td>Utah Jazz</td>\n",
              "    </tr>\n",
              "    <tr>\n",
              "      <th>454</th>\n",
              "      <td>Raul Neto</td>\n",
              "      <td>Utah Jazz</td>\n",
              "    </tr>\n",
              "    <tr>\n",
              "      <th>455</th>\n",
              "      <td>Tibor Pleiss</td>\n",
              "      <td>Utah Jazz</td>\n",
              "    </tr>\n",
              "    <tr>\n",
              "      <th>456</th>\n",
              "      <td>Jeff Withey</td>\n",
              "      <td>Utah Jazz</td>\n",
              "    </tr>\n",
              "    <tr>\n",
              "      <th>457</th>\n",
              "      <td>NaN</td>\n",
              "      <td>NaN</td>\n",
              "    </tr>\n",
              "  </tbody>\n",
              "</table>\n",
              "<p>458 rows × 2 columns</p>\n",
              "</div>"
            ],
            "text/plain": [
              "              Name            Team\n",
              "0    Avery Bradley  Boston Celtics\n",
              "1      Jae Crowder  Boston Celtics\n",
              "2     John Holland  Boston Celtics\n",
              "3      R.J. Hunter  Boston Celtics\n",
              "4    Jonas Jerebko  Boston Celtics\n",
              "..             ...             ...\n",
              "453   Shelvin Mack       Utah Jazz\n",
              "454      Raul Neto       Utah Jazz\n",
              "455   Tibor Pleiss       Utah Jazz\n",
              "456    Jeff Withey       Utah Jazz\n",
              "457            NaN             NaN\n",
              "\n",
              "[458 rows x 2 columns]"
            ]
          },
          "metadata": {},
          "execution_count": 7
        }
      ]
    },
    {
      "cell_type": "markdown",
      "metadata": {
        "id": "OFZTfU1HA2Ho"
      },
      "source": [
        "Menambah Kolom Baru"
      ]
    },
    {
      "cell_type": "code",
      "metadata": {
        "id": "ncsl9hcoA1S1"
      },
      "source": [
        "df[\"Sport\"] = \"Basketball\""
      ],
      "execution_count": null,
      "outputs": []
    },
    {
      "cell_type": "code",
      "metadata": {
        "colab": {
          "base_uri": "https://localhost:8080/",
          "height": 206
        },
        "id": "mssq1daFA7nN",
        "outputId": "d2884db3-885d-49cc-ec34-90026a266f09"
      },
      "source": [
        "df.head()"
      ],
      "execution_count": null,
      "outputs": [
        {
          "output_type": "execute_result",
          "data": {
            "text/html": [
              "<div>\n",
              "<style scoped>\n",
              "    .dataframe tbody tr th:only-of-type {\n",
              "        vertical-align: middle;\n",
              "    }\n",
              "\n",
              "    .dataframe tbody tr th {\n",
              "        vertical-align: top;\n",
              "    }\n",
              "\n",
              "    .dataframe thead th {\n",
              "        text-align: right;\n",
              "    }\n",
              "</style>\n",
              "<table border=\"1\" class=\"dataframe\">\n",
              "  <thead>\n",
              "    <tr style=\"text-align: right;\">\n",
              "      <th></th>\n",
              "      <th>Name</th>\n",
              "      <th>Team</th>\n",
              "      <th>Number</th>\n",
              "      <th>Position</th>\n",
              "      <th>Age</th>\n",
              "      <th>Height</th>\n",
              "      <th>Weight</th>\n",
              "      <th>College</th>\n",
              "      <th>Salary</th>\n",
              "      <th>Sport</th>\n",
              "    </tr>\n",
              "  </thead>\n",
              "  <tbody>\n",
              "    <tr>\n",
              "      <th>0</th>\n",
              "      <td>Avery Bradley</td>\n",
              "      <td>Boston Celtics</td>\n",
              "      <td>0.0</td>\n",
              "      <td>PG</td>\n",
              "      <td>25.0</td>\n",
              "      <td>6-2</td>\n",
              "      <td>180.0</td>\n",
              "      <td>Texas</td>\n",
              "      <td>7730337.0</td>\n",
              "      <td>Basketball</td>\n",
              "    </tr>\n",
              "    <tr>\n",
              "      <th>1</th>\n",
              "      <td>Jae Crowder</td>\n",
              "      <td>Boston Celtics</td>\n",
              "      <td>99.0</td>\n",
              "      <td>SF</td>\n",
              "      <td>25.0</td>\n",
              "      <td>6-6</td>\n",
              "      <td>235.0</td>\n",
              "      <td>Marquette</td>\n",
              "      <td>6796117.0</td>\n",
              "      <td>Basketball</td>\n",
              "    </tr>\n",
              "    <tr>\n",
              "      <th>2</th>\n",
              "      <td>John Holland</td>\n",
              "      <td>Boston Celtics</td>\n",
              "      <td>30.0</td>\n",
              "      <td>SG</td>\n",
              "      <td>27.0</td>\n",
              "      <td>6-5</td>\n",
              "      <td>205.0</td>\n",
              "      <td>Boston University</td>\n",
              "      <td>NaN</td>\n",
              "      <td>Basketball</td>\n",
              "    </tr>\n",
              "    <tr>\n",
              "      <th>3</th>\n",
              "      <td>R.J. Hunter</td>\n",
              "      <td>Boston Celtics</td>\n",
              "      <td>28.0</td>\n",
              "      <td>SG</td>\n",
              "      <td>22.0</td>\n",
              "      <td>6-5</td>\n",
              "      <td>185.0</td>\n",
              "      <td>Georgia State</td>\n",
              "      <td>1148640.0</td>\n",
              "      <td>Basketball</td>\n",
              "    </tr>\n",
              "    <tr>\n",
              "      <th>4</th>\n",
              "      <td>Jonas Jerebko</td>\n",
              "      <td>Boston Celtics</td>\n",
              "      <td>8.0</td>\n",
              "      <td>PF</td>\n",
              "      <td>29.0</td>\n",
              "      <td>6-10</td>\n",
              "      <td>231.0</td>\n",
              "      <td>NaN</td>\n",
              "      <td>5000000.0</td>\n",
              "      <td>Basketball</td>\n",
              "    </tr>\n",
              "  </tbody>\n",
              "</table>\n",
              "</div>"
            ],
            "text/plain": [
              "            Name            Team  ...     Salary       Sport\n",
              "0  Avery Bradley  Boston Celtics  ...  7730337.0  Basketball\n",
              "1    Jae Crowder  Boston Celtics  ...  6796117.0  Basketball\n",
              "2   John Holland  Boston Celtics  ...        NaN  Basketball\n",
              "3    R.J. Hunter  Boston Celtics  ...  1148640.0  Basketball\n",
              "4  Jonas Jerebko  Boston Celtics  ...  5000000.0  Basketball\n",
              "\n",
              "[5 rows x 10 columns]"
            ]
          },
          "metadata": {},
          "execution_count": 9
        }
      ]
    },
    {
      "cell_type": "code",
      "metadata": {
        "id": "PiqDg1K-Cjzj"
      },
      "source": [
        "df.insert(3, column=\"Sport\", value=\"Basketball\")"
      ],
      "execution_count": null,
      "outputs": []
    },
    {
      "cell_type": "code",
      "metadata": {
        "colab": {
          "base_uri": "https://localhost:8080/",
          "height": 206
        },
        "id": "L9yh9qxMChJ5",
        "outputId": "3309731c-ad97-435f-94ef-b95fbabb1029"
      },
      "source": [
        "df.head()"
      ],
      "execution_count": null,
      "outputs": [
        {
          "output_type": "execute_result",
          "data": {
            "text/html": [
              "<div>\n",
              "<style scoped>\n",
              "    .dataframe tbody tr th:only-of-type {\n",
              "        vertical-align: middle;\n",
              "    }\n",
              "\n",
              "    .dataframe tbody tr th {\n",
              "        vertical-align: top;\n",
              "    }\n",
              "\n",
              "    .dataframe thead th {\n",
              "        text-align: right;\n",
              "    }\n",
              "</style>\n",
              "<table border=\"1\" class=\"dataframe\">\n",
              "  <thead>\n",
              "    <tr style=\"text-align: right;\">\n",
              "      <th></th>\n",
              "      <th>Name</th>\n",
              "      <th>Team</th>\n",
              "      <th>Number</th>\n",
              "      <th>Sport</th>\n",
              "      <th>Position</th>\n",
              "      <th>Age</th>\n",
              "      <th>Height</th>\n",
              "      <th>Weight</th>\n",
              "      <th>College</th>\n",
              "      <th>Salary</th>\n",
              "    </tr>\n",
              "  </thead>\n",
              "  <tbody>\n",
              "    <tr>\n",
              "      <th>0</th>\n",
              "      <td>Avery Bradley</td>\n",
              "      <td>Boston Celtics</td>\n",
              "      <td>0.0</td>\n",
              "      <td>Basketball</td>\n",
              "      <td>PG</td>\n",
              "      <td>25.0</td>\n",
              "      <td>6-2</td>\n",
              "      <td>180.0</td>\n",
              "      <td>Texas</td>\n",
              "      <td>7730337.0</td>\n",
              "    </tr>\n",
              "    <tr>\n",
              "      <th>1</th>\n",
              "      <td>Jae Crowder</td>\n",
              "      <td>Boston Celtics</td>\n",
              "      <td>99.0</td>\n",
              "      <td>Basketball</td>\n",
              "      <td>SF</td>\n",
              "      <td>25.0</td>\n",
              "      <td>6-6</td>\n",
              "      <td>235.0</td>\n",
              "      <td>Marquette</td>\n",
              "      <td>6796117.0</td>\n",
              "    </tr>\n",
              "    <tr>\n",
              "      <th>2</th>\n",
              "      <td>John Holland</td>\n",
              "      <td>Boston Celtics</td>\n",
              "      <td>30.0</td>\n",
              "      <td>Basketball</td>\n",
              "      <td>SG</td>\n",
              "      <td>27.0</td>\n",
              "      <td>6-5</td>\n",
              "      <td>205.0</td>\n",
              "      <td>Boston University</td>\n",
              "      <td>NaN</td>\n",
              "    </tr>\n",
              "    <tr>\n",
              "      <th>3</th>\n",
              "      <td>R.J. Hunter</td>\n",
              "      <td>Boston Celtics</td>\n",
              "      <td>28.0</td>\n",
              "      <td>Basketball</td>\n",
              "      <td>SG</td>\n",
              "      <td>22.0</td>\n",
              "      <td>6-5</td>\n",
              "      <td>185.0</td>\n",
              "      <td>Georgia State</td>\n",
              "      <td>1148640.0</td>\n",
              "    </tr>\n",
              "    <tr>\n",
              "      <th>4</th>\n",
              "      <td>Jonas Jerebko</td>\n",
              "      <td>Boston Celtics</td>\n",
              "      <td>8.0</td>\n",
              "      <td>Basketball</td>\n",
              "      <td>PF</td>\n",
              "      <td>29.0</td>\n",
              "      <td>6-10</td>\n",
              "      <td>231.0</td>\n",
              "      <td>NaN</td>\n",
              "      <td>5000000.0</td>\n",
              "    </tr>\n",
              "  </tbody>\n",
              "</table>\n",
              "</div>"
            ],
            "text/plain": [
              "            Name            Team  Number  ... Weight            College     Salary\n",
              "0  Avery Bradley  Boston Celtics     0.0  ...  180.0              Texas  7730337.0\n",
              "1    Jae Crowder  Boston Celtics    99.0  ...  235.0          Marquette  6796117.0\n",
              "2   John Holland  Boston Celtics    30.0  ...  205.0  Boston University        NaN\n",
              "3    R.J. Hunter  Boston Celtics    28.0  ...  185.0      Georgia State  1148640.0\n",
              "4  Jonas Jerebko  Boston Celtics     8.0  ...  231.0                NaN  5000000.0\n",
              "\n",
              "[5 rows x 10 columns]"
            ]
          },
          "metadata": {},
          "execution_count": 15
        }
      ]
    },
    {
      "cell_type": "markdown",
      "metadata": {
        "id": "o7P_z5LOT8PO"
      },
      "source": [
        "Broadcast Operation"
      ]
    },
    {
      "cell_type": "code",
      "metadata": {
        "colab": {
          "base_uri": "https://localhost:8080/"
        },
        "id": "qS8G7_HhT7ui",
        "outputId": "0ade623a-7dc0-441f-98f8-3fe40c1ecfad"
      },
      "source": [
        "df[\"Age\"].add(5)\n",
        "df[\"Age\"] + 5"
      ],
      "execution_count": null,
      "outputs": [
        {
          "output_type": "execute_result",
          "data": {
            "text/plain": [
              "0      30.0\n",
              "1      30.0\n",
              "2      32.0\n",
              "3      27.0\n",
              "4      34.0\n",
              "       ... \n",
              "453    31.0\n",
              "454    29.0\n",
              "455    31.0\n",
              "456    31.0\n",
              "457     NaN\n",
              "Name: Age, Length: 458, dtype: float64"
            ]
          },
          "metadata": {},
          "execution_count": 17
        }
      ]
    },
    {
      "cell_type": "code",
      "metadata": {
        "colab": {
          "base_uri": "https://localhost:8080/"
        },
        "id": "CgOy0fttVK6C",
        "outputId": "ff2ed849-2949-4481-d210-a3cc1cca5770"
      },
      "source": [
        "df[\"Age\"].sub(5)\n",
        "df[\"Age\"] - 5"
      ],
      "execution_count": null,
      "outputs": [
        {
          "output_type": "execute_result",
          "data": {
            "text/plain": [
              "0      20.0\n",
              "1      20.0\n",
              "2      22.0\n",
              "3      17.0\n",
              "4      24.0\n",
              "       ... \n",
              "453    21.0\n",
              "454    19.0\n",
              "455    21.0\n",
              "456    21.0\n",
              "457     NaN\n",
              "Name: Age, Length: 458, dtype: float64"
            ]
          },
          "metadata": {},
          "execution_count": 19
        }
      ]
    },
    {
      "cell_type": "code",
      "metadata": {
        "colab": {
          "base_uri": "https://localhost:8080/"
        },
        "id": "Qd6DqPLZVc29",
        "outputId": "d982341c-09dc-4413-c95d-9fbd3920c891"
      },
      "source": [
        "df[\"Age\"].mul(2)\n",
        "df[\"Age\"] * 2"
      ],
      "execution_count": null,
      "outputs": [
        {
          "output_type": "execute_result",
          "data": {
            "text/plain": [
              "0      50.0\n",
              "1      50.0\n",
              "2      54.0\n",
              "3      44.0\n",
              "4      58.0\n",
              "       ... \n",
              "453    52.0\n",
              "454    48.0\n",
              "455    52.0\n",
              "456    52.0\n",
              "457     NaN\n",
              "Name: Age, Length: 458, dtype: float64"
            ]
          },
          "metadata": {},
          "execution_count": 21
        }
      ]
    },
    {
      "cell_type": "code",
      "metadata": {
        "colab": {
          "base_uri": "https://localhost:8080/"
        },
        "id": "UdsSPFxmVppq",
        "outputId": "3d0503fe-d676-4193-bbf1-008ffe9a8bd7"
      },
      "source": [
        "df[\"Age\"].div(2)\n",
        "df[\"Age\"] / 2"
      ],
      "execution_count": null,
      "outputs": [
        {
          "output_type": "execute_result",
          "data": {
            "text/plain": [
              "0      12.5\n",
              "1      12.5\n",
              "2      13.5\n",
              "3      11.0\n",
              "4      14.5\n",
              "       ... \n",
              "453    13.0\n",
              "454    12.0\n",
              "455    13.0\n",
              "456    13.0\n",
              "457     NaN\n",
              "Name: Age, Length: 458, dtype: float64"
            ]
          },
          "metadata": {},
          "execution_count": 24
        }
      ]
    },
    {
      "cell_type": "code",
      "metadata": {
        "id": "Ifhe5W3GVHE7"
      },
      "source": [
        "df[\"Salary in Million\"] = df[\"Salary\"].div(1000000)"
      ],
      "execution_count": null,
      "outputs": []
    },
    {
      "cell_type": "code",
      "metadata": {
        "colab": {
          "base_uri": "https://localhost:8080/",
          "height": 206
        },
        "id": "0GqKcPMOXpNf",
        "outputId": "e6953db5-a4db-4bbe-83b6-84ee316698ca"
      },
      "source": [
        "df.head()"
      ],
      "execution_count": null,
      "outputs": [
        {
          "output_type": "execute_result",
          "data": {
            "text/html": [
              "<div>\n",
              "<style scoped>\n",
              "    .dataframe tbody tr th:only-of-type {\n",
              "        vertical-align: middle;\n",
              "    }\n",
              "\n",
              "    .dataframe tbody tr th {\n",
              "        vertical-align: top;\n",
              "    }\n",
              "\n",
              "    .dataframe thead th {\n",
              "        text-align: right;\n",
              "    }\n",
              "</style>\n",
              "<table border=\"1\" class=\"dataframe\">\n",
              "  <thead>\n",
              "    <tr style=\"text-align: right;\">\n",
              "      <th></th>\n",
              "      <th>Name</th>\n",
              "      <th>Team</th>\n",
              "      <th>Number</th>\n",
              "      <th>Position</th>\n",
              "      <th>Age</th>\n",
              "      <th>Height</th>\n",
              "      <th>Weight</th>\n",
              "      <th>College</th>\n",
              "      <th>Salary</th>\n",
              "    </tr>\n",
              "  </thead>\n",
              "  <tbody>\n",
              "    <tr>\n",
              "      <th>0</th>\n",
              "      <td>Avery Bradley</td>\n",
              "      <td>Boston Celtics</td>\n",
              "      <td>0.0</td>\n",
              "      <td>PG</td>\n",
              "      <td>25.0</td>\n",
              "      <td>6-2</td>\n",
              "      <td>180.0</td>\n",
              "      <td>Texas</td>\n",
              "      <td>7730337.0</td>\n",
              "    </tr>\n",
              "    <tr>\n",
              "      <th>1</th>\n",
              "      <td>Jae Crowder</td>\n",
              "      <td>Boston Celtics</td>\n",
              "      <td>99.0</td>\n",
              "      <td>SF</td>\n",
              "      <td>25.0</td>\n",
              "      <td>6-6</td>\n",
              "      <td>235.0</td>\n",
              "      <td>Marquette</td>\n",
              "      <td>6796117.0</td>\n",
              "    </tr>\n",
              "    <tr>\n",
              "      <th>2</th>\n",
              "      <td>John Holland</td>\n",
              "      <td>Boston Celtics</td>\n",
              "      <td>30.0</td>\n",
              "      <td>SG</td>\n",
              "      <td>27.0</td>\n",
              "      <td>6-5</td>\n",
              "      <td>205.0</td>\n",
              "      <td>Boston University</td>\n",
              "      <td>NaN</td>\n",
              "    </tr>\n",
              "    <tr>\n",
              "      <th>3</th>\n",
              "      <td>R.J. Hunter</td>\n",
              "      <td>Boston Celtics</td>\n",
              "      <td>28.0</td>\n",
              "      <td>SG</td>\n",
              "      <td>22.0</td>\n",
              "      <td>6-5</td>\n",
              "      <td>185.0</td>\n",
              "      <td>Georgia State</td>\n",
              "      <td>1148640.0</td>\n",
              "    </tr>\n",
              "    <tr>\n",
              "      <th>4</th>\n",
              "      <td>Jonas Jerebko</td>\n",
              "      <td>Boston Celtics</td>\n",
              "      <td>8.0</td>\n",
              "      <td>PF</td>\n",
              "      <td>29.0</td>\n",
              "      <td>6-10</td>\n",
              "      <td>231.0</td>\n",
              "      <td>NaN</td>\n",
              "      <td>5000000.0</td>\n",
              "    </tr>\n",
              "  </tbody>\n",
              "</table>\n",
              "</div>"
            ],
            "text/plain": [
              "            Name            Team  Number  ... Weight            College     Salary\n",
              "0  Avery Bradley  Boston Celtics     0.0  ...  180.0              Texas  7730337.0\n",
              "1    Jae Crowder  Boston Celtics    99.0  ...  235.0          Marquette  6796117.0\n",
              "2   John Holland  Boston Celtics    30.0  ...  205.0  Boston University        NaN\n",
              "3    R.J. Hunter  Boston Celtics    28.0  ...  185.0      Georgia State  1148640.0\n",
              "4  Jonas Jerebko  Boston Celtics     8.0  ...  231.0                NaN  5000000.0\n",
              "\n",
              "[5 rows x 9 columns]"
            ]
          },
          "metadata": {},
          "execution_count": 4
        }
      ]
    },
    {
      "cell_type": "markdown",
      "metadata": {
        "id": "9TFcuCLA4Q4N"
      },
      "source": [
        "Menggunakan value_counts()"
      ]
    },
    {
      "cell_type": "code",
      "metadata": {
        "colab": {
          "base_uri": "https://localhost:8080/"
        },
        "id": "M5UEfb8e4S5j",
        "outputId": "dcfa5496-7fe4-48f6-a81a-25991f75bed0"
      },
      "source": [
        "df[\"Position\"].value_counts()"
      ],
      "execution_count": null,
      "outputs": [
        {
          "output_type": "execute_result",
          "data": {
            "text/plain": [
              "SG    102\n",
              "PF    100\n",
              "PG     92\n",
              "SF     85\n",
              "C      78\n",
              "Name: Position, dtype: int64"
            ]
          },
          "metadata": {},
          "execution_count": 6
        }
      ]
    },
    {
      "cell_type": "code",
      "metadata": {
        "colab": {
          "base_uri": "https://localhost:8080/"
        },
        "id": "FW-FRsWT5EA4",
        "outputId": "dbc77a10-0a59-4827-c1b8-28dbc60d64d0"
      },
      "source": [
        "df[\"Position\"].value_counts().head(1)"
      ],
      "execution_count": null,
      "outputs": [
        {
          "output_type": "execute_result",
          "data": {
            "text/plain": [
              "SG    102\n",
              "Name: Position, dtype: int64"
            ]
          },
          "metadata": {},
          "execution_count": 7
        }
      ]
    },
    {
      "cell_type": "markdown",
      "metadata": {
        "id": "K0hUpXbdAkmg"
      },
      "source": [
        "Menghapus data NaN"
      ]
    },
    {
      "cell_type": "code",
      "metadata": {
        "colab": {
          "base_uri": "https://localhost:8080/",
          "height": 206
        },
        "id": "z-yVwQWDAoKP",
        "outputId": "82c9be39-b2b3-46f3-990b-37d6fc359bfb"
      },
      "source": [
        "df.head()"
      ],
      "execution_count": null,
      "outputs": [
        {
          "output_type": "execute_result",
          "data": {
            "text/html": [
              "<div>\n",
              "<style scoped>\n",
              "    .dataframe tbody tr th:only-of-type {\n",
              "        vertical-align: middle;\n",
              "    }\n",
              "\n",
              "    .dataframe tbody tr th {\n",
              "        vertical-align: top;\n",
              "    }\n",
              "\n",
              "    .dataframe thead th {\n",
              "        text-align: right;\n",
              "    }\n",
              "</style>\n",
              "<table border=\"1\" class=\"dataframe\">\n",
              "  <thead>\n",
              "    <tr style=\"text-align: right;\">\n",
              "      <th></th>\n",
              "      <th>Name</th>\n",
              "      <th>Team</th>\n",
              "      <th>Number</th>\n",
              "      <th>Position</th>\n",
              "      <th>Age</th>\n",
              "      <th>Height</th>\n",
              "      <th>Weight</th>\n",
              "      <th>College</th>\n",
              "      <th>Salary</th>\n",
              "    </tr>\n",
              "  </thead>\n",
              "  <tbody>\n",
              "    <tr>\n",
              "      <th>0</th>\n",
              "      <td>Avery Bradley</td>\n",
              "      <td>Boston Celtics</td>\n",
              "      <td>0.0</td>\n",
              "      <td>PG</td>\n",
              "      <td>25.0</td>\n",
              "      <td>6-2</td>\n",
              "      <td>180.0</td>\n",
              "      <td>Texas</td>\n",
              "      <td>7730337.0</td>\n",
              "    </tr>\n",
              "    <tr>\n",
              "      <th>1</th>\n",
              "      <td>Jae Crowder</td>\n",
              "      <td>Boston Celtics</td>\n",
              "      <td>99.0</td>\n",
              "      <td>SF</td>\n",
              "      <td>25.0</td>\n",
              "      <td>6-6</td>\n",
              "      <td>235.0</td>\n",
              "      <td>Marquette</td>\n",
              "      <td>6796117.0</td>\n",
              "    </tr>\n",
              "    <tr>\n",
              "      <th>2</th>\n",
              "      <td>John Holland</td>\n",
              "      <td>Boston Celtics</td>\n",
              "      <td>30.0</td>\n",
              "      <td>SG</td>\n",
              "      <td>27.0</td>\n",
              "      <td>6-5</td>\n",
              "      <td>205.0</td>\n",
              "      <td>Boston University</td>\n",
              "      <td>NaN</td>\n",
              "    </tr>\n",
              "    <tr>\n",
              "      <th>3</th>\n",
              "      <td>R.J. Hunter</td>\n",
              "      <td>Boston Celtics</td>\n",
              "      <td>28.0</td>\n",
              "      <td>SG</td>\n",
              "      <td>22.0</td>\n",
              "      <td>6-5</td>\n",
              "      <td>185.0</td>\n",
              "      <td>Georgia State</td>\n",
              "      <td>1148640.0</td>\n",
              "    </tr>\n",
              "    <tr>\n",
              "      <th>4</th>\n",
              "      <td>Jonas Jerebko</td>\n",
              "      <td>Boston Celtics</td>\n",
              "      <td>8.0</td>\n",
              "      <td>PF</td>\n",
              "      <td>29.0</td>\n",
              "      <td>6-10</td>\n",
              "      <td>231.0</td>\n",
              "      <td>NaN</td>\n",
              "      <td>5000000.0</td>\n",
              "    </tr>\n",
              "  </tbody>\n",
              "</table>\n",
              "</div>"
            ],
            "text/plain": [
              "            Name            Team  Number  ... Weight            College     Salary\n",
              "0  Avery Bradley  Boston Celtics     0.0  ...  180.0              Texas  7730337.0\n",
              "1    Jae Crowder  Boston Celtics    99.0  ...  235.0          Marquette  6796117.0\n",
              "2   John Holland  Boston Celtics    30.0  ...  205.0  Boston University        NaN\n",
              "3    R.J. Hunter  Boston Celtics    28.0  ...  185.0      Georgia State  1148640.0\n",
              "4  Jonas Jerebko  Boston Celtics     8.0  ...  231.0                NaN  5000000.0\n",
              "\n",
              "[5 rows x 9 columns]"
            ]
          },
          "metadata": {},
          "execution_count": 10
        }
      ]
    },
    {
      "cell_type": "code",
      "metadata": {
        "colab": {
          "base_uri": "https://localhost:8080/",
          "height": 424
        },
        "id": "hpAQkkOcCoqs",
        "outputId": "61e38d06-662f-4371-a1bd-c8df6863fa41"
      },
      "source": [
        "df.dropna(how=\"all\")"
      ],
      "execution_count": null,
      "outputs": [
        {
          "output_type": "execute_result",
          "data": {
            "text/html": [
              "<div>\n",
              "<style scoped>\n",
              "    .dataframe tbody tr th:only-of-type {\n",
              "        vertical-align: middle;\n",
              "    }\n",
              "\n",
              "    .dataframe tbody tr th {\n",
              "        vertical-align: top;\n",
              "    }\n",
              "\n",
              "    .dataframe thead th {\n",
              "        text-align: right;\n",
              "    }\n",
              "</style>\n",
              "<table border=\"1\" class=\"dataframe\">\n",
              "  <thead>\n",
              "    <tr style=\"text-align: right;\">\n",
              "      <th></th>\n",
              "      <th>Name</th>\n",
              "      <th>Team</th>\n",
              "      <th>Number</th>\n",
              "      <th>Position</th>\n",
              "      <th>Age</th>\n",
              "      <th>Height</th>\n",
              "      <th>Weight</th>\n",
              "      <th>College</th>\n",
              "      <th>Salary</th>\n",
              "    </tr>\n",
              "  </thead>\n",
              "  <tbody>\n",
              "    <tr>\n",
              "      <th>0</th>\n",
              "      <td>Avery Bradley</td>\n",
              "      <td>Boston Celtics</td>\n",
              "      <td>0.0</td>\n",
              "      <td>PG</td>\n",
              "      <td>25.0</td>\n",
              "      <td>6-2</td>\n",
              "      <td>180.0</td>\n",
              "      <td>Texas</td>\n",
              "      <td>7730337.0</td>\n",
              "    </tr>\n",
              "    <tr>\n",
              "      <th>1</th>\n",
              "      <td>Jae Crowder</td>\n",
              "      <td>Boston Celtics</td>\n",
              "      <td>99.0</td>\n",
              "      <td>SF</td>\n",
              "      <td>25.0</td>\n",
              "      <td>6-6</td>\n",
              "      <td>235.0</td>\n",
              "      <td>Marquette</td>\n",
              "      <td>6796117.0</td>\n",
              "    </tr>\n",
              "    <tr>\n",
              "      <th>2</th>\n",
              "      <td>John Holland</td>\n",
              "      <td>Boston Celtics</td>\n",
              "      <td>30.0</td>\n",
              "      <td>SG</td>\n",
              "      <td>27.0</td>\n",
              "      <td>6-5</td>\n",
              "      <td>205.0</td>\n",
              "      <td>Boston University</td>\n",
              "      <td>NaN</td>\n",
              "    </tr>\n",
              "    <tr>\n",
              "      <th>3</th>\n",
              "      <td>R.J. Hunter</td>\n",
              "      <td>Boston Celtics</td>\n",
              "      <td>28.0</td>\n",
              "      <td>SG</td>\n",
              "      <td>22.0</td>\n",
              "      <td>6-5</td>\n",
              "      <td>185.0</td>\n",
              "      <td>Georgia State</td>\n",
              "      <td>1148640.0</td>\n",
              "    </tr>\n",
              "    <tr>\n",
              "      <th>4</th>\n",
              "      <td>Jonas Jerebko</td>\n",
              "      <td>Boston Celtics</td>\n",
              "      <td>8.0</td>\n",
              "      <td>PF</td>\n",
              "      <td>29.0</td>\n",
              "      <td>6-10</td>\n",
              "      <td>231.0</td>\n",
              "      <td>NaN</td>\n",
              "      <td>5000000.0</td>\n",
              "    </tr>\n",
              "    <tr>\n",
              "      <th>...</th>\n",
              "      <td>...</td>\n",
              "      <td>...</td>\n",
              "      <td>...</td>\n",
              "      <td>...</td>\n",
              "      <td>...</td>\n",
              "      <td>...</td>\n",
              "      <td>...</td>\n",
              "      <td>...</td>\n",
              "      <td>...</td>\n",
              "    </tr>\n",
              "    <tr>\n",
              "      <th>452</th>\n",
              "      <td>Trey Lyles</td>\n",
              "      <td>Utah Jazz</td>\n",
              "      <td>41.0</td>\n",
              "      <td>PF</td>\n",
              "      <td>20.0</td>\n",
              "      <td>6-10</td>\n",
              "      <td>234.0</td>\n",
              "      <td>Kentucky</td>\n",
              "      <td>2239800.0</td>\n",
              "    </tr>\n",
              "    <tr>\n",
              "      <th>453</th>\n",
              "      <td>Shelvin Mack</td>\n",
              "      <td>Utah Jazz</td>\n",
              "      <td>8.0</td>\n",
              "      <td>PG</td>\n",
              "      <td>26.0</td>\n",
              "      <td>6-3</td>\n",
              "      <td>203.0</td>\n",
              "      <td>Butler</td>\n",
              "      <td>2433333.0</td>\n",
              "    </tr>\n",
              "    <tr>\n",
              "      <th>454</th>\n",
              "      <td>Raul Neto</td>\n",
              "      <td>Utah Jazz</td>\n",
              "      <td>25.0</td>\n",
              "      <td>PG</td>\n",
              "      <td>24.0</td>\n",
              "      <td>6-1</td>\n",
              "      <td>179.0</td>\n",
              "      <td>NaN</td>\n",
              "      <td>900000.0</td>\n",
              "    </tr>\n",
              "    <tr>\n",
              "      <th>455</th>\n",
              "      <td>Tibor Pleiss</td>\n",
              "      <td>Utah Jazz</td>\n",
              "      <td>21.0</td>\n",
              "      <td>C</td>\n",
              "      <td>26.0</td>\n",
              "      <td>7-3</td>\n",
              "      <td>256.0</td>\n",
              "      <td>NaN</td>\n",
              "      <td>2900000.0</td>\n",
              "    </tr>\n",
              "    <tr>\n",
              "      <th>456</th>\n",
              "      <td>Jeff Withey</td>\n",
              "      <td>Utah Jazz</td>\n",
              "      <td>24.0</td>\n",
              "      <td>C</td>\n",
              "      <td>26.0</td>\n",
              "      <td>7-0</td>\n",
              "      <td>231.0</td>\n",
              "      <td>Kansas</td>\n",
              "      <td>947276.0</td>\n",
              "    </tr>\n",
              "  </tbody>\n",
              "</table>\n",
              "<p>457 rows × 9 columns</p>\n",
              "</div>"
            ],
            "text/plain": [
              "              Name            Team  ...            College     Salary\n",
              "0    Avery Bradley  Boston Celtics  ...              Texas  7730337.0\n",
              "1      Jae Crowder  Boston Celtics  ...          Marquette  6796117.0\n",
              "2     John Holland  Boston Celtics  ...  Boston University        NaN\n",
              "3      R.J. Hunter  Boston Celtics  ...      Georgia State  1148640.0\n",
              "4    Jonas Jerebko  Boston Celtics  ...                NaN  5000000.0\n",
              "..             ...             ...  ...                ...        ...\n",
              "452     Trey Lyles       Utah Jazz  ...           Kentucky  2239800.0\n",
              "453   Shelvin Mack       Utah Jazz  ...             Butler  2433333.0\n",
              "454      Raul Neto       Utah Jazz  ...                NaN   900000.0\n",
              "455   Tibor Pleiss       Utah Jazz  ...                NaN  2900000.0\n",
              "456    Jeff Withey       Utah Jazz  ...             Kansas   947276.0\n",
              "\n",
              "[457 rows x 9 columns]"
            ]
          },
          "metadata": {},
          "execution_count": 13
        }
      ]
    },
    {
      "cell_type": "code",
      "metadata": {
        "id": "EG9xWA1yHdrd"
      },
      "source": [
        "df.dropna(how=\"all\", inplace=True)"
      ],
      "execution_count": null,
      "outputs": []
    },
    {
      "cell_type": "code",
      "metadata": {
        "colab": {
          "base_uri": "https://localhost:8080/",
          "height": 424
        },
        "id": "QcC5bjMJH8KF",
        "outputId": "e4d06347-756a-4fa6-f7dc-f1e25584b4f7"
      },
      "source": [
        "df.dropna(axis=1)"
      ],
      "execution_count": null,
      "outputs": [
        {
          "output_type": "execute_result",
          "data": {
            "text/html": [
              "<div>\n",
              "<style scoped>\n",
              "    .dataframe tbody tr th:only-of-type {\n",
              "        vertical-align: middle;\n",
              "    }\n",
              "\n",
              "    .dataframe tbody tr th {\n",
              "        vertical-align: top;\n",
              "    }\n",
              "\n",
              "    .dataframe thead th {\n",
              "        text-align: right;\n",
              "    }\n",
              "</style>\n",
              "<table border=\"1\" class=\"dataframe\">\n",
              "  <thead>\n",
              "    <tr style=\"text-align: right;\">\n",
              "      <th></th>\n",
              "      <th>Name</th>\n",
              "      <th>Team</th>\n",
              "      <th>Number</th>\n",
              "      <th>Position</th>\n",
              "      <th>Age</th>\n",
              "      <th>Height</th>\n",
              "      <th>Weight</th>\n",
              "    </tr>\n",
              "  </thead>\n",
              "  <tbody>\n",
              "    <tr>\n",
              "      <th>0</th>\n",
              "      <td>Avery Bradley</td>\n",
              "      <td>Boston Celtics</td>\n",
              "      <td>0.0</td>\n",
              "      <td>PG</td>\n",
              "      <td>25.0</td>\n",
              "      <td>6-2</td>\n",
              "      <td>180.0</td>\n",
              "    </tr>\n",
              "    <tr>\n",
              "      <th>1</th>\n",
              "      <td>Jae Crowder</td>\n",
              "      <td>Boston Celtics</td>\n",
              "      <td>99.0</td>\n",
              "      <td>SF</td>\n",
              "      <td>25.0</td>\n",
              "      <td>6-6</td>\n",
              "      <td>235.0</td>\n",
              "    </tr>\n",
              "    <tr>\n",
              "      <th>2</th>\n",
              "      <td>John Holland</td>\n",
              "      <td>Boston Celtics</td>\n",
              "      <td>30.0</td>\n",
              "      <td>SG</td>\n",
              "      <td>27.0</td>\n",
              "      <td>6-5</td>\n",
              "      <td>205.0</td>\n",
              "    </tr>\n",
              "    <tr>\n",
              "      <th>3</th>\n",
              "      <td>R.J. Hunter</td>\n",
              "      <td>Boston Celtics</td>\n",
              "      <td>28.0</td>\n",
              "      <td>SG</td>\n",
              "      <td>22.0</td>\n",
              "      <td>6-5</td>\n",
              "      <td>185.0</td>\n",
              "    </tr>\n",
              "    <tr>\n",
              "      <th>4</th>\n",
              "      <td>Jonas Jerebko</td>\n",
              "      <td>Boston Celtics</td>\n",
              "      <td>8.0</td>\n",
              "      <td>PF</td>\n",
              "      <td>29.0</td>\n",
              "      <td>6-10</td>\n",
              "      <td>231.0</td>\n",
              "    </tr>\n",
              "    <tr>\n",
              "      <th>...</th>\n",
              "      <td>...</td>\n",
              "      <td>...</td>\n",
              "      <td>...</td>\n",
              "      <td>...</td>\n",
              "      <td>...</td>\n",
              "      <td>...</td>\n",
              "      <td>...</td>\n",
              "    </tr>\n",
              "    <tr>\n",
              "      <th>452</th>\n",
              "      <td>Trey Lyles</td>\n",
              "      <td>Utah Jazz</td>\n",
              "      <td>41.0</td>\n",
              "      <td>PF</td>\n",
              "      <td>20.0</td>\n",
              "      <td>6-10</td>\n",
              "      <td>234.0</td>\n",
              "    </tr>\n",
              "    <tr>\n",
              "      <th>453</th>\n",
              "      <td>Shelvin Mack</td>\n",
              "      <td>Utah Jazz</td>\n",
              "      <td>8.0</td>\n",
              "      <td>PG</td>\n",
              "      <td>26.0</td>\n",
              "      <td>6-3</td>\n",
              "      <td>203.0</td>\n",
              "    </tr>\n",
              "    <tr>\n",
              "      <th>454</th>\n",
              "      <td>Raul Neto</td>\n",
              "      <td>Utah Jazz</td>\n",
              "      <td>25.0</td>\n",
              "      <td>PG</td>\n",
              "      <td>24.0</td>\n",
              "      <td>6-1</td>\n",
              "      <td>179.0</td>\n",
              "    </tr>\n",
              "    <tr>\n",
              "      <th>455</th>\n",
              "      <td>Tibor Pleiss</td>\n",
              "      <td>Utah Jazz</td>\n",
              "      <td>21.0</td>\n",
              "      <td>C</td>\n",
              "      <td>26.0</td>\n",
              "      <td>7-3</td>\n",
              "      <td>256.0</td>\n",
              "    </tr>\n",
              "    <tr>\n",
              "      <th>456</th>\n",
              "      <td>Jeff Withey</td>\n",
              "      <td>Utah Jazz</td>\n",
              "      <td>24.0</td>\n",
              "      <td>C</td>\n",
              "      <td>26.0</td>\n",
              "      <td>7-0</td>\n",
              "      <td>231.0</td>\n",
              "    </tr>\n",
              "  </tbody>\n",
              "</table>\n",
              "<p>457 rows × 7 columns</p>\n",
              "</div>"
            ],
            "text/plain": [
              "              Name            Team  Number Position   Age Height  Weight\n",
              "0    Avery Bradley  Boston Celtics     0.0       PG  25.0    6-2   180.0\n",
              "1      Jae Crowder  Boston Celtics    99.0       SF  25.0    6-6   235.0\n",
              "2     John Holland  Boston Celtics    30.0       SG  27.0    6-5   205.0\n",
              "3      R.J. Hunter  Boston Celtics    28.0       SG  22.0    6-5   185.0\n",
              "4    Jonas Jerebko  Boston Celtics     8.0       PF  29.0   6-10   231.0\n",
              "..             ...             ...     ...      ...   ...    ...     ...\n",
              "452     Trey Lyles       Utah Jazz    41.0       PF  20.0   6-10   234.0\n",
              "453   Shelvin Mack       Utah Jazz     8.0       PG  26.0    6-3   203.0\n",
              "454      Raul Neto       Utah Jazz    25.0       PG  24.0    6-1   179.0\n",
              "455   Tibor Pleiss       Utah Jazz    21.0        C  26.0    7-3   256.0\n",
              "456    Jeff Withey       Utah Jazz    24.0        C  26.0    7-0   231.0\n",
              "\n",
              "[457 rows x 7 columns]"
            ]
          },
          "metadata": {},
          "execution_count": 22
        }
      ]
    },
    {
      "cell_type": "code",
      "metadata": {
        "colab": {
          "base_uri": "https://localhost:8080/",
          "height": 424
        },
        "id": "5Asa5yKJLLAD",
        "outputId": "c574f55a-b393-4e6d-82cc-b64f1bad6e1b"
      },
      "source": [
        "df.dropna(subset=[\"Salary\"])"
      ],
      "execution_count": null,
      "outputs": [
        {
          "output_type": "execute_result",
          "data": {
            "text/html": [
              "<div>\n",
              "<style scoped>\n",
              "    .dataframe tbody tr th:only-of-type {\n",
              "        vertical-align: middle;\n",
              "    }\n",
              "\n",
              "    .dataframe tbody tr th {\n",
              "        vertical-align: top;\n",
              "    }\n",
              "\n",
              "    .dataframe thead th {\n",
              "        text-align: right;\n",
              "    }\n",
              "</style>\n",
              "<table border=\"1\" class=\"dataframe\">\n",
              "  <thead>\n",
              "    <tr style=\"text-align: right;\">\n",
              "      <th></th>\n",
              "      <th>Name</th>\n",
              "      <th>Team</th>\n",
              "      <th>Number</th>\n",
              "      <th>Position</th>\n",
              "      <th>Age</th>\n",
              "      <th>Height</th>\n",
              "      <th>Weight</th>\n",
              "      <th>College</th>\n",
              "      <th>Salary</th>\n",
              "    </tr>\n",
              "  </thead>\n",
              "  <tbody>\n",
              "    <tr>\n",
              "      <th>0</th>\n",
              "      <td>Avery Bradley</td>\n",
              "      <td>Boston Celtics</td>\n",
              "      <td>0.0</td>\n",
              "      <td>PG</td>\n",
              "      <td>25.0</td>\n",
              "      <td>6-2</td>\n",
              "      <td>180.0</td>\n",
              "      <td>Texas</td>\n",
              "      <td>7730337.0</td>\n",
              "    </tr>\n",
              "    <tr>\n",
              "      <th>1</th>\n",
              "      <td>Jae Crowder</td>\n",
              "      <td>Boston Celtics</td>\n",
              "      <td>99.0</td>\n",
              "      <td>SF</td>\n",
              "      <td>25.0</td>\n",
              "      <td>6-6</td>\n",
              "      <td>235.0</td>\n",
              "      <td>Marquette</td>\n",
              "      <td>6796117.0</td>\n",
              "    </tr>\n",
              "    <tr>\n",
              "      <th>3</th>\n",
              "      <td>R.J. Hunter</td>\n",
              "      <td>Boston Celtics</td>\n",
              "      <td>28.0</td>\n",
              "      <td>SG</td>\n",
              "      <td>22.0</td>\n",
              "      <td>6-5</td>\n",
              "      <td>185.0</td>\n",
              "      <td>Georgia State</td>\n",
              "      <td>1148640.0</td>\n",
              "    </tr>\n",
              "    <tr>\n",
              "      <th>4</th>\n",
              "      <td>Jonas Jerebko</td>\n",
              "      <td>Boston Celtics</td>\n",
              "      <td>8.0</td>\n",
              "      <td>PF</td>\n",
              "      <td>29.0</td>\n",
              "      <td>6-10</td>\n",
              "      <td>231.0</td>\n",
              "      <td>NaN</td>\n",
              "      <td>5000000.0</td>\n",
              "    </tr>\n",
              "    <tr>\n",
              "      <th>5</th>\n",
              "      <td>Amir Johnson</td>\n",
              "      <td>Boston Celtics</td>\n",
              "      <td>90.0</td>\n",
              "      <td>PF</td>\n",
              "      <td>29.0</td>\n",
              "      <td>6-9</td>\n",
              "      <td>240.0</td>\n",
              "      <td>NaN</td>\n",
              "      <td>12000000.0</td>\n",
              "    </tr>\n",
              "    <tr>\n",
              "      <th>...</th>\n",
              "      <td>...</td>\n",
              "      <td>...</td>\n",
              "      <td>...</td>\n",
              "      <td>...</td>\n",
              "      <td>...</td>\n",
              "      <td>...</td>\n",
              "      <td>...</td>\n",
              "      <td>...</td>\n",
              "      <td>...</td>\n",
              "    </tr>\n",
              "    <tr>\n",
              "      <th>452</th>\n",
              "      <td>Trey Lyles</td>\n",
              "      <td>Utah Jazz</td>\n",
              "      <td>41.0</td>\n",
              "      <td>PF</td>\n",
              "      <td>20.0</td>\n",
              "      <td>6-10</td>\n",
              "      <td>234.0</td>\n",
              "      <td>Kentucky</td>\n",
              "      <td>2239800.0</td>\n",
              "    </tr>\n",
              "    <tr>\n",
              "      <th>453</th>\n",
              "      <td>Shelvin Mack</td>\n",
              "      <td>Utah Jazz</td>\n",
              "      <td>8.0</td>\n",
              "      <td>PG</td>\n",
              "      <td>26.0</td>\n",
              "      <td>6-3</td>\n",
              "      <td>203.0</td>\n",
              "      <td>Butler</td>\n",
              "      <td>2433333.0</td>\n",
              "    </tr>\n",
              "    <tr>\n",
              "      <th>454</th>\n",
              "      <td>Raul Neto</td>\n",
              "      <td>Utah Jazz</td>\n",
              "      <td>25.0</td>\n",
              "      <td>PG</td>\n",
              "      <td>24.0</td>\n",
              "      <td>6-1</td>\n",
              "      <td>179.0</td>\n",
              "      <td>NaN</td>\n",
              "      <td>900000.0</td>\n",
              "    </tr>\n",
              "    <tr>\n",
              "      <th>455</th>\n",
              "      <td>Tibor Pleiss</td>\n",
              "      <td>Utah Jazz</td>\n",
              "      <td>21.0</td>\n",
              "      <td>C</td>\n",
              "      <td>26.0</td>\n",
              "      <td>7-3</td>\n",
              "      <td>256.0</td>\n",
              "      <td>NaN</td>\n",
              "      <td>2900000.0</td>\n",
              "    </tr>\n",
              "    <tr>\n",
              "      <th>456</th>\n",
              "      <td>Jeff Withey</td>\n",
              "      <td>Utah Jazz</td>\n",
              "      <td>24.0</td>\n",
              "      <td>C</td>\n",
              "      <td>26.0</td>\n",
              "      <td>7-0</td>\n",
              "      <td>231.0</td>\n",
              "      <td>Kansas</td>\n",
              "      <td>947276.0</td>\n",
              "    </tr>\n",
              "  </tbody>\n",
              "</table>\n",
              "<p>446 rows × 9 columns</p>\n",
              "</div>"
            ],
            "text/plain": [
              "              Name            Team  Number  ... Weight        College      Salary\n",
              "0    Avery Bradley  Boston Celtics     0.0  ...  180.0          Texas   7730337.0\n",
              "1      Jae Crowder  Boston Celtics    99.0  ...  235.0      Marquette   6796117.0\n",
              "3      R.J. Hunter  Boston Celtics    28.0  ...  185.0  Georgia State   1148640.0\n",
              "4    Jonas Jerebko  Boston Celtics     8.0  ...  231.0            NaN   5000000.0\n",
              "5     Amir Johnson  Boston Celtics    90.0  ...  240.0            NaN  12000000.0\n",
              "..             ...             ...     ...  ...    ...            ...         ...\n",
              "452     Trey Lyles       Utah Jazz    41.0  ...  234.0       Kentucky   2239800.0\n",
              "453   Shelvin Mack       Utah Jazz     8.0  ...  203.0         Butler   2433333.0\n",
              "454      Raul Neto       Utah Jazz    25.0  ...  179.0            NaN    900000.0\n",
              "455   Tibor Pleiss       Utah Jazz    21.0  ...  256.0            NaN   2900000.0\n",
              "456    Jeff Withey       Utah Jazz    24.0  ...  231.0         Kansas    947276.0\n",
              "\n",
              "[446 rows x 9 columns]"
            ]
          },
          "metadata": {},
          "execution_count": 24
        }
      ]
    },
    {
      "cell_type": "markdown",
      "metadata": {
        "id": "xcXgzM5xQsjI"
      },
      "source": [
        "Mengganti nilai NaN"
      ]
    },
    {
      "cell_type": "code",
      "metadata": {
        "colab": {
          "base_uri": "https://localhost:8080/",
          "height": 424
        },
        "id": "K5JP-X3RQvDY",
        "outputId": "fdf7417b-8b49-459b-b93d-baf54323ac42"
      },
      "source": [
        "df[\"Salary\"].fillna(0, inplace=True)"
      ],
      "execution_count": null,
      "outputs": [
        {
          "output_type": "execute_result",
          "data": {
            "text/html": [
              "<div>\n",
              "<style scoped>\n",
              "    .dataframe tbody tr th:only-of-type {\n",
              "        vertical-align: middle;\n",
              "    }\n",
              "\n",
              "    .dataframe tbody tr th {\n",
              "        vertical-align: top;\n",
              "    }\n",
              "\n",
              "    .dataframe thead th {\n",
              "        text-align: right;\n",
              "    }\n",
              "</style>\n",
              "<table border=\"1\" class=\"dataframe\">\n",
              "  <thead>\n",
              "    <tr style=\"text-align: right;\">\n",
              "      <th></th>\n",
              "      <th>Name</th>\n",
              "      <th>Team</th>\n",
              "      <th>Number</th>\n",
              "      <th>Position</th>\n",
              "      <th>Age</th>\n",
              "      <th>Height</th>\n",
              "      <th>Weight</th>\n",
              "      <th>College</th>\n",
              "      <th>Salary</th>\n",
              "    </tr>\n",
              "  </thead>\n",
              "  <tbody>\n",
              "    <tr>\n",
              "      <th>0</th>\n",
              "      <td>Avery Bradley</td>\n",
              "      <td>Boston Celtics</td>\n",
              "      <td>0.0</td>\n",
              "      <td>PG</td>\n",
              "      <td>25.0</td>\n",
              "      <td>6-2</td>\n",
              "      <td>180.0</td>\n",
              "      <td>Texas</td>\n",
              "      <td>7730337.0</td>\n",
              "    </tr>\n",
              "    <tr>\n",
              "      <th>1</th>\n",
              "      <td>Jae Crowder</td>\n",
              "      <td>Boston Celtics</td>\n",
              "      <td>99.0</td>\n",
              "      <td>SF</td>\n",
              "      <td>25.0</td>\n",
              "      <td>6-6</td>\n",
              "      <td>235.0</td>\n",
              "      <td>Marquette</td>\n",
              "      <td>6796117.0</td>\n",
              "    </tr>\n",
              "    <tr>\n",
              "      <th>2</th>\n",
              "      <td>John Holland</td>\n",
              "      <td>Boston Celtics</td>\n",
              "      <td>30.0</td>\n",
              "      <td>SG</td>\n",
              "      <td>27.0</td>\n",
              "      <td>6-5</td>\n",
              "      <td>205.0</td>\n",
              "      <td>Boston University</td>\n",
              "      <td>0.0</td>\n",
              "    </tr>\n",
              "    <tr>\n",
              "      <th>3</th>\n",
              "      <td>R.J. Hunter</td>\n",
              "      <td>Boston Celtics</td>\n",
              "      <td>28.0</td>\n",
              "      <td>SG</td>\n",
              "      <td>22.0</td>\n",
              "      <td>6-5</td>\n",
              "      <td>185.0</td>\n",
              "      <td>Georgia State</td>\n",
              "      <td>1148640.0</td>\n",
              "    </tr>\n",
              "    <tr>\n",
              "      <th>4</th>\n",
              "      <td>Jonas Jerebko</td>\n",
              "      <td>Boston Celtics</td>\n",
              "      <td>8.0</td>\n",
              "      <td>PF</td>\n",
              "      <td>29.0</td>\n",
              "      <td>6-10</td>\n",
              "      <td>231.0</td>\n",
              "      <td>NaN</td>\n",
              "      <td>5000000.0</td>\n",
              "    </tr>\n",
              "    <tr>\n",
              "      <th>...</th>\n",
              "      <td>...</td>\n",
              "      <td>...</td>\n",
              "      <td>...</td>\n",
              "      <td>...</td>\n",
              "      <td>...</td>\n",
              "      <td>...</td>\n",
              "      <td>...</td>\n",
              "      <td>...</td>\n",
              "      <td>...</td>\n",
              "    </tr>\n",
              "    <tr>\n",
              "      <th>453</th>\n",
              "      <td>Shelvin Mack</td>\n",
              "      <td>Utah Jazz</td>\n",
              "      <td>8.0</td>\n",
              "      <td>PG</td>\n",
              "      <td>26.0</td>\n",
              "      <td>6-3</td>\n",
              "      <td>203.0</td>\n",
              "      <td>Butler</td>\n",
              "      <td>2433333.0</td>\n",
              "    </tr>\n",
              "    <tr>\n",
              "      <th>454</th>\n",
              "      <td>Raul Neto</td>\n",
              "      <td>Utah Jazz</td>\n",
              "      <td>25.0</td>\n",
              "      <td>PG</td>\n",
              "      <td>24.0</td>\n",
              "      <td>6-1</td>\n",
              "      <td>179.0</td>\n",
              "      <td>NaN</td>\n",
              "      <td>900000.0</td>\n",
              "    </tr>\n",
              "    <tr>\n",
              "      <th>455</th>\n",
              "      <td>Tibor Pleiss</td>\n",
              "      <td>Utah Jazz</td>\n",
              "      <td>21.0</td>\n",
              "      <td>C</td>\n",
              "      <td>26.0</td>\n",
              "      <td>7-3</td>\n",
              "      <td>256.0</td>\n",
              "      <td>NaN</td>\n",
              "      <td>2900000.0</td>\n",
              "    </tr>\n",
              "    <tr>\n",
              "      <th>456</th>\n",
              "      <td>Jeff Withey</td>\n",
              "      <td>Utah Jazz</td>\n",
              "      <td>24.0</td>\n",
              "      <td>C</td>\n",
              "      <td>26.0</td>\n",
              "      <td>7-0</td>\n",
              "      <td>231.0</td>\n",
              "      <td>Kansas</td>\n",
              "      <td>947276.0</td>\n",
              "    </tr>\n",
              "    <tr>\n",
              "      <th>457</th>\n",
              "      <td>NaN</td>\n",
              "      <td>NaN</td>\n",
              "      <td>NaN</td>\n",
              "      <td>NaN</td>\n",
              "      <td>NaN</td>\n",
              "      <td>NaN</td>\n",
              "      <td>NaN</td>\n",
              "      <td>NaN</td>\n",
              "      <td>0.0</td>\n",
              "    </tr>\n",
              "  </tbody>\n",
              "</table>\n",
              "<p>458 rows × 9 columns</p>\n",
              "</div>"
            ],
            "text/plain": [
              "              Name            Team  ...            College     Salary\n",
              "0    Avery Bradley  Boston Celtics  ...              Texas  7730337.0\n",
              "1      Jae Crowder  Boston Celtics  ...          Marquette  6796117.0\n",
              "2     John Holland  Boston Celtics  ...  Boston University        0.0\n",
              "3      R.J. Hunter  Boston Celtics  ...      Georgia State  1148640.0\n",
              "4    Jonas Jerebko  Boston Celtics  ...                NaN  5000000.0\n",
              "..             ...             ...  ...                ...        ...\n",
              "453   Shelvin Mack       Utah Jazz  ...             Butler  2433333.0\n",
              "454      Raul Neto       Utah Jazz  ...                NaN   900000.0\n",
              "455   Tibor Pleiss       Utah Jazz  ...                NaN  2900000.0\n",
              "456    Jeff Withey       Utah Jazz  ...             Kansas   947276.0\n",
              "457            NaN             NaN  ...                NaN        0.0\n",
              "\n",
              "[458 rows x 9 columns]"
            ]
          },
          "metadata": {},
          "execution_count": 5
        }
      ]
    },
    {
      "cell_type": "code",
      "metadata": {
        "id": "AswelzWRXwwT"
      },
      "source": [
        "df[\"College\"].fillna(\"No College\", inplace=True)"
      ],
      "execution_count": null,
      "outputs": []
    },
    {
      "cell_type": "code",
      "metadata": {
        "colab": {
          "base_uri": "https://localhost:8080/",
          "height": 206
        },
        "id": "h-ZpQk3AYD7T",
        "outputId": "8664f3ed-3040-40a3-b2c7-de84b9fb522c"
      },
      "source": [
        "df.head()"
      ],
      "execution_count": null,
      "outputs": [
        {
          "output_type": "execute_result",
          "data": {
            "text/html": [
              "<div>\n",
              "<style scoped>\n",
              "    .dataframe tbody tr th:only-of-type {\n",
              "        vertical-align: middle;\n",
              "    }\n",
              "\n",
              "    .dataframe tbody tr th {\n",
              "        vertical-align: top;\n",
              "    }\n",
              "\n",
              "    .dataframe thead th {\n",
              "        text-align: right;\n",
              "    }\n",
              "</style>\n",
              "<table border=\"1\" class=\"dataframe\">\n",
              "  <thead>\n",
              "    <tr style=\"text-align: right;\">\n",
              "      <th></th>\n",
              "      <th>Name</th>\n",
              "      <th>Team</th>\n",
              "      <th>Number</th>\n",
              "      <th>Position</th>\n",
              "      <th>Age</th>\n",
              "      <th>Height</th>\n",
              "      <th>Weight</th>\n",
              "      <th>College</th>\n",
              "      <th>Salary</th>\n",
              "    </tr>\n",
              "  </thead>\n",
              "  <tbody>\n",
              "    <tr>\n",
              "      <th>0</th>\n",
              "      <td>Avery Bradley</td>\n",
              "      <td>Boston Celtics</td>\n",
              "      <td>0.0</td>\n",
              "      <td>PG</td>\n",
              "      <td>25.0</td>\n",
              "      <td>6-2</td>\n",
              "      <td>180.0</td>\n",
              "      <td>Texas</td>\n",
              "      <td>7730337.0</td>\n",
              "    </tr>\n",
              "    <tr>\n",
              "      <th>1</th>\n",
              "      <td>Jae Crowder</td>\n",
              "      <td>Boston Celtics</td>\n",
              "      <td>99.0</td>\n",
              "      <td>SF</td>\n",
              "      <td>25.0</td>\n",
              "      <td>6-6</td>\n",
              "      <td>235.0</td>\n",
              "      <td>Marquette</td>\n",
              "      <td>6796117.0</td>\n",
              "    </tr>\n",
              "    <tr>\n",
              "      <th>2</th>\n",
              "      <td>John Holland</td>\n",
              "      <td>Boston Celtics</td>\n",
              "      <td>30.0</td>\n",
              "      <td>SG</td>\n",
              "      <td>27.0</td>\n",
              "      <td>6-5</td>\n",
              "      <td>205.0</td>\n",
              "      <td>Boston University</td>\n",
              "      <td>0.0</td>\n",
              "    </tr>\n",
              "    <tr>\n",
              "      <th>3</th>\n",
              "      <td>R.J. Hunter</td>\n",
              "      <td>Boston Celtics</td>\n",
              "      <td>28.0</td>\n",
              "      <td>SG</td>\n",
              "      <td>22.0</td>\n",
              "      <td>6-5</td>\n",
              "      <td>185.0</td>\n",
              "      <td>Georgia State</td>\n",
              "      <td>1148640.0</td>\n",
              "    </tr>\n",
              "    <tr>\n",
              "      <th>4</th>\n",
              "      <td>Jonas Jerebko</td>\n",
              "      <td>Boston Celtics</td>\n",
              "      <td>8.0</td>\n",
              "      <td>PF</td>\n",
              "      <td>29.0</td>\n",
              "      <td>6-10</td>\n",
              "      <td>231.0</td>\n",
              "      <td>No College</td>\n",
              "      <td>5000000.0</td>\n",
              "    </tr>\n",
              "  </tbody>\n",
              "</table>\n",
              "</div>"
            ],
            "text/plain": [
              "            Name            Team  Number  ... Weight            College     Salary\n",
              "0  Avery Bradley  Boston Celtics     0.0  ...  180.0              Texas  7730337.0\n",
              "1    Jae Crowder  Boston Celtics    99.0  ...  235.0          Marquette  6796117.0\n",
              "2   John Holland  Boston Celtics    30.0  ...  205.0  Boston University        0.0\n",
              "3    R.J. Hunter  Boston Celtics    28.0  ...  185.0      Georgia State  1148640.0\n",
              "4  Jonas Jerebko  Boston Celtics     8.0  ...  231.0         No College  5000000.0\n",
              "\n",
              "[5 rows x 9 columns]"
            ]
          },
          "metadata": {},
          "execution_count": 9
        }
      ]
    },
    {
      "cell_type": "code",
      "metadata": {
        "colab": {
          "base_uri": "https://localhost:8080/"
        },
        "id": "5uvVVchsdC5x",
        "outputId": "a4ccea28-73d9-47ac-efa4-eb4319335574"
      },
      "source": [
        "df.dtypes"
      ],
      "execution_count": null,
      "outputs": [
        {
          "output_type": "execute_result",
          "data": {
            "text/plain": [
              "Name         object\n",
              "Team         object\n",
              "Number      float64\n",
              "Position     object\n",
              "Age         float64\n",
              "Height       object\n",
              "Weight      float64\n",
              "College      object\n",
              "Salary      float64\n",
              "dtype: object"
            ]
          },
          "metadata": {},
          "execution_count": 10
        }
      ]
    },
    {
      "cell_type": "code",
      "metadata": {
        "id": "a42zGk3udlJ0"
      },
      "source": [
        "df[\"Salary\"] = df[\"Salary\"].astype(\"int\")"
      ],
      "execution_count": null,
      "outputs": []
    },
    {
      "cell_type": "code",
      "metadata": {
        "colab": {
          "base_uri": "https://localhost:8080/"
        },
        "id": "GS3HyAoudwI9",
        "outputId": "f258c4b3-2cb7-4074-c476-a4925cac0fcb"
      },
      "source": [
        "df.dtypes"
      ],
      "execution_count": null,
      "outputs": [
        {
          "output_type": "execute_result",
          "data": {
            "text/plain": [
              "Name         object\n",
              "Team         object\n",
              "Number      float64\n",
              "Position     object\n",
              "Age         float64\n",
              "Height       object\n",
              "Weight      float64\n",
              "College      object\n",
              "Salary        int64\n",
              "dtype: object"
            ]
          },
          "metadata": {},
          "execution_count": 12
        }
      ]
    },
    {
      "cell_type": "code",
      "metadata": {
        "colab": {
          "base_uri": "https://localhost:8080/"
        },
        "id": "sry4jZBFeWn4",
        "outputId": "b330a873-f409-494e-b66b-0e451bbe8185"
      },
      "source": [
        "df.info()"
      ],
      "execution_count": null,
      "outputs": [
        {
          "output_type": "stream",
          "name": "stdout",
          "text": [
            "<class 'pandas.core.frame.DataFrame'>\n",
            "RangeIndex: 458 entries, 0 to 457\n",
            "Data columns (total 9 columns):\n",
            " #   Column    Non-Null Count  Dtype  \n",
            "---  ------    --------------  -----  \n",
            " 0   Name      457 non-null    object \n",
            " 1   Team      457 non-null    object \n",
            " 2   Number    457 non-null    float64\n",
            " 3   Position  457 non-null    object \n",
            " 4   Age       457 non-null    float64\n",
            " 5   Height    457 non-null    object \n",
            " 6   Weight    457 non-null    float64\n",
            " 7   College   458 non-null    object \n",
            " 8   Salary    458 non-null    int64  \n",
            "dtypes: float64(3), int64(1), object(5)\n",
            "memory usage: 32.3+ KB\n"
          ]
        }
      ]
    },
    {
      "cell_type": "code",
      "metadata": {
        "id": "G00-7-c6eltx"
      },
      "source": [
        "df[\"Age\"].fillna(0, inplace=True)"
      ],
      "execution_count": null,
      "outputs": []
    },
    {
      "cell_type": "code",
      "metadata": {
        "id": "Yvb2L58SesHh"
      },
      "source": [
        "df[\"Number\"].fillna(0, inplace = True)"
      ],
      "execution_count": null,
      "outputs": []
    },
    {
      "cell_type": "code",
      "metadata": {
        "id": "q4OS_qUHeQAu"
      },
      "source": [
        "df[\"Age\"] = df[\"Age\"].astype(\"int\")\n",
        "df[\"Number\"] = df[\"Number\"].astype(\"int\")"
      ],
      "execution_count": null,
      "outputs": []
    },
    {
      "cell_type": "code",
      "metadata": {
        "colab": {
          "base_uri": "https://localhost:8080/"
        },
        "id": "39USNVe1ex0D",
        "outputId": "72ce9662-b725-45ee-ab1a-d193be405c8c"
      },
      "source": [
        "df.info()"
      ],
      "execution_count": null,
      "outputs": [
        {
          "output_type": "stream",
          "name": "stdout",
          "text": [
            "<class 'pandas.core.frame.DataFrame'>\n",
            "RangeIndex: 458 entries, 0 to 457\n",
            "Data columns (total 9 columns):\n",
            " #   Column    Non-Null Count  Dtype  \n",
            "---  ------    --------------  -----  \n",
            " 0   Name      457 non-null    object \n",
            " 1   Team      457 non-null    object \n",
            " 2   Number    458 non-null    int64  \n",
            " 3   Position  457 non-null    object \n",
            " 4   Age       458 non-null    int64  \n",
            " 5   Height    457 non-null    object \n",
            " 6   Weight    457 non-null    float64\n",
            " 7   College   458 non-null    object \n",
            " 8   Salary    458 non-null    int64  \n",
            "dtypes: float64(1), int64(3), object(5)\n",
            "memory usage: 32.3+ KB\n"
          ]
        }
      ]
    },
    {
      "cell_type": "code",
      "metadata": {
        "colab": {
          "base_uri": "https://localhost:8080/"
        },
        "id": "kTBilvlDhVpv",
        "outputId": "7376b6e1-97a8-4988-c0b1-3b36e6ac6a6d"
      },
      "source": [
        "df[\"Position\"].nunique()"
      ],
      "execution_count": null,
      "outputs": [
        {
          "output_type": "execute_result",
          "data": {
            "text/plain": [
              "5"
            ]
          },
          "metadata": {},
          "execution_count": 20
        }
      ]
    },
    {
      "cell_type": "code",
      "metadata": {
        "id": "BJdYodh0h2fa"
      },
      "source": [
        "df[\"Position\"] = df[\"Position\"].astype(\"category\")"
      ],
      "execution_count": null,
      "outputs": []
    },
    {
      "cell_type": "code",
      "metadata": {
        "colab": {
          "base_uri": "https://localhost:8080/"
        },
        "id": "iZFtRmb8h6Tw",
        "outputId": "8e97e6ed-e791-480f-8da9-1fbb7340fdb5"
      },
      "source": [
        "df.info()"
      ],
      "execution_count": null,
      "outputs": [
        {
          "output_type": "stream",
          "name": "stdout",
          "text": [
            "<class 'pandas.core.frame.DataFrame'>\n",
            "RangeIndex: 458 entries, 0 to 457\n",
            "Data columns (total 9 columns):\n",
            " #   Column    Non-Null Count  Dtype   \n",
            "---  ------    --------------  -----   \n",
            " 0   Name      457 non-null    object  \n",
            " 1   Team      457 non-null    object  \n",
            " 2   Number    458 non-null    int64   \n",
            " 3   Position  457 non-null    category\n",
            " 4   Age       458 non-null    int64   \n",
            " 5   Height    457 non-null    object  \n",
            " 6   Weight    457 non-null    float64 \n",
            " 7   College   458 non-null    object  \n",
            " 8   Salary    458 non-null    int64   \n",
            "dtypes: category(1), float64(1), int64(3), object(4)\n",
            "memory usage: 29.4+ KB\n"
          ]
        }
      ]
    },
    {
      "cell_type": "markdown",
      "metadata": {
        "id": "XPl5cgG7tOjA"
      },
      "source": [
        "Sort Value"
      ]
    },
    {
      "cell_type": "code",
      "metadata": {
        "colab": {
          "base_uri": "https://localhost:8080/",
          "height": 424
        },
        "id": "Q4W6BGootOEy",
        "outputId": "5e0745bd-ec57-4637-f410-72f35ce77809"
      },
      "source": [
        "df.sort_values(\"Name\")"
      ],
      "execution_count": null,
      "outputs": [
        {
          "output_type": "execute_result",
          "data": {
            "text/html": [
              "<div>\n",
              "<style scoped>\n",
              "    .dataframe tbody tr th:only-of-type {\n",
              "        vertical-align: middle;\n",
              "    }\n",
              "\n",
              "    .dataframe tbody tr th {\n",
              "        vertical-align: top;\n",
              "    }\n",
              "\n",
              "    .dataframe thead th {\n",
              "        text-align: right;\n",
              "    }\n",
              "</style>\n",
              "<table border=\"1\" class=\"dataframe\">\n",
              "  <thead>\n",
              "    <tr style=\"text-align: right;\">\n",
              "      <th></th>\n",
              "      <th>Name</th>\n",
              "      <th>Team</th>\n",
              "      <th>Number</th>\n",
              "      <th>Position</th>\n",
              "      <th>Age</th>\n",
              "      <th>Height</th>\n",
              "      <th>Weight</th>\n",
              "      <th>College</th>\n",
              "      <th>Salary</th>\n",
              "    </tr>\n",
              "  </thead>\n",
              "  <tbody>\n",
              "    <tr>\n",
              "      <th>152</th>\n",
              "      <td>Aaron Brooks</td>\n",
              "      <td>Chicago Bulls</td>\n",
              "      <td>0.0</td>\n",
              "      <td>PG</td>\n",
              "      <td>31.0</td>\n",
              "      <td>6-0</td>\n",
              "      <td>161.0</td>\n",
              "      <td>Oregon</td>\n",
              "      <td>2250000.0</td>\n",
              "    </tr>\n",
              "    <tr>\n",
              "      <th>356</th>\n",
              "      <td>Aaron Gordon</td>\n",
              "      <td>Orlando Magic</td>\n",
              "      <td>0.0</td>\n",
              "      <td>PF</td>\n",
              "      <td>20.0</td>\n",
              "      <td>6-9</td>\n",
              "      <td>220.0</td>\n",
              "      <td>Arizona</td>\n",
              "      <td>4171680.0</td>\n",
              "    </tr>\n",
              "    <tr>\n",
              "      <th>328</th>\n",
              "      <td>Aaron Harrison</td>\n",
              "      <td>Charlotte Hornets</td>\n",
              "      <td>9.0</td>\n",
              "      <td>SG</td>\n",
              "      <td>21.0</td>\n",
              "      <td>6-6</td>\n",
              "      <td>210.0</td>\n",
              "      <td>Kentucky</td>\n",
              "      <td>525093.0</td>\n",
              "    </tr>\n",
              "    <tr>\n",
              "      <th>404</th>\n",
              "      <td>Adreian Payne</td>\n",
              "      <td>Minnesota Timberwolves</td>\n",
              "      <td>33.0</td>\n",
              "      <td>PF</td>\n",
              "      <td>25.0</td>\n",
              "      <td>6-10</td>\n",
              "      <td>237.0</td>\n",
              "      <td>Michigan State</td>\n",
              "      <td>1938840.0</td>\n",
              "    </tr>\n",
              "    <tr>\n",
              "      <th>312</th>\n",
              "      <td>Al Horford</td>\n",
              "      <td>Atlanta Hawks</td>\n",
              "      <td>15.0</td>\n",
              "      <td>C</td>\n",
              "      <td>30.0</td>\n",
              "      <td>6-10</td>\n",
              "      <td>245.0</td>\n",
              "      <td>Florida</td>\n",
              "      <td>12000000.0</td>\n",
              "    </tr>\n",
              "    <tr>\n",
              "      <th>...</th>\n",
              "      <td>...</td>\n",
              "      <td>...</td>\n",
              "      <td>...</td>\n",
              "      <td>...</td>\n",
              "      <td>...</td>\n",
              "      <td>...</td>\n",
              "      <td>...</td>\n",
              "      <td>...</td>\n",
              "      <td>...</td>\n",
              "    </tr>\n",
              "    <tr>\n",
              "      <th>270</th>\n",
              "      <td>Xavier Munford</td>\n",
              "      <td>Memphis Grizzlies</td>\n",
              "      <td>14.0</td>\n",
              "      <td>PG</td>\n",
              "      <td>24.0</td>\n",
              "      <td>6-3</td>\n",
              "      <td>180.0</td>\n",
              "      <td>Rhode Island</td>\n",
              "      <td>NaN</td>\n",
              "    </tr>\n",
              "    <tr>\n",
              "      <th>402</th>\n",
              "      <td>Zach LaVine</td>\n",
              "      <td>Minnesota Timberwolves</td>\n",
              "      <td>8.0</td>\n",
              "      <td>PG</td>\n",
              "      <td>21.0</td>\n",
              "      <td>6-5</td>\n",
              "      <td>189.0</td>\n",
              "      <td>UCLA</td>\n",
              "      <td>2148360.0</td>\n",
              "    </tr>\n",
              "    <tr>\n",
              "      <th>271</th>\n",
              "      <td>Zach Randolph</td>\n",
              "      <td>Memphis Grizzlies</td>\n",
              "      <td>50.0</td>\n",
              "      <td>PF</td>\n",
              "      <td>34.0</td>\n",
              "      <td>6-9</td>\n",
              "      <td>260.0</td>\n",
              "      <td>Michigan State</td>\n",
              "      <td>9638555.0</td>\n",
              "    </tr>\n",
              "    <tr>\n",
              "      <th>237</th>\n",
              "      <td>Zaza Pachulia</td>\n",
              "      <td>Dallas Mavericks</td>\n",
              "      <td>27.0</td>\n",
              "      <td>C</td>\n",
              "      <td>32.0</td>\n",
              "      <td>6-11</td>\n",
              "      <td>275.0</td>\n",
              "      <td>NaN</td>\n",
              "      <td>5200000.0</td>\n",
              "    </tr>\n",
              "    <tr>\n",
              "      <th>457</th>\n",
              "      <td>NaN</td>\n",
              "      <td>NaN</td>\n",
              "      <td>NaN</td>\n",
              "      <td>NaN</td>\n",
              "      <td>NaN</td>\n",
              "      <td>NaN</td>\n",
              "      <td>NaN</td>\n",
              "      <td>NaN</td>\n",
              "      <td>NaN</td>\n",
              "    </tr>\n",
              "  </tbody>\n",
              "</table>\n",
              "<p>458 rows × 9 columns</p>\n",
              "</div>"
            ],
            "text/plain": [
              "               Name                    Team  ...         College      Salary\n",
              "152    Aaron Brooks           Chicago Bulls  ...          Oregon   2250000.0\n",
              "356    Aaron Gordon           Orlando Magic  ...         Arizona   4171680.0\n",
              "328  Aaron Harrison       Charlotte Hornets  ...        Kentucky    525093.0\n",
              "404   Adreian Payne  Minnesota Timberwolves  ...  Michigan State   1938840.0\n",
              "312      Al Horford           Atlanta Hawks  ...         Florida  12000000.0\n",
              "..              ...                     ...  ...             ...         ...\n",
              "270  Xavier Munford       Memphis Grizzlies  ...    Rhode Island         NaN\n",
              "402     Zach LaVine  Minnesota Timberwolves  ...            UCLA   2148360.0\n",
              "271   Zach Randolph       Memphis Grizzlies  ...  Michigan State   9638555.0\n",
              "237   Zaza Pachulia        Dallas Mavericks  ...             NaN   5200000.0\n",
              "457             NaN                     NaN  ...             NaN         NaN\n",
              "\n",
              "[458 rows x 9 columns]"
            ]
          },
          "metadata": {},
          "execution_count": 4
        }
      ]
    },
    {
      "cell_type": "code",
      "metadata": {
        "colab": {
          "base_uri": "https://localhost:8080/",
          "height": 424
        },
        "id": "b0nb6rUOvCT1",
        "outputId": "86ff3e05-bad2-4485-be03-afc4ec743d9f"
      },
      "source": [
        "df.sort_values(\"Salary\", na_position=\"first\")"
      ],
      "execution_count": null,
      "outputs": [
        {
          "output_type": "execute_result",
          "data": {
            "text/html": [
              "<div>\n",
              "<style scoped>\n",
              "    .dataframe tbody tr th:only-of-type {\n",
              "        vertical-align: middle;\n",
              "    }\n",
              "\n",
              "    .dataframe tbody tr th {\n",
              "        vertical-align: top;\n",
              "    }\n",
              "\n",
              "    .dataframe thead th {\n",
              "        text-align: right;\n",
              "    }\n",
              "</style>\n",
              "<table border=\"1\" class=\"dataframe\">\n",
              "  <thead>\n",
              "    <tr style=\"text-align: right;\">\n",
              "      <th></th>\n",
              "      <th>Name</th>\n",
              "      <th>Team</th>\n",
              "      <th>Number</th>\n",
              "      <th>Position</th>\n",
              "      <th>Age</th>\n",
              "      <th>Height</th>\n",
              "      <th>Weight</th>\n",
              "      <th>College</th>\n",
              "      <th>Salary</th>\n",
              "    </tr>\n",
              "  </thead>\n",
              "  <tbody>\n",
              "    <tr>\n",
              "      <th>2</th>\n",
              "      <td>John Holland</td>\n",
              "      <td>Boston Celtics</td>\n",
              "      <td>30.0</td>\n",
              "      <td>SG</td>\n",
              "      <td>27.0</td>\n",
              "      <td>6-5</td>\n",
              "      <td>205.0</td>\n",
              "      <td>Boston University</td>\n",
              "      <td>NaN</td>\n",
              "    </tr>\n",
              "    <tr>\n",
              "      <th>46</th>\n",
              "      <td>Elton Brand</td>\n",
              "      <td>Philadelphia 76ers</td>\n",
              "      <td>42.0</td>\n",
              "      <td>PF</td>\n",
              "      <td>37.0</td>\n",
              "      <td>6-9</td>\n",
              "      <td>254.0</td>\n",
              "      <td>Duke</td>\n",
              "      <td>NaN</td>\n",
              "    </tr>\n",
              "    <tr>\n",
              "      <th>171</th>\n",
              "      <td>Dahntay Jones</td>\n",
              "      <td>Cleveland Cavaliers</td>\n",
              "      <td>30.0</td>\n",
              "      <td>SG</td>\n",
              "      <td>35.0</td>\n",
              "      <td>6-6</td>\n",
              "      <td>225.0</td>\n",
              "      <td>Duke</td>\n",
              "      <td>NaN</td>\n",
              "    </tr>\n",
              "    <tr>\n",
              "      <th>264</th>\n",
              "      <td>Jordan Farmar</td>\n",
              "      <td>Memphis Grizzlies</td>\n",
              "      <td>4.0</td>\n",
              "      <td>PG</td>\n",
              "      <td>29.0</td>\n",
              "      <td>6-2</td>\n",
              "      <td>180.0</td>\n",
              "      <td>UCLA</td>\n",
              "      <td>NaN</td>\n",
              "    </tr>\n",
              "    <tr>\n",
              "      <th>269</th>\n",
              "      <td>Ray McCallum</td>\n",
              "      <td>Memphis Grizzlies</td>\n",
              "      <td>5.0</td>\n",
              "      <td>PG</td>\n",
              "      <td>24.0</td>\n",
              "      <td>6-3</td>\n",
              "      <td>190.0</td>\n",
              "      <td>Detroit</td>\n",
              "      <td>NaN</td>\n",
              "    </tr>\n",
              "    <tr>\n",
              "      <th>...</th>\n",
              "      <td>...</td>\n",
              "      <td>...</td>\n",
              "      <td>...</td>\n",
              "      <td>...</td>\n",
              "      <td>...</td>\n",
              "      <td>...</td>\n",
              "      <td>...</td>\n",
              "      <td>...</td>\n",
              "      <td>...</td>\n",
              "    </tr>\n",
              "    <tr>\n",
              "      <th>339</th>\n",
              "      <td>Chris Bosh</td>\n",
              "      <td>Miami Heat</td>\n",
              "      <td>1.0</td>\n",
              "      <td>PF</td>\n",
              "      <td>32.0</td>\n",
              "      <td>6-11</td>\n",
              "      <td>235.0</td>\n",
              "      <td>Georgia Tech</td>\n",
              "      <td>22192730.0</td>\n",
              "    </tr>\n",
              "    <tr>\n",
              "      <th>251</th>\n",
              "      <td>Dwight Howard</td>\n",
              "      <td>Houston Rockets</td>\n",
              "      <td>12.0</td>\n",
              "      <td>C</td>\n",
              "      <td>30.0</td>\n",
              "      <td>6-11</td>\n",
              "      <td>265.0</td>\n",
              "      <td>NaN</td>\n",
              "      <td>22359364.0</td>\n",
              "    </tr>\n",
              "    <tr>\n",
              "      <th>33</th>\n",
              "      <td>Carmelo Anthony</td>\n",
              "      <td>New York Knicks</td>\n",
              "      <td>7.0</td>\n",
              "      <td>SF</td>\n",
              "      <td>32.0</td>\n",
              "      <td>6-8</td>\n",
              "      <td>240.0</td>\n",
              "      <td>Syracuse</td>\n",
              "      <td>22875000.0</td>\n",
              "    </tr>\n",
              "    <tr>\n",
              "      <th>169</th>\n",
              "      <td>LeBron James</td>\n",
              "      <td>Cleveland Cavaliers</td>\n",
              "      <td>23.0</td>\n",
              "      <td>SF</td>\n",
              "      <td>31.0</td>\n",
              "      <td>6-8</td>\n",
              "      <td>250.0</td>\n",
              "      <td>NaN</td>\n",
              "      <td>22970500.0</td>\n",
              "    </tr>\n",
              "    <tr>\n",
              "      <th>109</th>\n",
              "      <td>Kobe Bryant</td>\n",
              "      <td>Los Angeles Lakers</td>\n",
              "      <td>24.0</td>\n",
              "      <td>SF</td>\n",
              "      <td>37.0</td>\n",
              "      <td>6-6</td>\n",
              "      <td>212.0</td>\n",
              "      <td>NaN</td>\n",
              "      <td>25000000.0</td>\n",
              "    </tr>\n",
              "  </tbody>\n",
              "</table>\n",
              "<p>458 rows × 9 columns</p>\n",
              "</div>"
            ],
            "text/plain": [
              "                Name                 Team  ...            College      Salary\n",
              "2       John Holland       Boston Celtics  ...  Boston University         NaN\n",
              "46       Elton Brand   Philadelphia 76ers  ...               Duke         NaN\n",
              "171    Dahntay Jones  Cleveland Cavaliers  ...               Duke         NaN\n",
              "264    Jordan Farmar    Memphis Grizzlies  ...               UCLA         NaN\n",
              "269     Ray McCallum    Memphis Grizzlies  ...            Detroit         NaN\n",
              "..               ...                  ...  ...                ...         ...\n",
              "339       Chris Bosh           Miami Heat  ...       Georgia Tech  22192730.0\n",
              "251    Dwight Howard      Houston Rockets  ...                NaN  22359364.0\n",
              "33   Carmelo Anthony      New York Knicks  ...           Syracuse  22875000.0\n",
              "169     LeBron James  Cleveland Cavaliers  ...                NaN  22970500.0\n",
              "109      Kobe Bryant   Los Angeles Lakers  ...                NaN  25000000.0\n",
              "\n",
              "[458 rows x 9 columns]"
            ]
          },
          "metadata": {},
          "execution_count": 5
        }
      ]
    },
    {
      "cell_type": "code",
      "metadata": {
        "colab": {
          "base_uri": "https://localhost:8080/",
          "height": 424
        },
        "id": "EL5e2nhDvtEG",
        "outputId": "0389d15c-898a-455c-ef91-acc0eab9924f"
      },
      "source": [
        "df.sort_values([\"Team\", \"Name\"])"
      ],
      "execution_count": null,
      "outputs": [
        {
          "output_type": "execute_result",
          "data": {
            "text/html": [
              "<div>\n",
              "<style scoped>\n",
              "    .dataframe tbody tr th:only-of-type {\n",
              "        vertical-align: middle;\n",
              "    }\n",
              "\n",
              "    .dataframe tbody tr th {\n",
              "        vertical-align: top;\n",
              "    }\n",
              "\n",
              "    .dataframe thead th {\n",
              "        text-align: right;\n",
              "    }\n",
              "</style>\n",
              "<table border=\"1\" class=\"dataframe\">\n",
              "  <thead>\n",
              "    <tr style=\"text-align: right;\">\n",
              "      <th></th>\n",
              "      <th>Name</th>\n",
              "      <th>Team</th>\n",
              "      <th>Number</th>\n",
              "      <th>Position</th>\n",
              "      <th>Age</th>\n",
              "      <th>Height</th>\n",
              "      <th>Weight</th>\n",
              "      <th>College</th>\n",
              "      <th>Salary</th>\n",
              "    </tr>\n",
              "  </thead>\n",
              "  <tbody>\n",
              "    <tr>\n",
              "      <th>312</th>\n",
              "      <td>Al Horford</td>\n",
              "      <td>Atlanta Hawks</td>\n",
              "      <td>15.0</td>\n",
              "      <td>C</td>\n",
              "      <td>30.0</td>\n",
              "      <td>6-10</td>\n",
              "      <td>245.0</td>\n",
              "      <td>Florida</td>\n",
              "      <td>12000000.0</td>\n",
              "    </tr>\n",
              "    <tr>\n",
              "      <th>318</th>\n",
              "      <td>Dennis Schroder</td>\n",
              "      <td>Atlanta Hawks</td>\n",
              "      <td>17.0</td>\n",
              "      <td>PG</td>\n",
              "      <td>22.0</td>\n",
              "      <td>6-1</td>\n",
              "      <td>172.0</td>\n",
              "      <td>NaN</td>\n",
              "      <td>1763400.0</td>\n",
              "    </tr>\n",
              "    <tr>\n",
              "      <th>323</th>\n",
              "      <td>Jeff Teague</td>\n",
              "      <td>Atlanta Hawks</td>\n",
              "      <td>0.0</td>\n",
              "      <td>PG</td>\n",
              "      <td>27.0</td>\n",
              "      <td>6-2</td>\n",
              "      <td>186.0</td>\n",
              "      <td>Wake Forest</td>\n",
              "      <td>8000000.0</td>\n",
              "    </tr>\n",
              "    <tr>\n",
              "      <th>309</th>\n",
              "      <td>Kent Bazemore</td>\n",
              "      <td>Atlanta Hawks</td>\n",
              "      <td>24.0</td>\n",
              "      <td>SF</td>\n",
              "      <td>26.0</td>\n",
              "      <td>6-5</td>\n",
              "      <td>201.0</td>\n",
              "      <td>Old Dominion</td>\n",
              "      <td>2000000.0</td>\n",
              "    </tr>\n",
              "    <tr>\n",
              "      <th>311</th>\n",
              "      <td>Kirk Hinrich</td>\n",
              "      <td>Atlanta Hawks</td>\n",
              "      <td>12.0</td>\n",
              "      <td>SG</td>\n",
              "      <td>35.0</td>\n",
              "      <td>6-4</td>\n",
              "      <td>190.0</td>\n",
              "      <td>Kansas</td>\n",
              "      <td>2854940.0</td>\n",
              "    </tr>\n",
              "    <tr>\n",
              "      <th>...</th>\n",
              "      <td>...</td>\n",
              "      <td>...</td>\n",
              "      <td>...</td>\n",
              "      <td>...</td>\n",
              "      <td>...</td>\n",
              "      <td>...</td>\n",
              "      <td>...</td>\n",
              "      <td>...</td>\n",
              "      <td>...</td>\n",
              "    </tr>\n",
              "    <tr>\n",
              "      <th>376</th>\n",
              "      <td>Markieff Morris</td>\n",
              "      <td>Washington Wizards</td>\n",
              "      <td>5.0</td>\n",
              "      <td>PF</td>\n",
              "      <td>26.0</td>\n",
              "      <td>6-10</td>\n",
              "      <td>245.0</td>\n",
              "      <td>Kansas</td>\n",
              "      <td>8000000.0</td>\n",
              "    </tr>\n",
              "    <tr>\n",
              "      <th>375</th>\n",
              "      <td>Nene Hilario</td>\n",
              "      <td>Washington Wizards</td>\n",
              "      <td>42.0</td>\n",
              "      <td>C</td>\n",
              "      <td>33.0</td>\n",
              "      <td>6-11</td>\n",
              "      <td>250.0</td>\n",
              "      <td>NaN</td>\n",
              "      <td>13000000.0</td>\n",
              "    </tr>\n",
              "    <tr>\n",
              "      <th>378</th>\n",
              "      <td>Otto Porter Jr.</td>\n",
              "      <td>Washington Wizards</td>\n",
              "      <td>22.0</td>\n",
              "      <td>SF</td>\n",
              "      <td>23.0</td>\n",
              "      <td>6-8</td>\n",
              "      <td>198.0</td>\n",
              "      <td>Georgetown</td>\n",
              "      <td>4662960.0</td>\n",
              "    </tr>\n",
              "    <tr>\n",
              "      <th>379</th>\n",
              "      <td>Ramon Sessions</td>\n",
              "      <td>Washington Wizards</td>\n",
              "      <td>7.0</td>\n",
              "      <td>PG</td>\n",
              "      <td>30.0</td>\n",
              "      <td>6-3</td>\n",
              "      <td>190.0</td>\n",
              "      <td>Nevada</td>\n",
              "      <td>2170465.0</td>\n",
              "    </tr>\n",
              "    <tr>\n",
              "      <th>457</th>\n",
              "      <td>NaN</td>\n",
              "      <td>NaN</td>\n",
              "      <td>NaN</td>\n",
              "      <td>NaN</td>\n",
              "      <td>NaN</td>\n",
              "      <td>NaN</td>\n",
              "      <td>NaN</td>\n",
              "      <td>NaN</td>\n",
              "      <td>NaN</td>\n",
              "    </tr>\n",
              "  </tbody>\n",
              "</table>\n",
              "<p>458 rows × 9 columns</p>\n",
              "</div>"
            ],
            "text/plain": [
              "                Name                Team  ...       College      Salary\n",
              "312       Al Horford       Atlanta Hawks  ...       Florida  12000000.0\n",
              "318  Dennis Schroder       Atlanta Hawks  ...           NaN   1763400.0\n",
              "323      Jeff Teague       Atlanta Hawks  ...   Wake Forest   8000000.0\n",
              "309    Kent Bazemore       Atlanta Hawks  ...  Old Dominion   2000000.0\n",
              "311     Kirk Hinrich       Atlanta Hawks  ...        Kansas   2854940.0\n",
              "..               ...                 ...  ...           ...         ...\n",
              "376  Markieff Morris  Washington Wizards  ...        Kansas   8000000.0\n",
              "375     Nene Hilario  Washington Wizards  ...           NaN  13000000.0\n",
              "378  Otto Porter Jr.  Washington Wizards  ...    Georgetown   4662960.0\n",
              "379   Ramon Sessions  Washington Wizards  ...        Nevada   2170465.0\n",
              "457              NaN                 NaN  ...           NaN         NaN\n",
              "\n",
              "[458 rows x 9 columns]"
            ]
          },
          "metadata": {},
          "execution_count": 6
        }
      ]
    },
    {
      "cell_type": "code",
      "metadata": {
        "colab": {
          "base_uri": "https://localhost:8080/",
          "height": 424
        },
        "id": "mCDzkaN5xWtC",
        "outputId": "4dab6aa0-7cf2-4647-9f68-78c0f117764d"
      },
      "source": [
        "df.sort_values([\"Team\", \"Name\"], ascending=[True, False])"
      ],
      "execution_count": null,
      "outputs": [
        {
          "output_type": "execute_result",
          "data": {
            "text/html": [
              "<div>\n",
              "<style scoped>\n",
              "    .dataframe tbody tr th:only-of-type {\n",
              "        vertical-align: middle;\n",
              "    }\n",
              "\n",
              "    .dataframe tbody tr th {\n",
              "        vertical-align: top;\n",
              "    }\n",
              "\n",
              "    .dataframe thead th {\n",
              "        text-align: right;\n",
              "    }\n",
              "</style>\n",
              "<table border=\"1\" class=\"dataframe\">\n",
              "  <thead>\n",
              "    <tr style=\"text-align: right;\">\n",
              "      <th></th>\n",
              "      <th>Name</th>\n",
              "      <th>Team</th>\n",
              "      <th>Number</th>\n",
              "      <th>Position</th>\n",
              "      <th>Age</th>\n",
              "      <th>Height</th>\n",
              "      <th>Weight</th>\n",
              "      <th>College</th>\n",
              "      <th>Salary</th>\n",
              "    </tr>\n",
              "  </thead>\n",
              "  <tbody>\n",
              "    <tr>\n",
              "      <th>322</th>\n",
              "      <td>Walter Tavares</td>\n",
              "      <td>Atlanta Hawks</td>\n",
              "      <td>22.0</td>\n",
              "      <td>C</td>\n",
              "      <td>24.0</td>\n",
              "      <td>7-3</td>\n",
              "      <td>260.0</td>\n",
              "      <td>NaN</td>\n",
              "      <td>1000000.0</td>\n",
              "    </tr>\n",
              "    <tr>\n",
              "      <th>310</th>\n",
              "      <td>Tim Hardaway Jr.</td>\n",
              "      <td>Atlanta Hawks</td>\n",
              "      <td>10.0</td>\n",
              "      <td>SG</td>\n",
              "      <td>24.0</td>\n",
              "      <td>6-6</td>\n",
              "      <td>205.0</td>\n",
              "      <td>Michigan</td>\n",
              "      <td>1304520.0</td>\n",
              "    </tr>\n",
              "    <tr>\n",
              "      <th>321</th>\n",
              "      <td>Tiago Splitter</td>\n",
              "      <td>Atlanta Hawks</td>\n",
              "      <td>11.0</td>\n",
              "      <td>C</td>\n",
              "      <td>31.0</td>\n",
              "      <td>6-11</td>\n",
              "      <td>245.0</td>\n",
              "      <td>NaN</td>\n",
              "      <td>9756250.0</td>\n",
              "    </tr>\n",
              "    <tr>\n",
              "      <th>320</th>\n",
              "      <td>Thabo Sefolosha</td>\n",
              "      <td>Atlanta Hawks</td>\n",
              "      <td>25.0</td>\n",
              "      <td>SF</td>\n",
              "      <td>32.0</td>\n",
              "      <td>6-7</td>\n",
              "      <td>220.0</td>\n",
              "      <td>NaN</td>\n",
              "      <td>4000000.0</td>\n",
              "    </tr>\n",
              "    <tr>\n",
              "      <th>315</th>\n",
              "      <td>Paul Millsap</td>\n",
              "      <td>Atlanta Hawks</td>\n",
              "      <td>4.0</td>\n",
              "      <td>PF</td>\n",
              "      <td>31.0</td>\n",
              "      <td>6-8</td>\n",
              "      <td>246.0</td>\n",
              "      <td>Louisiana Tech</td>\n",
              "      <td>18671659.0</td>\n",
              "    </tr>\n",
              "    <tr>\n",
              "      <th>...</th>\n",
              "      <td>...</td>\n",
              "      <td>...</td>\n",
              "      <td>...</td>\n",
              "      <td>...</td>\n",
              "      <td>...</td>\n",
              "      <td>...</td>\n",
              "      <td>...</td>\n",
              "      <td>...</td>\n",
              "      <td>...</td>\n",
              "    </tr>\n",
              "    <tr>\n",
              "      <th>380</th>\n",
              "      <td>Garrett Temple</td>\n",
              "      <td>Washington Wizards</td>\n",
              "      <td>17.0</td>\n",
              "      <td>SG</td>\n",
              "      <td>30.0</td>\n",
              "      <td>6-6</td>\n",
              "      <td>195.0</td>\n",
              "      <td>LSU</td>\n",
              "      <td>1100602.0</td>\n",
              "    </tr>\n",
              "    <tr>\n",
              "      <th>372</th>\n",
              "      <td>Drew Gooden</td>\n",
              "      <td>Washington Wizards</td>\n",
              "      <td>90.0</td>\n",
              "      <td>PF</td>\n",
              "      <td>34.0</td>\n",
              "      <td>6-10</td>\n",
              "      <td>250.0</td>\n",
              "      <td>Kansas</td>\n",
              "      <td>3300000.0</td>\n",
              "    </tr>\n",
              "    <tr>\n",
              "      <th>369</th>\n",
              "      <td>Bradley Beal</td>\n",
              "      <td>Washington Wizards</td>\n",
              "      <td>3.0</td>\n",
              "      <td>SG</td>\n",
              "      <td>22.0</td>\n",
              "      <td>6-5</td>\n",
              "      <td>207.0</td>\n",
              "      <td>Florida</td>\n",
              "      <td>5694674.0</td>\n",
              "    </tr>\n",
              "    <tr>\n",
              "      <th>368</th>\n",
              "      <td>Alan Anderson</td>\n",
              "      <td>Washington Wizards</td>\n",
              "      <td>6.0</td>\n",
              "      <td>SG</td>\n",
              "      <td>33.0</td>\n",
              "      <td>6-6</td>\n",
              "      <td>220.0</td>\n",
              "      <td>Michigan State</td>\n",
              "      <td>4000000.0</td>\n",
              "    </tr>\n",
              "    <tr>\n",
              "      <th>457</th>\n",
              "      <td>NaN</td>\n",
              "      <td>NaN</td>\n",
              "      <td>NaN</td>\n",
              "      <td>NaN</td>\n",
              "      <td>NaN</td>\n",
              "      <td>NaN</td>\n",
              "      <td>NaN</td>\n",
              "      <td>NaN</td>\n",
              "      <td>NaN</td>\n",
              "    </tr>\n",
              "  </tbody>\n",
              "</table>\n",
              "<p>458 rows × 9 columns</p>\n",
              "</div>"
            ],
            "text/plain": [
              "                 Name                Team  ...         College      Salary\n",
              "322    Walter Tavares       Atlanta Hawks  ...             NaN   1000000.0\n",
              "310  Tim Hardaway Jr.       Atlanta Hawks  ...        Michigan   1304520.0\n",
              "321    Tiago Splitter       Atlanta Hawks  ...             NaN   9756250.0\n",
              "320   Thabo Sefolosha       Atlanta Hawks  ...             NaN   4000000.0\n",
              "315      Paul Millsap       Atlanta Hawks  ...  Louisiana Tech  18671659.0\n",
              "..                ...                 ...  ...             ...         ...\n",
              "380    Garrett Temple  Washington Wizards  ...             LSU   1100602.0\n",
              "372       Drew Gooden  Washington Wizards  ...          Kansas   3300000.0\n",
              "369      Bradley Beal  Washington Wizards  ...         Florida   5694674.0\n",
              "368     Alan Anderson  Washington Wizards  ...  Michigan State   4000000.0\n",
              "457               NaN                 NaN  ...             NaN         NaN\n",
              "\n",
              "[458 rows x 9 columns]"
            ]
          },
          "metadata": {},
          "execution_count": 7
        }
      ]
    },
    {
      "cell_type": "markdown",
      "metadata": {
        "id": "tEMOtQyH2ZQ3"
      },
      "source": [
        "Menggunakan rank()"
      ]
    },
    {
      "cell_type": "code",
      "metadata": {
        "id": "Kv0XJvrJ2bNb"
      },
      "source": [
        "df.dropna(how=\"all\", inplace=True)\n",
        "df[\"Salary\"] = df[\"Salary\"].fillna(0).astype(\"int\")"
      ],
      "execution_count": null,
      "outputs": []
    },
    {
      "cell_type": "code",
      "metadata": {
        "colab": {
          "base_uri": "https://localhost:8080/"
        },
        "id": "yImOjjjU4LIu",
        "outputId": "64aea62d-36c2-4763-e761-1cb008cc18ea"
      },
      "source": [
        "df[\"Salary\"].rank(ascending=False).astype(\"int\")"
      ],
      "execution_count": null,
      "outputs": [
        {
          "output_type": "execute_result",
          "data": {
            "text/plain": [
              "0       97\n",
              "1      110\n",
              "2      452\n",
              "3      322\n",
              "4      147\n",
              "      ... \n",
              "452    250\n",
              "453    241\n",
              "454    383\n",
              "455    214\n",
              "456    367\n",
              "Name: Salary, Length: 457, dtype: int64"
            ]
          },
          "metadata": {},
          "execution_count": 14
        }
      ]
    },
    {
      "cell_type": "code",
      "metadata": {
        "id": "83q1wokr5qbb"
      },
      "source": [
        "df[\"Salary Rank\"] = df[\"Salary\"].rank(ascending=False).astype(\"int\")"
      ],
      "execution_count": null,
      "outputs": []
    },
    {
      "cell_type": "code",
      "metadata": {
        "colab": {
          "base_uri": "https://localhost:8080/",
          "height": 424
        },
        "id": "X1AQQrkX5uyB",
        "outputId": "0813edc4-b17e-490d-e969-9e012eb23c14"
      },
      "source": [
        "df.sort_values(\"Salary\", ascending=False)"
      ],
      "execution_count": null,
      "outputs": [
        {
          "output_type": "execute_result",
          "data": {
            "text/html": [
              "<div>\n",
              "<style scoped>\n",
              "    .dataframe tbody tr th:only-of-type {\n",
              "        vertical-align: middle;\n",
              "    }\n",
              "\n",
              "    .dataframe tbody tr th {\n",
              "        vertical-align: top;\n",
              "    }\n",
              "\n",
              "    .dataframe thead th {\n",
              "        text-align: right;\n",
              "    }\n",
              "</style>\n",
              "<table border=\"1\" class=\"dataframe\">\n",
              "  <thead>\n",
              "    <tr style=\"text-align: right;\">\n",
              "      <th></th>\n",
              "      <th>Name</th>\n",
              "      <th>Team</th>\n",
              "      <th>Number</th>\n",
              "      <th>Position</th>\n",
              "      <th>Age</th>\n",
              "      <th>Height</th>\n",
              "      <th>Weight</th>\n",
              "      <th>College</th>\n",
              "      <th>Salary</th>\n",
              "      <th>Salary Rank</th>\n",
              "    </tr>\n",
              "  </thead>\n",
              "  <tbody>\n",
              "    <tr>\n",
              "      <th>109</th>\n",
              "      <td>Kobe Bryant</td>\n",
              "      <td>Los Angeles Lakers</td>\n",
              "      <td>24.0</td>\n",
              "      <td>SF</td>\n",
              "      <td>37.0</td>\n",
              "      <td>6-6</td>\n",
              "      <td>212.0</td>\n",
              "      <td>NaN</td>\n",
              "      <td>25000000</td>\n",
              "      <td>1</td>\n",
              "    </tr>\n",
              "    <tr>\n",
              "      <th>169</th>\n",
              "      <td>LeBron James</td>\n",
              "      <td>Cleveland Cavaliers</td>\n",
              "      <td>23.0</td>\n",
              "      <td>SF</td>\n",
              "      <td>31.0</td>\n",
              "      <td>6-8</td>\n",
              "      <td>250.0</td>\n",
              "      <td>NaN</td>\n",
              "      <td>22970500</td>\n",
              "      <td>2</td>\n",
              "    </tr>\n",
              "    <tr>\n",
              "      <th>33</th>\n",
              "      <td>Carmelo Anthony</td>\n",
              "      <td>New York Knicks</td>\n",
              "      <td>7.0</td>\n",
              "      <td>SF</td>\n",
              "      <td>32.0</td>\n",
              "      <td>6-8</td>\n",
              "      <td>240.0</td>\n",
              "      <td>Syracuse</td>\n",
              "      <td>22875000</td>\n",
              "      <td>3</td>\n",
              "    </tr>\n",
              "    <tr>\n",
              "      <th>251</th>\n",
              "      <td>Dwight Howard</td>\n",
              "      <td>Houston Rockets</td>\n",
              "      <td>12.0</td>\n",
              "      <td>C</td>\n",
              "      <td>30.0</td>\n",
              "      <td>6-11</td>\n",
              "      <td>265.0</td>\n",
              "      <td>NaN</td>\n",
              "      <td>22359364</td>\n",
              "      <td>4</td>\n",
              "    </tr>\n",
              "    <tr>\n",
              "      <th>339</th>\n",
              "      <td>Chris Bosh</td>\n",
              "      <td>Miami Heat</td>\n",
              "      <td>1.0</td>\n",
              "      <td>PF</td>\n",
              "      <td>32.0</td>\n",
              "      <td>6-11</td>\n",
              "      <td>235.0</td>\n",
              "      <td>Georgia Tech</td>\n",
              "      <td>22192730</td>\n",
              "      <td>5</td>\n",
              "    </tr>\n",
              "    <tr>\n",
              "      <th>...</th>\n",
              "      <td>...</td>\n",
              "      <td>...</td>\n",
              "      <td>...</td>\n",
              "      <td>...</td>\n",
              "      <td>...</td>\n",
              "      <td>...</td>\n",
              "      <td>...</td>\n",
              "      <td>...</td>\n",
              "      <td>...</td>\n",
              "      <td>...</td>\n",
              "    </tr>\n",
              "    <tr>\n",
              "      <th>353</th>\n",
              "      <td>Dorell Wright</td>\n",
              "      <td>Miami Heat</td>\n",
              "      <td>11.0</td>\n",
              "      <td>SF</td>\n",
              "      <td>30.0</td>\n",
              "      <td>6-9</td>\n",
              "      <td>205.0</td>\n",
              "      <td>NaN</td>\n",
              "      <td>0</td>\n",
              "      <td>452</td>\n",
              "    </tr>\n",
              "    <tr>\n",
              "      <th>264</th>\n",
              "      <td>Jordan Farmar</td>\n",
              "      <td>Memphis Grizzlies</td>\n",
              "      <td>4.0</td>\n",
              "      <td>PG</td>\n",
              "      <td>29.0</td>\n",
              "      <td>6-2</td>\n",
              "      <td>180.0</td>\n",
              "      <td>UCLA</td>\n",
              "      <td>0</td>\n",
              "      <td>452</td>\n",
              "    </tr>\n",
              "    <tr>\n",
              "      <th>409</th>\n",
              "      <td>Greg Smith</td>\n",
              "      <td>Minnesota Timberwolves</td>\n",
              "      <td>4.0</td>\n",
              "      <td>PF</td>\n",
              "      <td>25.0</td>\n",
              "      <td>6-10</td>\n",
              "      <td>250.0</td>\n",
              "      <td>Fresno State</td>\n",
              "      <td>0</td>\n",
              "      <td>452</td>\n",
              "    </tr>\n",
              "    <tr>\n",
              "      <th>273</th>\n",
              "      <td>Alex Stepheson</td>\n",
              "      <td>Memphis Grizzlies</td>\n",
              "      <td>35.0</td>\n",
              "      <td>PF</td>\n",
              "      <td>28.0</td>\n",
              "      <td>6-10</td>\n",
              "      <td>270.0</td>\n",
              "      <td>USC</td>\n",
              "      <td>0</td>\n",
              "      <td>452</td>\n",
              "    </tr>\n",
              "    <tr>\n",
              "      <th>270</th>\n",
              "      <td>Xavier Munford</td>\n",
              "      <td>Memphis Grizzlies</td>\n",
              "      <td>14.0</td>\n",
              "      <td>PG</td>\n",
              "      <td>24.0</td>\n",
              "      <td>6-3</td>\n",
              "      <td>180.0</td>\n",
              "      <td>Rhode Island</td>\n",
              "      <td>0</td>\n",
              "      <td>452</td>\n",
              "    </tr>\n",
              "  </tbody>\n",
              "</table>\n",
              "<p>457 rows × 10 columns</p>\n",
              "</div>"
            ],
            "text/plain": [
              "                Name                    Team  ...    Salary Salary Rank\n",
              "109      Kobe Bryant      Los Angeles Lakers  ...  25000000           1\n",
              "169     LeBron James     Cleveland Cavaliers  ...  22970500           2\n",
              "33   Carmelo Anthony         New York Knicks  ...  22875000           3\n",
              "251    Dwight Howard         Houston Rockets  ...  22359364           4\n",
              "339       Chris Bosh              Miami Heat  ...  22192730           5\n",
              "..               ...                     ...  ...       ...         ...\n",
              "353    Dorell Wright              Miami Heat  ...         0         452\n",
              "264    Jordan Farmar       Memphis Grizzlies  ...         0         452\n",
              "409       Greg Smith  Minnesota Timberwolves  ...         0         452\n",
              "273   Alex Stepheson       Memphis Grizzlies  ...         0         452\n",
              "270   Xavier Munford       Memphis Grizzlies  ...         0         452\n",
              "\n",
              "[457 rows x 10 columns]"
            ]
          },
          "metadata": {},
          "execution_count": 18
        }
      ]
    }
  ]
}