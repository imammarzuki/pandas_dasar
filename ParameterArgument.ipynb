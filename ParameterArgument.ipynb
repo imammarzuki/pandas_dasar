{
  "nbformat": 4,
  "nbformat_minor": 0,
  "metadata": {
    "colab": {
      "provenance": [],
      "authorship_tag": "ABX9TyNR1dJnGwoBG9Eg2d6H4bR3",
      "include_colab_link": true
    },
    "kernelspec": {
      "name": "python3",
      "display_name": "Python 3"
    },
    "language_info": {
      "name": "python"
    }
  },
  "cells": [
    {
      "cell_type": "markdown",
      "metadata": {
        "id": "view-in-github",
        "colab_type": "text"
      },
      "source": [
        "<a href=\"https://colab.research.google.com/github/imammarzuki/pandas_dasar/blob/main/ParameterArgument.ipynb\" target=\"_parent\"><img src=\"https://colab.research.google.com/assets/colab-badge.svg\" alt=\"Open In Colab\"/></a>"
      ]
    },
    {
      "cell_type": "code",
      "execution_count": null,
      "metadata": {
        "id": "49QZ0FMwpLCQ"
      },
      "outputs": [],
      "source": [
        "# Pandas Series – Penulisan Parameter dan Argument"
      ]
    },
    {
      "cell_type": "code",
      "source": [
        "import pandas as pd\n",
        "buah = [\"Apel\", \"Jeruk\", \"Mangga\", \"Pepaya\", \"Anggur\"]\n",
        "hari = [\"Senin\", \"Selasa\", \"Rabu\", \"Kamis\", \"JUmat\"]\n",
        "\n",
        "pd.Series(buah, hari)\n",
        "pd.Series(data=buah, index=hari)\n",
        "pd.Series(buah, index=hari)"
      ],
      "metadata": {
        "colab": {
          "base_uri": "https://localhost:8080/"
        },
        "id": "8Rs8d8V1psCp",
        "outputId": "093650a6-82a5-4c75-f51f-e0cd7acef350"
      },
      "execution_count": 1,
      "outputs": [
        {
          "output_type": "execute_result",
          "data": {
            "text/plain": [
              "Senin       Apel\n",
              "Selasa     Jeruk\n",
              "Rabu      Mangga\n",
              "Kamis     Pepaya\n",
              "JUmat     Anggur\n",
              "dtype: object"
            ]
          },
          "metadata": {},
          "execution_count": 1
        }
      ]
    },
    {
      "cell_type": "code",
      "source": [
        "pd.Series(buah, index=hari, copy=True)"
      ],
      "metadata": {
        "colab": {
          "base_uri": "https://localhost:8080/"
        },
        "id": "_roPZVsQqcn-",
        "outputId": "bf4134d2-ecb3-402f-dac0-291a7bd94fbe"
      },
      "execution_count": 2,
      "outputs": [
        {
          "output_type": "execute_result",
          "data": {
            "text/plain": [
              "Senin       Apel\n",
              "Selasa     Jeruk\n",
              "Rabu      Mangga\n",
              "Kamis     Pepaya\n",
              "JUmat     Anggur\n",
              "dtype: object"
            ]
          },
          "metadata": {},
          "execution_count": 2
        }
      ]
    }
  ]
}