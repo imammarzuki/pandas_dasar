{
  "nbformat": 4,
  "nbformat_minor": 0,
  "metadata": {
    "colab": {
      "provenance": [],
      "authorship_tag": "ABX9TyNR1dJnGwoBG9Eg2d6H4bR3",
      "include_colab_link": true
    },
    "kernelspec": {
      "name": "python3",
      "display_name": "Python 3"
    },
    "language_info": {
      "name": "python"
    }
  },
  "cells": [
    {
      "cell_type": "markdown",
      "metadata": {
        "id": "view-in-github",
        "colab_type": "text"
      },
      "source": [
        "<a href=\"https://colab.research.google.com/github/imammarzuki/pandas_dasar/blob/main/ParameterArgument.ipynb\" target=\"_parent\"><img src=\"https://colab.research.google.com/assets/colab-badge.svg\" alt=\"Open In Colab\"/></a>"
      ]
    },
    {
      "cell_type": "code",
      "execution_count": 1,
      "metadata": {
        "id": "49QZ0FMwpLCQ"
      },
      "outputs": [],
      "source": [
        "# Pandas Series – Penulisan Parameter dan Argument"
      ]
    },
    {
      "cell_type": "code",
      "source": [
        "import pandas as pd\n",
        "buah = [\"Apel\", \"Jeruk\", \"Mangga\", \"Pepaya\", \"Anggur\"]\n",
        "hari = [\"Senin\", \"Selasa\", \"Rabu\", \"Kamis\", \"JUmat\"]\n",
        "\n",
        "pd.Series(buah, hari)\n",
        "pd.Series(data=buah, index=hari)\n",
        "pd.Series(buah, index=hari)"
      ],
      "metadata": {
        "colab": {
          "base_uri": "https://localhost:8080/"
        },
        "id": "8Rs8d8V1psCp",
        "outputId": "2c7e62d0-b9cf-4a81-e6b5-7791ac4572b7"
      },
      "execution_count": 2,
      "outputs": [
        {
          "output_type": "execute_result",
          "data": {
            "text/plain": [
              "Senin       Apel\n",
              "Selasa     Jeruk\n",
              "Rabu      Mangga\n",
              "Kamis     Pepaya\n",
              "JUmat     Anggur\n",
              "dtype: object"
            ]
          },
          "metadata": {},
          "execution_count": 2
        }
      ]
    },
    {
      "cell_type": "code",
      "source": [
        "pd.Series(buah, index=hari, copy=True)"
      ],
      "metadata": {
        "colab": {
          "base_uri": "https://localhost:8080/"
        },
        "id": "_roPZVsQqcn-",
        "outputId": "2ed1d0df-64b8-4f53-c44c-4ec4dbc2a680"
      },
      "execution_count": 3,
      "outputs": [
        {
          "output_type": "execute_result",
          "data": {
            "text/plain": [
              "Senin       Apel\n",
              "Selasa     Jeruk\n",
              "Rabu      Mangga\n",
              "Kamis     Pepaya\n",
              "JUmat     Anggur\n",
              "dtype: object"
            ]
          },
          "metadata": {},
          "execution_count": 3
        }
      ]
    }
  ]
}