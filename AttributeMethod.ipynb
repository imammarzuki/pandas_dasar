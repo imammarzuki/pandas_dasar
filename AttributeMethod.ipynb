{
  "nbformat": 4,
  "nbformat_minor": 0,
  "metadata": {
    "colab": {
      "provenance": [],
      "authorship_tag": "ABX9TyOAiOf2MHr5O0u/15vJvxKg",
      "include_colab_link": true
    },
    "kernelspec": {
      "name": "python3",
      "display_name": "Python 3"
    },
    "language_info": {
      "name": "python"
    }
  },
  "cells": [
    {
      "cell_type": "markdown",
      "metadata": {
        "id": "view-in-github",
        "colab_type": "text"
      },
      "source": [
        "<a href=\"https://colab.research.google.com/github/imammarzuki/pandas_dasar/blob/main/AttributeMethod.ipynb\" target=\"_parent\"><img src=\"https://colab.research.google.com/assets/colab-badge.svg\" alt=\"Open In Colab\"/></a>"
      ]
    },
    {
      "cell_type": "code",
      "execution_count": null,
      "metadata": {
        "id": "bFu2sxFRmUHH"
      },
      "outputs": [],
      "source": [
        "# Pandas Series – Pengenalan Attribute dan Method"
      ]
    },
    {
      "cell_type": "code",
      "source": [
        "import pandas as pd\n",
        "\n",
        "ticker = {\"ASII\": \"Astra International\",\n",
        "        \"BJBR\": \"Bank Jabar\",\n",
        "        \"PGAS\": \"Perusahaan Gas Negara\"}\n",
        "\n",
        "porto = pd.Series(ticker)\n",
        "porto"
      ],
      "metadata": {
        "colab": {
          "base_uri": "https://localhost:8080/"
        },
        "id": "KbZTnamOmeKy",
        "outputId": "b0699439-ae1e-46c9-b585-23b1fe808b95"
      },
      "execution_count": 1,
      "outputs": [
        {
          "output_type": "execute_result",
          "data": {
            "text/plain": [
              "ASII      Astra International\n",
              "BJBR               Bank Jabar\n",
              "PGAS    Perusahaan Gas Negara\n",
              "dtype: object"
            ]
          },
          "metadata": {},
          "execution_count": 1
        }
      ]
    },
    {
      "cell_type": "code",
      "source": [
        "porto.size"
      ],
      "metadata": {
        "colab": {
          "base_uri": "https://localhost:8080/"
        },
        "id": "_iCsew9LnPax",
        "outputId": "9e6758dd-a8bd-4d02-b2f7-4d1cceb50fed"
      },
      "execution_count": 2,
      "outputs": [
        {
          "output_type": "execute_result",
          "data": {
            "text/plain": [
              "3"
            ]
          },
          "metadata": {},
          "execution_count": 2
        }
      ]
    },
    {
      "cell_type": "code",
      "source": [
        "porto.shape"
      ],
      "metadata": {
        "colab": {
          "base_uri": "https://localhost:8080/"
        },
        "id": "i6vNcN_5nUWZ",
        "outputId": "254e4250-21ae-4819-f290-2e4807f1a9a5"
      },
      "execution_count": 3,
      "outputs": [
        {
          "output_type": "execute_result",
          "data": {
            "text/plain": [
              "(3,)"
            ]
          },
          "metadata": {},
          "execution_count": 3
        }
      ]
    },
    {
      "cell_type": "code",
      "source": [
        "my_float = [0.236, 0.382, 0.5, 0.618, 0.786]\n",
        "s_float = pd.Series(my_float)\n",
        "s_float"
      ],
      "metadata": {
        "colab": {
          "base_uri": "https://localhost:8080/"
        },
        "id": "8JJDRLLhngrw",
        "outputId": "b322d452-74cf-484b-b273-6bda5fef79e5"
      },
      "execution_count": 4,
      "outputs": [
        {
          "output_type": "execute_result",
          "data": {
            "text/plain": [
              "0    0.236\n",
              "1    0.382\n",
              "2    0.500\n",
              "3    0.618\n",
              "4    0.786\n",
              "dtype: float64"
            ]
          },
          "metadata": {},
          "execution_count": 4
        }
      ]
    },
    {
      "cell_type": "code",
      "source": [
        "s_float.sum()"
      ],
      "metadata": {
        "colab": {
          "base_uri": "https://localhost:8080/"
        },
        "id": "JgLFwUxHn9Ih",
        "outputId": "94e644fe-ab6b-434d-fc43-bb40fe1540ee"
      },
      "execution_count": 5,
      "outputs": [
        {
          "output_type": "execute_result",
          "data": {
            "text/plain": [
              "2.522"
            ]
          },
          "metadata": {},
          "execution_count": 5
        }
      ]
    },
    {
      "cell_type": "code",
      "source": [
        "s_float.mean()"
      ],
      "metadata": {
        "colab": {
          "base_uri": "https://localhost:8080/"
        },
        "id": "dljtc8_dn_mM",
        "outputId": "5963edde-41fd-431f-9859-920fdf7d211c"
      },
      "execution_count": 6,
      "outputs": [
        {
          "output_type": "execute_result",
          "data": {
            "text/plain": [
              "0.5044"
            ]
          },
          "metadata": {},
          "execution_count": 6
        }
      ]
    }
  ]
}