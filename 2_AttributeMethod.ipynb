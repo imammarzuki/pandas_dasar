{
  "nbformat": 4,
  "nbformat_minor": 0,
  "metadata": {
    "colab": {
      "provenance": [],
      "authorship_tag": "ABX9TyOAiOf2MHr5O0u/15vJvxKg",
      "include_colab_link": true
    },
    "kernelspec": {
      "name": "python3",
      "display_name": "Python 3"
    },
    "language_info": {
      "name": "python"
    }
  },
  "cells": [
    {
      "cell_type": "markdown",
      "metadata": {
        "id": "view-in-github",
        "colab_type": "text"
      },
      "source": [
        "<a href=\"https://colab.research.google.com/github/imammarzuki/pandas_dasar/blob/main/2_AttributeMethod.ipynb\" target=\"_parent\"><img src=\"https://colab.research.google.com/assets/colab-badge.svg\" alt=\"Open In Colab\"/></a>"
      ]
    },
    {
      "cell_type": "code",
      "execution_count": 1,
      "metadata": {
        "id": "bFu2sxFRmUHH"
      },
      "outputs": [],
      "source": [
        "# Pandas Series – Pengenalan Attribute dan Method"
      ]
    },
    {
      "cell_type": "code",
      "source": [
        "import pandas as pd\n",
        "\n",
        "ticker = {\"ASII\": \"Astra International\",\n",
        "        \"BJBR\": \"Bank Jabar\",\n",
        "        \"PGAS\": \"Perusahaan Gas Negara\"}\n",
        "\n",
        "porto = pd.Series(ticker)\n",
        "porto"
      ],
      "metadata": {
        "colab": {
          "base_uri": "https://localhost:8080/"
        },
        "id": "KbZTnamOmeKy",
        "outputId": "37be7fc3-7e1a-47a3-ea20-09929cdd23c5"
      },
      "execution_count": 2,
      "outputs": [
        {
          "output_type": "execute_result",
          "data": {
            "text/plain": [
              "ASII      Astra International\n",
              "BJBR               Bank Jabar\n",
              "PGAS    Perusahaan Gas Negara\n",
              "dtype: object"
            ]
          },
          "metadata": {},
          "execution_count": 2
        }
      ]
    },
    {
      "cell_type": "code",
      "source": [
        "porto.size"
      ],
      "metadata": {
        "colab": {
          "base_uri": "https://localhost:8080/"
        },
        "id": "_iCsew9LnPax",
        "outputId": "e65a2c66-b070-4a68-fb3b-f7bdde1bf39d"
      },
      "execution_count": 3,
      "outputs": [
        {
          "output_type": "execute_result",
          "data": {
            "text/plain": [
              "3"
            ]
          },
          "metadata": {},
          "execution_count": 3
        }
      ]
    },
    {
      "cell_type": "code",
      "source": [
        "porto.shape"
      ],
      "metadata": {
        "colab": {
          "base_uri": "https://localhost:8080/"
        },
        "id": "i6vNcN_5nUWZ",
        "outputId": "f91e5bab-4354-49ab-94da-6523d90a1258"
      },
      "execution_count": 4,
      "outputs": [
        {
          "output_type": "execute_result",
          "data": {
            "text/plain": [
              "(3,)"
            ]
          },
          "metadata": {},
          "execution_count": 4
        }
      ]
    },
    {
      "cell_type": "code",
      "source": [
        "my_float = [0.236, 0.382, 0.5, 0.618, 0.786]\n",
        "s_float = pd.Series(my_float)\n",
        "s_float"
      ],
      "metadata": {
        "colab": {
          "base_uri": "https://localhost:8080/"
        },
        "id": "8JJDRLLhngrw",
        "outputId": "64e66098-437f-4466-fc37-65e494197e06"
      },
      "execution_count": 5,
      "outputs": [
        {
          "output_type": "execute_result",
          "data": {
            "text/plain": [
              "0    0.236\n",
              "1    0.382\n",
              "2    0.500\n",
              "3    0.618\n",
              "4    0.786\n",
              "dtype: float64"
            ]
          },
          "metadata": {},
          "execution_count": 5
        }
      ]
    },
    {
      "cell_type": "code",
      "source": [
        "s_float.sum()"
      ],
      "metadata": {
        "colab": {
          "base_uri": "https://localhost:8080/"
        },
        "id": "JgLFwUxHn9Ih",
        "outputId": "b7d2fd1d-17e6-47c5-a771-e0a7a72d30f4"
      },
      "execution_count": 6,
      "outputs": [
        {
          "output_type": "execute_result",
          "data": {
            "text/plain": [
              "2.522"
            ]
          },
          "metadata": {},
          "execution_count": 6
        }
      ]
    },
    {
      "cell_type": "code",
      "source": [
        "s_float.mean()"
      ],
      "metadata": {
        "colab": {
          "base_uri": "https://localhost:8080/"
        },
        "id": "dljtc8_dn_mM",
        "outputId": "0826b39c-1cb9-489a-aee4-8edf96dd443d"
      },
      "execution_count": 7,
      "outputs": [
        {
          "output_type": "execute_result",
          "data": {
            "text/plain": [
              "0.5044"
            ]
          },
          "metadata": {},
          "execution_count": 7
        }
      ]
    }
  ]
}