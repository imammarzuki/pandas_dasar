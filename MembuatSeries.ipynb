{
  "nbformat": 4,
  "nbformat_minor": 0,
  "metadata": {
    "colab": {
      "provenance": [],
      "authorship_tag": "ABX9TyM0DSy4gwO6DJUe8tCinPaH",
      "include_colab_link": true
    },
    "kernelspec": {
      "name": "python3",
      "display_name": "Python 3"
    },
    "language_info": {
      "name": "python"
    }
  },
  "cells": [
    {
      "cell_type": "markdown",
      "metadata": {
        "id": "view-in-github",
        "colab_type": "text"
      },
      "source": [
        "<a href=\"https://colab.research.google.com/github/imammarzuki/pandas_dasar/blob/main/MembuatSeries.ipynb\" target=\"_parent\"><img src=\"https://colab.research.google.com/assets/colab-badge.svg\" alt=\"Open In Colab\"/></a>"
      ]
    },
    {
      "cell_type": "code",
      "source": [
        "#Pandas Series - Membuat Series"
      ],
      "metadata": {
        "id": "JygEAUkslD0C"
      },
      "execution_count": null,
      "outputs": []
    },
    {
      "cell_type": "code",
      "execution_count": 1,
      "metadata": {
        "id": "2Ca3EW0EVfb5"
      },
      "outputs": [],
      "source": [
        "import pandas as pd"
      ]
    },
    {
      "cell_type": "code",
      "source": [
        "menu_kopi = [\"Kopi Lajang\", \"Kopi LDR\", \"Kopi Mandor\", \"Kopi Bucin\"]\n",
        "pd.Series(menu_kopi)"
      ],
      "metadata": {
        "colab": {
          "base_uri": "https://localhost:8080/"
        },
        "id": "Nqau5pspV3JG",
        "outputId": "6c79e5ec-7f67-4135-f3e1-e0360beb103b"
      },
      "execution_count": 2,
      "outputs": [
        {
          "output_type": "execute_result",
          "data": {
            "text/plain": [
              "0    Kopi Lajang\n",
              "1       Kopi LDR\n",
              "2    Kopi Mandor\n",
              "3     Kopi Bucin\n",
              "dtype: object"
            ]
          },
          "metadata": {},
          "execution_count": 2
        }
      ]
    },
    {
      "cell_type": "code",
      "source": [
        "my_int = [1,1,2,3,5]\n",
        "pd.Series(my_int)"
      ],
      "metadata": {
        "colab": {
          "base_uri": "https://localhost:8080/"
        },
        "id": "PflqC8IFWTl3",
        "outputId": "85e00df0-ad47-4b27-b2b2-f5320abab7ab"
      },
      "execution_count": 3,
      "outputs": [
        {
          "output_type": "execute_result",
          "data": {
            "text/plain": [
              "0    1\n",
              "1    1\n",
              "2    2\n",
              "3    3\n",
              "4    5\n",
              "dtype: int64"
            ]
          },
          "metadata": {},
          "execution_count": 3
        }
      ]
    },
    {
      "cell_type": "code",
      "source": [
        "my_float=[0.236,0.382,0.5,0.618,0.786]\n",
        "pd.Series(my_float)"
      ],
      "metadata": {
        "colab": {
          "base_uri": "https://localhost:8080/"
        },
        "id": "H4efZq35hSF3",
        "outputId": "707a60e5-7acb-456d-929d-dfc5831f8f8d"
      },
      "execution_count": 4,
      "outputs": [
        {
          "output_type": "execute_result",
          "data": {
            "text/plain": [
              "0    0.236\n",
              "1    0.382\n",
              "2    0.500\n",
              "3    0.618\n",
              "4    0.786\n",
              "dtype: float64"
            ]
          },
          "metadata": {},
          "execution_count": 4
        }
      ]
    },
    {
      "cell_type": "code",
      "source": [
        "my_bool=[True,False,False,True,True]\n",
        "pd.Series(my_bool)"
      ],
      "metadata": {
        "colab": {
          "base_uri": "https://localhost:8080/"
        },
        "id": "bYiG3-wViSqX",
        "outputId": "ae219cc2-d4a4-4780-f7f8-848d47f592dd"
      },
      "execution_count": 5,
      "outputs": [
        {
          "output_type": "execute_result",
          "data": {
            "text/plain": [
              "0     True\n",
              "1    False\n",
              "2    False\n",
              "3     True\n",
              "4     True\n",
              "dtype: bool"
            ]
          },
          "metadata": {},
          "execution_count": 5
        }
      ]
    },
    {
      "cell_type": "code",
      "source": [
        "ticker={\"ASII\": \"Astra Internasional\", \"BJBR\": \"Bank Jabar\", \"PGAS\": \"Perusahaan Gas Negara\"}\n",
        "porto=pd.Series(ticker)"
      ],
      "metadata": {
        "id": "_N4pvPqril7E"
      },
      "execution_count": null,
      "outputs": []
    },
    {
      "cell_type": "code",
      "source": [
        "porto"
      ],
      "metadata": {
        "colab": {
          "base_uri": "https://localhost:8080/"
        },
        "id": "r8QiPliLpPWq",
        "outputId": "1b1f1d61-a5b0-4507-fe6d-7c36946b795d"
      },
      "execution_count": null,
      "outputs": [
        {
          "output_type": "execute_result",
          "data": {
            "text/plain": [
              "ASII      Astra Internasional\n",
              "BJBR               Bank Jabar\n",
              "PGAS    Perusahaan Gas Negara\n",
              "dtype: object"
            ]
          },
          "metadata": {},
          "execution_count": 8
        }
      ]
    }
  ]
}