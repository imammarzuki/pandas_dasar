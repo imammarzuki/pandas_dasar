{
  "nbformat": 4,
  "nbformat_minor": 0,
  "metadata": {
    "colab": {
      "provenance": []
    },
    "kernelspec": {
      "name": "python3",
      "display_name": "Python 3"
    },
    "language_info": {
      "name": "python"
    }
  },
  "cells": [
    {
      "cell_type": "code",
      "metadata": {
        "id": "8-qddxrYb0N0"
      },
      "source": [
        "import pandas as pd"
      ],
      "execution_count": null,
      "outputs": []
    },
    {
      "cell_type": "markdown",
      "metadata": {
        "id": "OD87Gexgb65w"
      },
      "source": [
        "Membuat Pandas Series dari Python List"
      ]
    },
    {
      "cell_type": "code",
      "metadata": {
        "colab": {
          "base_uri": "https://localhost:8080/"
        },
        "id": "RfZHcp00b5NZ",
        "outputId": "72fe6e05-2e9e-4777-d09a-d4e6ae2be747"
      },
      "source": [
        "menu_kopi = [\"Kopi Lajang\", \"Kopi LDR\", \"Kopi Mandor\", \"Kopi Bucin\"]\n",
        "pd.Series(menu_kopi)"
      ],
      "execution_count": null,
      "outputs": [
        {
          "output_type": "execute_result",
          "data": {
            "text/plain": [
              "0    Kopi Lajang\n",
              "1       Kopi LDR\n",
              "2    Kopi Mandor\n",
              "3     Kopi Bucin\n",
              "dtype: object"
            ]
          },
          "metadata": {},
          "execution_count": 4
        }
      ]
    },
    {
      "cell_type": "code",
      "metadata": {
        "colab": {
          "base_uri": "https://localhost:8080/"
        },
        "id": "sisHUpalePat",
        "outputId": "89ce8482-737b-4950-d45b-7edfb4c61586"
      },
      "source": [
        "my_int = [1, 1, 2, 3, 5]\n",
        "pd.Series(my_int)"
      ],
      "execution_count": null,
      "outputs": [
        {
          "output_type": "execute_result",
          "data": {
            "text/plain": [
              "0    1\n",
              "1    1\n",
              "2    2\n",
              "3    3\n",
              "4    5\n",
              "dtype: int64"
            ]
          },
          "metadata": {},
          "execution_count": 2
        }
      ]
    },
    {
      "cell_type": "code",
      "metadata": {
        "colab": {
          "base_uri": "https://localhost:8080/"
        },
        "id": "ZOMzFp5regVb",
        "outputId": "3e6f2b78-1323-46d7-95c4-e28047c67785"
      },
      "source": [
        "my_float = [0.236, 0.382, 0.5, 0.618, 0.786]\n",
        "pd.Series(my_float)"
      ],
      "execution_count": null,
      "outputs": [
        {
          "output_type": "execute_result",
          "data": {
            "text/plain": [
              "0    0.236\n",
              "1    0.382\n",
              "2    0.500\n",
              "3    0.618\n",
              "4    0.786\n",
              "dtype: float64"
            ]
          },
          "metadata": {},
          "execution_count": 10
        }
      ]
    },
    {
      "cell_type": "code",
      "metadata": {
        "colab": {
          "base_uri": "https://localhost:8080/"
        },
        "id": "vd7mtFhdgDAx",
        "outputId": "3074b70a-c1cd-41dc-e550-7285ab32ed5e"
      },
      "source": [
        "my_bool = [True, False, False, True, True]\n",
        "pd.Series(my_bool)"
      ],
      "execution_count": null,
      "outputs": [
        {
          "output_type": "execute_result",
          "data": {
            "text/plain": [
              "0     True\n",
              "1    False\n",
              "2    False\n",
              "3     True\n",
              "4     True\n",
              "dtype: bool"
            ]
          },
          "metadata": {},
          "execution_count": 7
        }
      ]
    },
    {
      "cell_type": "markdown",
      "metadata": {
        "id": "tEsq_Ti9g0wn"
      },
      "source": [
        "Membuat Pandas Series dari Python Dictionary"
      ]
    },
    {
      "cell_type": "code",
      "metadata": {
        "id": "a-XTW2jdg4S1"
      },
      "source": [
        "ticker = {\"ASII\": \"Astra International\",\n",
        "        \"BJBR\": \"Bank Jabar\",\n",
        "        \"PGAS\": \"Perusahaan Gas Negara\"}\n",
        "\n",
        "porto = pd.Series(ticker)"
      ],
      "execution_count": null,
      "outputs": []
    },
    {
      "cell_type": "markdown",
      "metadata": {
        "id": "LnIo4nvrDCvT"
      },
      "source": [
        "Attribute"
      ]
    },
    {
      "cell_type": "code",
      "metadata": {
        "id": "IkYEq55kiQ-6",
        "colab": {
          "base_uri": "https://localhost:8080/"
        },
        "outputId": "615a7580-9854-4a6d-a272-0680805e693d"
      },
      "source": [
        "porto"
      ],
      "execution_count": null,
      "outputs": [
        {
          "output_type": "execute_result",
          "data": {
            "text/plain": [
              "ASII      Astra International\n",
              "BJBR               Bank Jabar\n",
              "PGAS    Perusahaan Gas Negara\n",
              "dtype: object"
            ]
          },
          "metadata": {},
          "execution_count": 7
        }
      ]
    },
    {
      "cell_type": "code",
      "metadata": {
        "colab": {
          "base_uri": "https://localhost:8080/"
        },
        "id": "nQCTrHOlEROL",
        "outputId": "0e7bac2b-44a3-4d8f-d6c2-6dfbe8a772a8"
      },
      "source": [
        "porto.size"
      ],
      "execution_count": null,
      "outputs": [
        {
          "output_type": "execute_result",
          "data": {
            "text/plain": [
              "3"
            ]
          },
          "metadata": {},
          "execution_count": 8
        }
      ]
    },
    {
      "cell_type": "code",
      "metadata": {
        "colab": {
          "base_uri": "https://localhost:8080/"
        },
        "id": "RsgSGZsUEoNb",
        "outputId": "3a3be934-e232-467e-b218-0753aaa3daee"
      },
      "source": [
        "porto.shape"
      ],
      "execution_count": null,
      "outputs": [
        {
          "output_type": "execute_result",
          "data": {
            "text/plain": [
              "(3,)"
            ]
          },
          "metadata": {},
          "execution_count": 9
        }
      ]
    },
    {
      "cell_type": "markdown",
      "metadata": {
        "id": "mprFS0ILGHsv"
      },
      "source": [
        "Methods"
      ]
    },
    {
      "cell_type": "code",
      "metadata": {
        "colab": {
          "base_uri": "https://localhost:8080/"
        },
        "id": "ajKFY_STGJCK",
        "outputId": "2751d945-4d5e-4f04-d794-4473abf1fd80"
      },
      "source": [
        "my_float = [0.236, 0.382, 0.5, 0.618, 0.786]\n",
        "s_float = pd.Series(my_float)\n",
        "s_float"
      ],
      "execution_count": null,
      "outputs": [
        {
          "output_type": "execute_result",
          "data": {
            "text/plain": [
              "0    0.236\n",
              "1    0.382\n",
              "2    0.500\n",
              "3    0.618\n",
              "4    0.786\n",
              "dtype: float64"
            ]
          },
          "metadata": {},
          "execution_count": 11
        }
      ]
    },
    {
      "cell_type": "code",
      "metadata": {
        "colab": {
          "base_uri": "https://localhost:8080/"
        },
        "id": "1HE4841hGYMt",
        "outputId": "2b5c51a2-814e-4158-b04f-53aa817c4286"
      },
      "source": [
        "s_float.sum()"
      ],
      "execution_count": null,
      "outputs": [
        {
          "output_type": "execute_result",
          "data": {
            "text/plain": [
              "2.522"
            ]
          },
          "metadata": {},
          "execution_count": 12
        }
      ]
    },
    {
      "cell_type": "code",
      "metadata": {
        "colab": {
          "base_uri": "https://localhost:8080/"
        },
        "id": "vYVcsBXxG2_2",
        "outputId": "16da8c03-03f3-4064-a681-6bf0d3b9e718"
      },
      "source": [
        "s_float.mean()"
      ],
      "execution_count": null,
      "outputs": [
        {
          "output_type": "execute_result",
          "data": {
            "text/plain": [
              "0.5044"
            ]
          },
          "metadata": {},
          "execution_count": 13
        }
      ]
    },
    {
      "cell_type": "markdown",
      "metadata": {
        "id": "U2BAWeqYQshq"
      },
      "source": [
        "Penulisan Parameter"
      ]
    },
    {
      "cell_type": "code",
      "metadata": {
        "colab": {
          "base_uri": "https://localhost:8080/"
        },
        "id": "YYWlL9R2QsNk",
        "outputId": "979afd85-cfb1-469e-89c9-198ead458e46"
      },
      "source": [
        "buah = [\"Apel\", \"Jeruk\", \"Mangga\", \"Pepaya\", \"Anggur\"]\n",
        "hari = [\"Senin\", \"Selasa\", \"Rabu\", \"Kamis\", \"JUmat\"]\n",
        "\n",
        "pd.Series(buah, hari)"
      ],
      "execution_count": null,
      "outputs": [
        {
          "output_type": "execute_result",
          "data": {
            "text/plain": [
              "Senin       Apel\n",
              "Selasa     Jeruk\n",
              "Rabu      Mangga\n",
              "Kamis     Pepaya\n",
              "JUmat     Anggur\n",
              "dtype: object"
            ]
          },
          "metadata": {},
          "execution_count": 15
        }
      ]
    },
    {
      "cell_type": "code",
      "metadata": {
        "colab": {
          "base_uri": "https://localhost:8080/"
        },
        "id": "qkvERbpDRMUZ",
        "outputId": "eb567f22-4cd8-40c0-9baa-85df7aa08853"
      },
      "source": [
        "pd.Series(data=buah, index=hari)"
      ],
      "execution_count": null,
      "outputs": [
        {
          "output_type": "execute_result",
          "data": {
            "text/plain": [
              "Senin       Apel\n",
              "Selasa     Jeruk\n",
              "Rabu      Mangga\n",
              "Kamis     Pepaya\n",
              "JUmat     Anggur\n",
              "dtype: object"
            ]
          },
          "metadata": {},
          "execution_count": 16
        }
      ]
    },
    {
      "cell_type": "code",
      "metadata": {
        "colab": {
          "base_uri": "https://localhost:8080/"
        },
        "id": "zz7y_9ceROj4",
        "outputId": "128b4f36-5baa-4609-c251-86a265fdd981"
      },
      "source": [
        "pd.Series(buah, index=hari)"
      ],
      "execution_count": null,
      "outputs": [
        {
          "output_type": "execute_result",
          "data": {
            "text/plain": [
              "Senin       Apel\n",
              "Selasa     Jeruk\n",
              "Rabu      Mangga\n",
              "Kamis     Pepaya\n",
              "JUmat     Anggur\n",
              "dtype: object"
            ]
          },
          "metadata": {},
          "execution_count": 17
        }
      ]
    },
    {
      "cell_type": "code",
      "metadata": {
        "colab": {
          "base_uri": "https://localhost:8080/"
        },
        "id": "3e9ItPisR3YX",
        "outputId": "559c0512-262a-4885-8833-38f6f8733874"
      },
      "source": [
        "pd.Series(buah, index=hari, copy=True)"
      ],
      "execution_count": null,
      "outputs": [
        {
          "output_type": "execute_result",
          "data": {
            "text/plain": [
              "Senin       Apel\n",
              "Selasa     Jeruk\n",
              "Rabu      Mangga\n",
              "Kamis     Pepaya\n",
              "JUmat     Anggur\n",
              "dtype: object"
            ]
          },
          "metadata": {},
          "execution_count": 21
        }
      ]
    },
    {
      "cell_type": "markdown",
      "metadata": {
        "id": "ccyag0_gGF4A"
      },
      "source": [
        "Menggunakan method read_csv()"
      ]
    },
    {
      "cell_type": "code",
      "metadata": {
        "colab": {
          "resources": {
            "http://localhost:8080/nbextensions/google.colab/files.js": {
              "data": "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",
              "ok": true,
              "headers": [
                [
                  "content-type",
                  "application/javascript"
                ]
              ],
              "status": 200,
              "status_text": ""
            }
          },
          "base_uri": "https://localhost:8080/",
          "height": 111
        },
        "id": "8WJphUF0GJJK",
        "outputId": "f4ce9807-55f5-4566-8baa-37f8726d18b4"
      },
      "source": [
        "#upload csv files from local\n",
        "\n",
        "from google.colab import files\n",
        "files.upload()"
      ],
      "execution_count": null,
      "outputs": [
        {
          "output_type": "display_data",
          "data": {
            "text/html": [
              "\n",
              "     <input type=\"file\" id=\"files-037f2146-46c3-4e9d-9f9b-64c287051e51\" name=\"files[]\" multiple disabled\n",
              "        style=\"border:none\" />\n",
              "     <output id=\"result-037f2146-46c3-4e9d-9f9b-64c287051e51\">\n",
              "      Upload widget is only available when the cell has been executed in the\n",
              "      current browser session. Please rerun this cell to enable.\n",
              "      </output>\n",
              "      <script src=\"/nbextensions/google.colab/files.js\"></script> "
            ],
            "text/plain": [
              "<IPython.core.display.HTML object>"
            ]
          },
          "metadata": {}
        },
        {
          "output_type": "stream",
          "name": "stdout",
          "text": [
            "Saving mock_data_perush.csv to mock_data_perush.csv\n"
          ]
        },
        {
          "output_type": "execute_result",
          "data": {
            "text/plain": [
              "{'mock_data_perush.csv': b'id,nama_perush,dept\\n1,Photobug,Support\\n2,Jabbersphere,Human Resources\\n3,Voonder,Engineering\\n4,Kimia,Human Resources\\n5,Buzzshare,Training\\n6,Bluezoom,Business Development\\n7,DabZ,Research and Development\\n8,Tagtune,Human Resources\\n9,Photojam,Human Resources\\n10,Centizu,Legal\\n11,Plambee,Legal\\n12,Brainverse,Training\\n13,Topicstorm,Business Development\\n14,Brainverse,Engineering\\n15,Aimbo,Business Development\\n16,Thoughtstorm,Research and Development\\n17,Rhybox,Business Development\\n18,Katz,Research and Development\\n19,Yacero,Marketing\\n20,Jabberstorm,Training\\n21,Zoonoodle,Sales\\n22,Skippad,Support\\n23,Browsedrive,Business Development\\n24,Vitz,Training\\n25,Kamba,Engineering\\n26,Meeveo,Training\\n27,Topicstorm,Research and Development\\n28,Browsedrive,Business Development\\n29,Demivee,Accounting\\n30,Dynabox,Business Development\\n31,Myworks,Accounting\\n32,Gabvine,Engineering\\n33,Kayveo,Support\\n34,Flipstorm,Training\\n35,Skiptube,Sales\\n36,Myworks,Support\\n37,Realcube,Legal\\n38,Skinder,Sales\\n39,Camido,Training\\n40,Kamba,Support\\n41,Edgetag,Business Development\\n42,Zooveo,Engineering\\n43,Topiclounge,Support\\n44,Npath,Accounting\\n45,Voonyx,Accounting\\n46,Yodel,Business Development\\n47,Mynte,Engineering\\n48,Eare,Product Management\\n49,Twitterbridge,Product Management\\n50,Jaxspan,Marketing\\n'}"
            ]
          },
          "metadata": {},
          "execution_count": 2
        }
      ]
    },
    {
      "cell_type": "code",
      "metadata": {
        "colab": {
          "base_uri": "https://localhost:8080/",
          "height": 1000
        },
        "id": "Aam--keeGz6y",
        "outputId": "cee03d59-d993-4392-bbb3-9fef73e1bc56"
      },
      "source": [
        "#tanpa parameter squeeze, object yang dihasilkan adalah pandas dataframe\n",
        "pd.read_csv(\"mock_data_perush.csv\", usecols=[\"nama_perush\"])"
      ],
      "execution_count": null,
      "outputs": [
        {
          "output_type": "execute_result",
          "data": {
            "text/html": [
              "<div>\n",
              "<style scoped>\n",
              "    .dataframe tbody tr th:only-of-type {\n",
              "        vertical-align: middle;\n",
              "    }\n",
              "\n",
              "    .dataframe tbody tr th {\n",
              "        vertical-align: top;\n",
              "    }\n",
              "\n",
              "    .dataframe thead th {\n",
              "        text-align: right;\n",
              "    }\n",
              "</style>\n",
              "<table border=\"1\" class=\"dataframe\">\n",
              "  <thead>\n",
              "    <tr style=\"text-align: right;\">\n",
              "      <th></th>\n",
              "      <th>nama_perush</th>\n",
              "    </tr>\n",
              "  </thead>\n",
              "  <tbody>\n",
              "    <tr>\n",
              "      <th>0</th>\n",
              "      <td>Photobug</td>\n",
              "    </tr>\n",
              "    <tr>\n",
              "      <th>1</th>\n",
              "      <td>Jabbersphere</td>\n",
              "    </tr>\n",
              "    <tr>\n",
              "      <th>2</th>\n",
              "      <td>Voonder</td>\n",
              "    </tr>\n",
              "    <tr>\n",
              "      <th>3</th>\n",
              "      <td>Kimia</td>\n",
              "    </tr>\n",
              "    <tr>\n",
              "      <th>4</th>\n",
              "      <td>Buzzshare</td>\n",
              "    </tr>\n",
              "    <tr>\n",
              "      <th>5</th>\n",
              "      <td>Bluezoom</td>\n",
              "    </tr>\n",
              "    <tr>\n",
              "      <th>6</th>\n",
              "      <td>DabZ</td>\n",
              "    </tr>\n",
              "    <tr>\n",
              "      <th>7</th>\n",
              "      <td>Tagtune</td>\n",
              "    </tr>\n",
              "    <tr>\n",
              "      <th>8</th>\n",
              "      <td>Photojam</td>\n",
              "    </tr>\n",
              "    <tr>\n",
              "      <th>9</th>\n",
              "      <td>Centizu</td>\n",
              "    </tr>\n",
              "    <tr>\n",
              "      <th>10</th>\n",
              "      <td>Plambee</td>\n",
              "    </tr>\n",
              "    <tr>\n",
              "      <th>11</th>\n",
              "      <td>Brainverse</td>\n",
              "    </tr>\n",
              "    <tr>\n",
              "      <th>12</th>\n",
              "      <td>Topicstorm</td>\n",
              "    </tr>\n",
              "    <tr>\n",
              "      <th>13</th>\n",
              "      <td>Brainverse</td>\n",
              "    </tr>\n",
              "    <tr>\n",
              "      <th>14</th>\n",
              "      <td>Aimbo</td>\n",
              "    </tr>\n",
              "    <tr>\n",
              "      <th>15</th>\n",
              "      <td>Thoughtstorm</td>\n",
              "    </tr>\n",
              "    <tr>\n",
              "      <th>16</th>\n",
              "      <td>Rhybox</td>\n",
              "    </tr>\n",
              "    <tr>\n",
              "      <th>17</th>\n",
              "      <td>Katz</td>\n",
              "    </tr>\n",
              "    <tr>\n",
              "      <th>18</th>\n",
              "      <td>Yacero</td>\n",
              "    </tr>\n",
              "    <tr>\n",
              "      <th>19</th>\n",
              "      <td>Jabberstorm</td>\n",
              "    </tr>\n",
              "    <tr>\n",
              "      <th>20</th>\n",
              "      <td>Zoonoodle</td>\n",
              "    </tr>\n",
              "    <tr>\n",
              "      <th>21</th>\n",
              "      <td>Skippad</td>\n",
              "    </tr>\n",
              "    <tr>\n",
              "      <th>22</th>\n",
              "      <td>Browsedrive</td>\n",
              "    </tr>\n",
              "    <tr>\n",
              "      <th>23</th>\n",
              "      <td>Vitz</td>\n",
              "    </tr>\n",
              "    <tr>\n",
              "      <th>24</th>\n",
              "      <td>Kamba</td>\n",
              "    </tr>\n",
              "    <tr>\n",
              "      <th>25</th>\n",
              "      <td>Meeveo</td>\n",
              "    </tr>\n",
              "    <tr>\n",
              "      <th>26</th>\n",
              "      <td>Topicstorm</td>\n",
              "    </tr>\n",
              "    <tr>\n",
              "      <th>27</th>\n",
              "      <td>Browsedrive</td>\n",
              "    </tr>\n",
              "    <tr>\n",
              "      <th>28</th>\n",
              "      <td>Demivee</td>\n",
              "    </tr>\n",
              "    <tr>\n",
              "      <th>29</th>\n",
              "      <td>Dynabox</td>\n",
              "    </tr>\n",
              "    <tr>\n",
              "      <th>30</th>\n",
              "      <td>Myworks</td>\n",
              "    </tr>\n",
              "    <tr>\n",
              "      <th>31</th>\n",
              "      <td>Gabvine</td>\n",
              "    </tr>\n",
              "    <tr>\n",
              "      <th>32</th>\n",
              "      <td>Kayveo</td>\n",
              "    </tr>\n",
              "    <tr>\n",
              "      <th>33</th>\n",
              "      <td>Flipstorm</td>\n",
              "    </tr>\n",
              "    <tr>\n",
              "      <th>34</th>\n",
              "      <td>Skiptube</td>\n",
              "    </tr>\n",
              "    <tr>\n",
              "      <th>35</th>\n",
              "      <td>Myworks</td>\n",
              "    </tr>\n",
              "    <tr>\n",
              "      <th>36</th>\n",
              "      <td>Realcube</td>\n",
              "    </tr>\n",
              "    <tr>\n",
              "      <th>37</th>\n",
              "      <td>Skinder</td>\n",
              "    </tr>\n",
              "    <tr>\n",
              "      <th>38</th>\n",
              "      <td>Camido</td>\n",
              "    </tr>\n",
              "    <tr>\n",
              "      <th>39</th>\n",
              "      <td>Kamba</td>\n",
              "    </tr>\n",
              "    <tr>\n",
              "      <th>40</th>\n",
              "      <td>Edgetag</td>\n",
              "    </tr>\n",
              "    <tr>\n",
              "      <th>41</th>\n",
              "      <td>Zooveo</td>\n",
              "    </tr>\n",
              "    <tr>\n",
              "      <th>42</th>\n",
              "      <td>Topiclounge</td>\n",
              "    </tr>\n",
              "    <tr>\n",
              "      <th>43</th>\n",
              "      <td>Npath</td>\n",
              "    </tr>\n",
              "    <tr>\n",
              "      <th>44</th>\n",
              "      <td>Voonyx</td>\n",
              "    </tr>\n",
              "    <tr>\n",
              "      <th>45</th>\n",
              "      <td>Yodel</td>\n",
              "    </tr>\n",
              "    <tr>\n",
              "      <th>46</th>\n",
              "      <td>Mynte</td>\n",
              "    </tr>\n",
              "    <tr>\n",
              "      <th>47</th>\n",
              "      <td>Eare</td>\n",
              "    </tr>\n",
              "    <tr>\n",
              "      <th>48</th>\n",
              "      <td>Twitterbridge</td>\n",
              "    </tr>\n",
              "    <tr>\n",
              "      <th>49</th>\n",
              "      <td>Jaxspan</td>\n",
              "    </tr>\n",
              "  </tbody>\n",
              "</table>\n",
              "</div>"
            ],
            "text/plain": [
              "      nama_perush\n",
              "0        Photobug\n",
              "1    Jabbersphere\n",
              "2         Voonder\n",
              "3           Kimia\n",
              "4       Buzzshare\n",
              "5        Bluezoom\n",
              "6            DabZ\n",
              "7         Tagtune\n",
              "8        Photojam\n",
              "9         Centizu\n",
              "10        Plambee\n",
              "11     Brainverse\n",
              "12     Topicstorm\n",
              "13     Brainverse\n",
              "14          Aimbo\n",
              "15   Thoughtstorm\n",
              "16         Rhybox\n",
              "17           Katz\n",
              "18         Yacero\n",
              "19    Jabberstorm\n",
              "20      Zoonoodle\n",
              "21        Skippad\n",
              "22    Browsedrive\n",
              "23           Vitz\n",
              "24          Kamba\n",
              "25         Meeveo\n",
              "26     Topicstorm\n",
              "27    Browsedrive\n",
              "28        Demivee\n",
              "29        Dynabox\n",
              "30        Myworks\n",
              "31        Gabvine\n",
              "32         Kayveo\n",
              "33      Flipstorm\n",
              "34       Skiptube\n",
              "35        Myworks\n",
              "36       Realcube\n",
              "37        Skinder\n",
              "38         Camido\n",
              "39          Kamba\n",
              "40        Edgetag\n",
              "41         Zooveo\n",
              "42    Topiclounge\n",
              "43          Npath\n",
              "44         Voonyx\n",
              "45          Yodel\n",
              "46          Mynte\n",
              "47           Eare\n",
              "48  Twitterbridge\n",
              "49        Jaxspan"
            ]
          },
          "metadata": {},
          "execution_count": 6
        }
      ]
    },
    {
      "cell_type": "code",
      "metadata": {
        "colab": {
          "base_uri": "https://localhost:8080/"
        },
        "id": "trOU18AdIWoY",
        "outputId": "a8fe3d8a-18af-43c5-af2a-46f5c6a85de6"
      },
      "source": [
        "#dengan menggunakan squeeze, object dihasilkan adalah Pandas Series\n",
        "fake_comp = pd.read_csv(\"mock_data_perush.csv\", usecols=[\"nama_perush\"], squeeze=True)\n",
        "fake_comp"
      ],
      "execution_count": null,
      "outputs": [
        {
          "output_type": "execute_result",
          "data": {
            "text/plain": [
              "0          Photobug\n",
              "1      Jabbersphere\n",
              "2           Voonder\n",
              "3             Kimia\n",
              "4         Buzzshare\n",
              "5          Bluezoom\n",
              "6              DabZ\n",
              "7           Tagtune\n",
              "8          Photojam\n",
              "9           Centizu\n",
              "10          Plambee\n",
              "11       Brainverse\n",
              "12       Topicstorm\n",
              "13       Brainverse\n",
              "14            Aimbo\n",
              "15     Thoughtstorm\n",
              "16           Rhybox\n",
              "17             Katz\n",
              "18           Yacero\n",
              "19      Jabberstorm\n",
              "20        Zoonoodle\n",
              "21          Skippad\n",
              "22      Browsedrive\n",
              "23             Vitz\n",
              "24            Kamba\n",
              "25           Meeveo\n",
              "26       Topicstorm\n",
              "27      Browsedrive\n",
              "28          Demivee\n",
              "29          Dynabox\n",
              "30          Myworks\n",
              "31          Gabvine\n",
              "32           Kayveo\n",
              "33        Flipstorm\n",
              "34         Skiptube\n",
              "35          Myworks\n",
              "36         Realcube\n",
              "37          Skinder\n",
              "38           Camido\n",
              "39            Kamba\n",
              "40          Edgetag\n",
              "41           Zooveo\n",
              "42      Topiclounge\n",
              "43            Npath\n",
              "44           Voonyx\n",
              "45            Yodel\n",
              "46            Mynte\n",
              "47             Eare\n",
              "48    Twitterbridge\n",
              "49          Jaxspan\n",
              "Name: nama_perush, dtype: object"
            ]
          },
          "metadata": {},
          "execution_count": 3
        }
      ]
    },
    {
      "cell_type": "markdown",
      "metadata": {
        "id": "Yy4wXn7HNL_G"
      },
      "source": [
        "Menggunakan head() dan tail()"
      ]
    },
    {
      "cell_type": "code",
      "metadata": {
        "colab": {
          "base_uri": "https://localhost:8080/"
        },
        "id": "TFn3PRbWNN22",
        "outputId": "0e363bf9-d691-4890-d94d-52f6e38d6487"
      },
      "source": [
        "#mengambil 5 baris pertama\n",
        "fake_comp.head()"
      ],
      "execution_count": null,
      "outputs": [
        {
          "output_type": "execute_result",
          "data": {
            "text/plain": [
              "0        Photobug\n",
              "1    Jabbersphere\n",
              "2         Voonder\n",
              "3           Kimia\n",
              "4       Buzzshare\n",
              "Name: nama_perush, dtype: object"
            ]
          },
          "metadata": {},
          "execution_count": 10
        }
      ]
    },
    {
      "cell_type": "code",
      "metadata": {
        "colab": {
          "base_uri": "https://localhost:8080/"
        },
        "id": "5Q1zU7l2OoR9",
        "outputId": "ea87b46b-4a02-4a05-b64b-a4911ceb4a01"
      },
      "source": [
        "#mengambil 5 baris terakhir\n",
        "fake_comp.tail()"
      ],
      "execution_count": null,
      "outputs": [
        {
          "output_type": "execute_result",
          "data": {
            "text/plain": [
              "45            Yodel\n",
              "46            Mynte\n",
              "47             Eare\n",
              "48    Twitterbridge\n",
              "49          Jaxspan\n",
              "Name: nama_perush, dtype: object"
            ]
          },
          "metadata": {},
          "execution_count": 11
        }
      ]
    },
    {
      "cell_type": "code",
      "metadata": {
        "colab": {
          "base_uri": "https://localhost:8080/"
        },
        "id": "dc3dZHkqO4_V",
        "outputId": "f2dca0df-84e6-45c9-f1ac-7cefc328ac6c"
      },
      "source": [
        "fake_comp.head(10)"
      ],
      "execution_count": null,
      "outputs": [
        {
          "output_type": "execute_result",
          "data": {
            "text/plain": [
              "0        Photobug\n",
              "1    Jabbersphere\n",
              "2         Voonder\n",
              "3           Kimia\n",
              "4       Buzzshare\n",
              "5        Bluezoom\n",
              "6            DabZ\n",
              "7         Tagtune\n",
              "8        Photojam\n",
              "9         Centizu\n",
              "Name: nama_perush, dtype: object"
            ]
          },
          "metadata": {},
          "execution_count": 12
        }
      ]
    },
    {
      "cell_type": "code",
      "metadata": {
        "colab": {
          "base_uri": "https://localhost:8080/"
        },
        "id": "qcC352ScPETW",
        "outputId": "d71ac2ee-c7dd-46d2-daf7-46c4e0ba9308"
      },
      "source": [
        "fake_comp.tail(10)"
      ],
      "execution_count": null,
      "outputs": [
        {
          "output_type": "execute_result",
          "data": {
            "text/plain": [
              "40          Edgetag\n",
              "41           Zooveo\n",
              "42      Topiclounge\n",
              "43            Npath\n",
              "44           Voonyx\n",
              "45            Yodel\n",
              "46            Mynte\n",
              "47             Eare\n",
              "48    Twitterbridge\n",
              "49          Jaxspan\n",
              "Name: nama_perush, dtype: object"
            ]
          },
          "metadata": {},
          "execution_count": 13
        }
      ]
    },
    {
      "cell_type": "markdown",
      "metadata": {
        "id": "lGPwte_wlNIn"
      },
      "source": [
        "Menggunakan sort_values()"
      ]
    },
    {
      "cell_type": "code",
      "metadata": {
        "id": "-uaV81rBlRwV"
      },
      "source": [
        "fake_comp.sort_values(ascending=False, inplace=True)"
      ],
      "execution_count": null,
      "outputs": []
    },
    {
      "cell_type": "code",
      "metadata": {
        "colab": {
          "base_uri": "https://localhost:8080/"
        },
        "id": "YvmNm_-Ym2LX",
        "outputId": "7127137c-3dfc-45e0-b456-98879aad6521"
      },
      "source": [
        "fake_comp"
      ],
      "execution_count": null,
      "outputs": [
        {
          "output_type": "execute_result",
          "data": {
            "text/plain": [
              "41           Zooveo\n",
              "20        Zoonoodle\n",
              "45            Yodel\n",
              "18           Yacero\n",
              "44           Voonyx\n",
              "2           Voonder\n",
              "23             Vitz\n",
              "48    Twitterbridge\n",
              "12       Topicstorm\n",
              "26       Topicstorm\n",
              "42      Topiclounge\n",
              "15     Thoughtstorm\n",
              "7           Tagtune\n",
              "34         Skiptube\n",
              "21          Skippad\n",
              "37          Skinder\n",
              "16           Rhybox\n",
              "36         Realcube\n",
              "10          Plambee\n",
              "8          Photojam\n",
              "0          Photobug\n",
              "43            Npath\n",
              "30          Myworks\n",
              "35          Myworks\n",
              "46            Mynte\n",
              "25           Meeveo\n",
              "3             Kimia\n",
              "32           Kayveo\n",
              "17             Katz\n",
              "24            Kamba\n",
              "39            Kamba\n",
              "49          Jaxspan\n",
              "19      Jabberstorm\n",
              "1      Jabbersphere\n",
              "31          Gabvine\n",
              "33        Flipstorm\n",
              "40          Edgetag\n",
              "47             Eare\n",
              "29          Dynabox\n",
              "28          Demivee\n",
              "6              DabZ\n",
              "9           Centizu\n",
              "38           Camido\n",
              "4         Buzzshare\n",
              "27      Browsedrive\n",
              "22      Browsedrive\n",
              "11       Brainverse\n",
              "13       Brainverse\n",
              "5          Bluezoom\n",
              "14            Aimbo\n",
              "Name: nama_perush, dtype: object"
            ]
          },
          "metadata": {},
          "execution_count": 19
        }
      ]
    },
    {
      "cell_type": "markdown",
      "metadata": {
        "id": "TrrhhdE2qF4D"
      },
      "source": [
        "Menggunakan sort_index()"
      ]
    },
    {
      "cell_type": "code",
      "metadata": {
        "colab": {
          "base_uri": "https://localhost:8080/"
        },
        "id": "NTMHTPPLqH3g",
        "outputId": "c8983196-1d2c-4fc0-8f27-1c680cffc0a3"
      },
      "source": [
        "fake_comp.sort_index(ascending=True, inplace=True)\n",
        "fake_comp"
      ],
      "execution_count": null,
      "outputs": [
        {
          "output_type": "execute_result",
          "data": {
            "text/plain": [
              "0          Photobug\n",
              "1      Jabbersphere\n",
              "2           Voonder\n",
              "3             Kimia\n",
              "4         Buzzshare\n",
              "5          Bluezoom\n",
              "6              DabZ\n",
              "7           Tagtune\n",
              "8          Photojam\n",
              "9           Centizu\n",
              "10          Plambee\n",
              "11       Brainverse\n",
              "12       Topicstorm\n",
              "13       Brainverse\n",
              "14            Aimbo\n",
              "15     Thoughtstorm\n",
              "16           Rhybox\n",
              "17             Katz\n",
              "18           Yacero\n",
              "19      Jabberstorm\n",
              "20        Zoonoodle\n",
              "21          Skippad\n",
              "22      Browsedrive\n",
              "23             Vitz\n",
              "24            Kamba\n",
              "25           Meeveo\n",
              "26       Topicstorm\n",
              "27      Browsedrive\n",
              "28          Demivee\n",
              "29          Dynabox\n",
              "30          Myworks\n",
              "31          Gabvine\n",
              "32           Kayveo\n",
              "33        Flipstorm\n",
              "34         Skiptube\n",
              "35          Myworks\n",
              "36         Realcube\n",
              "37          Skinder\n",
              "38           Camido\n",
              "39            Kamba\n",
              "40          Edgetag\n",
              "41           Zooveo\n",
              "42      Topiclounge\n",
              "43            Npath\n",
              "44           Voonyx\n",
              "45            Yodel\n",
              "46            Mynte\n",
              "47             Eare\n",
              "48    Twitterbridge\n",
              "49          Jaxspan\n",
              "Name: nama_perush, dtype: object"
            ]
          },
          "metadata": {},
          "execution_count": 20
        }
      ]
    },
    {
      "cell_type": "markdown",
      "metadata": {
        "id": "vLVgwyyDIoBs"
      },
      "source": [
        "Mengakses Series Values Berdasarkan Index"
      ]
    },
    {
      "cell_type": "code",
      "metadata": {
        "colab": {
          "base_uri": "https://localhost:8080/",
          "height": 35
        },
        "id": "nXpo34IjIrr-",
        "outputId": "6f81a8d2-8c61-438f-f6ff-108a3a457734"
      },
      "source": [
        "fake_comp[2]"
      ],
      "execution_count": null,
      "outputs": [
        {
          "output_type": "execute_result",
          "data": {
            "application/vnd.google.colaboratory.intrinsic+json": {
              "type": "string"
            },
            "text/plain": [
              "'Voonder'"
            ]
          },
          "metadata": {},
          "execution_count": 4
        }
      ]
    },
    {
      "cell_type": "code",
      "metadata": {
        "colab": {
          "base_uri": "https://localhost:8080/"
        },
        "id": "ZfMUPk8jIvRe",
        "outputId": "9630ca4f-2431-473f-f319-806e7f03108a"
      },
      "source": [
        "fake_comp[[2, 3, 5]]"
      ],
      "execution_count": null,
      "outputs": [
        {
          "output_type": "execute_result",
          "data": {
            "text/plain": [
              "2     Voonder\n",
              "3       Kimia\n",
              "5    Bluezoom\n",
              "Name: nama_perush, dtype: object"
            ]
          },
          "metadata": {},
          "execution_count": 6
        }
      ]
    },
    {
      "cell_type": "code",
      "metadata": {
        "colab": {
          "base_uri": "https://localhost:8080/"
        },
        "id": "PVIxLjxnI2T7",
        "outputId": "bd7b1d1e-5ae4-4610-91ab-263ea118e7d5"
      },
      "source": [
        "fake_comp[5:13]"
      ],
      "execution_count": null,
      "outputs": [
        {
          "output_type": "execute_result",
          "data": {
            "text/plain": [
              "5       Bluezoom\n",
              "6           DabZ\n",
              "7        Tagtune\n",
              "8       Photojam\n",
              "9        Centizu\n",
              "10       Plambee\n",
              "11    Brainverse\n",
              "12    Topicstorm\n",
              "Name: nama_perush, dtype: object"
            ]
          },
          "metadata": {},
          "execution_count": 7
        }
      ]
    },
    {
      "cell_type": "code",
      "metadata": {
        "colab": {
          "base_uri": "https://localhost:8080/"
        },
        "id": "nMaEnMmZJj9V",
        "outputId": "15e8829d-72d4-4674-d1fc-be16c6cd6953"
      },
      "source": [
        "fake_comp[-5:]"
      ],
      "execution_count": null,
      "outputs": [
        {
          "output_type": "execute_result",
          "data": {
            "text/plain": [
              "45            Yodel\n",
              "46            Mynte\n",
              "47             Eare\n",
              "48    Twitterbridge\n",
              "49          Jaxspan\n",
              "Name: nama_perush, dtype: object"
            ]
          },
          "metadata": {},
          "execution_count": 13
        }
      ]
    },
    {
      "cell_type": "markdown",
      "metadata": {
        "id": "SKwKztRQKzU6"
      },
      "source": [
        "Mengakses values berdasarkan index label"
      ]
    },
    {
      "cell_type": "code",
      "metadata": {
        "id": "c-Dgx7AbK3Ed"
      },
      "source": [
        "fake_comp2 = pd.read_csv(\"mock_data_perush.csv\", index_col = \"dept\", usecols=[\"nama_perush\", \"dept\"], squeeze=True)"
      ],
      "execution_count": null,
      "outputs": []
    },
    {
      "cell_type": "code",
      "metadata": {
        "id": "jE9VpVSKOYvf"
      },
      "source": [
        "fake_comp2.sort_index(inplace=True)"
      ],
      "execution_count": null,
      "outputs": []
    },
    {
      "cell_type": "code",
      "metadata": {
        "colab": {
          "base_uri": "https://localhost:8080/"
        },
        "id": "Yq0f-2k2Nwe1",
        "outputId": "fafecaec-7782-4641-be45-d7956c4b6c92"
      },
      "source": [
        "fake_comp2[[\"Accounting\", \"Marketing\"]]"
      ],
      "execution_count": null,
      "outputs": [
        {
          "output_type": "execute_result",
          "data": {
            "text/plain": [
              "dept\n",
              "Accounting    Demivee\n",
              "Accounting    Myworks\n",
              "Accounting      Npath\n",
              "Accounting     Voonyx\n",
              "Marketing      Yacero\n",
              "Marketing     Jaxspan\n",
              "Name: nama_perush, dtype: object"
            ]
          },
          "metadata": {},
          "execution_count": 46
        }
      ]
    },
    {
      "cell_type": "code",
      "metadata": {
        "colab": {
          "base_uri": "https://localhost:8080/"
        },
        "id": "_biADfqGVAY_",
        "outputId": "925dc302-54b2-4f2f-d858-bdc38a738c14"
      },
      "source": [
        "fake_comp2[\"Accounting\" : \"Engineering\"]"
      ],
      "execution_count": null,
      "outputs": [
        {
          "output_type": "execute_result",
          "data": {
            "text/plain": [
              "dept\n",
              "Accounting                  Myworks\n",
              "Accounting                    Npath\n",
              "Accounting                  Demivee\n",
              "Accounting                   Voonyx\n",
              "Business Development     Topicstorm\n",
              "Business Development        Dynabox\n",
              "Business Development    Browsedrive\n",
              "Business Development        Edgetag\n",
              "Business Development         Rhybox\n",
              "Business Development          Aimbo\n",
              "Business Development    Browsedrive\n",
              "Business Development          Yodel\n",
              "Business Development       Bluezoom\n",
              "Engineering              Brainverse\n",
              "Engineering                  Zooveo\n",
              "Engineering                   Mynte\n",
              "Engineering                 Gabvine\n",
              "Engineering                 Voonder\n",
              "Engineering                   Kamba\n",
              "Name: nama_perush, dtype: object"
            ]
          },
          "metadata": {},
          "execution_count": 49
        }
      ]
    },
    {
      "cell_type": "code",
      "metadata": {
        "colab": {
          "base_uri": "https://localhost:8080/",
          "height": 35
        },
        "id": "4ZRHPbhOOuxJ",
        "outputId": "400df293-a645-4649-fd2e-0a9e5c9bec33"
      },
      "source": [
        "fake_comp2[1]"
      ],
      "execution_count": null,
      "outputs": [
        {
          "output_type": "execute_result",
          "data": {
            "application/vnd.google.colaboratory.intrinsic+json": {
              "type": "string"
            },
            "text/plain": [
              "'Npath'"
            ]
          },
          "metadata": {},
          "execution_count": 52
        }
      ]
    },
    {
      "cell_type": "markdown",
      "metadata": {
        "id": "q3Ar2h8-WfIB"
      },
      "source": [
        "Menggunakan Method get()"
      ]
    },
    {
      "cell_type": "code",
      "metadata": {
        "colab": {
          "base_uri": "https://localhost:8080/"
        },
        "id": "XwYB6YvWWg7b",
        "outputId": "5ce1eb87-ee9e-474f-f91d-dbc3690fe3fc"
      },
      "source": [
        "fake_comp2.get(\"Engineering\")"
      ],
      "execution_count": null,
      "outputs": [
        {
          "output_type": "execute_result",
          "data": {
            "text/plain": [
              "dept\n",
              "Engineering    Brainverse\n",
              "Engineering        Zooveo\n",
              "Engineering         Mynte\n",
              "Engineering       Gabvine\n",
              "Engineering       Voonder\n",
              "Engineering         Kamba\n",
              "Name: nama_perush, dtype: object"
            ]
          },
          "metadata": {},
          "execution_count": 53
        }
      ]
    },
    {
      "cell_type": "code",
      "metadata": {
        "colab": {
          "base_uri": "https://localhost:8080/",
          "height": 35
        },
        "id": "zdjOmnfVW5xP",
        "outputId": "9f265795-d563-4c8a-eefc-7fb0082386cf"
      },
      "source": [
        "fake_comp2.get(\"Non Exist\", default=\"No Data\")"
      ],
      "execution_count": null,
      "outputs": [
        {
          "output_type": "execute_result",
          "data": {
            "application/vnd.google.colaboratory.intrinsic+json": {
              "type": "string"
            },
            "text/plain": [
              "'No Data'"
            ]
          },
          "metadata": {},
          "execution_count": 55
        }
      ]
    },
    {
      "cell_type": "code",
      "metadata": {
        "colab": {
          "base_uri": "https://localhost:8080/",
          "height": 35
        },
        "id": "9NdpRiUsXPXT",
        "outputId": "cfe9f515-dd2b-4697-adc4-ddfbd0b1f250"
      },
      "source": [
        "fake_comp2.get(key=[\"Accounting\", \"Non Exist\"], default=\"No Data\")"
      ],
      "execution_count": null,
      "outputs": [
        {
          "output_type": "execute_result",
          "data": {
            "application/vnd.google.colaboratory.intrinsic+json": {
              "type": "string"
            },
            "text/plain": [
              "'No Data'"
            ]
          },
          "metadata": {},
          "execution_count": 60
        }
      ]
    },
    {
      "cell_type": "markdown",
      "metadata": {
        "id": "uEzgarwzmEVE"
      },
      "source": [
        "Math Function"
      ]
    },
    {
      "cell_type": "code",
      "metadata": {
        "colab": {
          "base_uri": "https://localhost:8080/"
        },
        "id": "FPfuPwMvmFhv",
        "outputId": "4722aa2a-c408-466e-842c-812affb122d9"
      },
      "source": [
        "my_int = [1, 1, 2, 3, 5, 8, 13, 21]\n",
        "s_int = pd.Series(my_int)\n",
        "s_int"
      ],
      "execution_count": null,
      "outputs": [
        {
          "output_type": "execute_result",
          "data": {
            "text/plain": [
              "0     1\n",
              "1     1\n",
              "2     2\n",
              "3     3\n",
              "4     5\n",
              "5     8\n",
              "6    13\n",
              "7    21\n",
              "dtype: int64"
            ]
          },
          "metadata": {},
          "execution_count": 2
        }
      ]
    },
    {
      "cell_type": "code",
      "metadata": {
        "colab": {
          "base_uri": "https://localhost:8080/"
        },
        "id": "uOJ4m6aXmgoI",
        "outputId": "03fecc15-a92b-41ae-f969-cef994e79ace"
      },
      "source": [
        "s_int.count()"
      ],
      "execution_count": null,
      "outputs": [
        {
          "output_type": "execute_result",
          "data": {
            "text/plain": [
              "8"
            ]
          },
          "metadata": {},
          "execution_count": 63
        }
      ]
    },
    {
      "cell_type": "code",
      "metadata": {
        "colab": {
          "base_uri": "https://localhost:8080/"
        },
        "id": "nzUMyVnum-HW",
        "outputId": "95537bdc-1fad-4dbd-dc3e-f374db7984ea"
      },
      "source": [
        "len(s_int)"
      ],
      "execution_count": null,
      "outputs": [
        {
          "output_type": "execute_result",
          "data": {
            "text/plain": [
              "8"
            ]
          },
          "metadata": {},
          "execution_count": 64
        }
      ]
    },
    {
      "cell_type": "code",
      "metadata": {
        "colab": {
          "base_uri": "https://localhost:8080/"
        },
        "id": "Adu7IHEUnTAS",
        "outputId": "4e3dec38-a24c-43af-f6e8-0aabe7d7e547"
      },
      "source": [
        "s_int.sum()"
      ],
      "execution_count": null,
      "outputs": [
        {
          "output_type": "execute_result",
          "data": {
            "text/plain": [
              "54"
            ]
          },
          "metadata": {},
          "execution_count": 65
        }
      ]
    },
    {
      "cell_type": "code",
      "metadata": {
        "colab": {
          "base_uri": "https://localhost:8080/"
        },
        "id": "zZCgT2Itnzep",
        "outputId": "67147f8f-0c22-4500-bb17-a570fb931d67"
      },
      "source": [
        "s_int.mean()"
      ],
      "execution_count": null,
      "outputs": [
        {
          "output_type": "execute_result",
          "data": {
            "text/plain": [
              "6.75"
            ]
          },
          "metadata": {},
          "execution_count": 66
        }
      ]
    },
    {
      "cell_type": "code",
      "metadata": {
        "colab": {
          "base_uri": "https://localhost:8080/"
        },
        "id": "E6EJ-bR8oBUS",
        "outputId": "5ccd16cc-3f33-44a9-93c6-7a7e1d9ae128"
      },
      "source": [
        "s_int.std()"
      ],
      "execution_count": null,
      "outputs": [
        {
          "output_type": "execute_result",
          "data": {
            "text/plain": [
              "7.066015244009273"
            ]
          },
          "metadata": {},
          "execution_count": 67
        }
      ]
    },
    {
      "cell_type": "code",
      "metadata": {
        "colab": {
          "base_uri": "https://localhost:8080/"
        },
        "id": "PbThfhKqoXYt",
        "outputId": "0e9f1b15-cec5-4a46-b61e-e04cd3382869"
      },
      "source": [
        "s_int.min()"
      ],
      "execution_count": null,
      "outputs": [
        {
          "output_type": "execute_result",
          "data": {
            "text/plain": [
              "1"
            ]
          },
          "metadata": {},
          "execution_count": 68
        }
      ]
    },
    {
      "cell_type": "code",
      "metadata": {
        "colab": {
          "base_uri": "https://localhost:8080/"
        },
        "id": "5ca_Y3hxoZRG",
        "outputId": "9d037f02-21fe-4fbf-e6b8-115ad515dc13"
      },
      "source": [
        "s_int.max()"
      ],
      "execution_count": null,
      "outputs": [
        {
          "output_type": "execute_result",
          "data": {
            "text/plain": [
              "21"
            ]
          },
          "metadata": {},
          "execution_count": 69
        }
      ]
    },
    {
      "cell_type": "code",
      "metadata": {
        "colab": {
          "base_uri": "https://localhost:8080/"
        },
        "id": "AEU4au2rok2p",
        "outputId": "de0d4e95-8dc5-4dc3-e792-a5203e7bbcce"
      },
      "source": [
        "s_int.mode()"
      ],
      "execution_count": null,
      "outputs": [
        {
          "output_type": "execute_result",
          "data": {
            "text/plain": [
              "0    1\n",
              "dtype: int64"
            ]
          },
          "metadata": {},
          "execution_count": 70
        }
      ]
    },
    {
      "cell_type": "code",
      "metadata": {
        "colab": {
          "base_uri": "https://localhost:8080/"
        },
        "id": "kd_UkdhUoyta",
        "outputId": "3e295d35-62be-47a9-a1b5-188999adfe71"
      },
      "source": [
        "s_int.median()"
      ],
      "execution_count": null,
      "outputs": [
        {
          "output_type": "execute_result",
          "data": {
            "text/plain": [
              "4.0"
            ]
          },
          "metadata": {},
          "execution_count": 71
        }
      ]
    },
    {
      "cell_type": "code",
      "metadata": {
        "colab": {
          "base_uri": "https://localhost:8080/"
        },
        "id": "t15BE5SOpMay",
        "outputId": "7a4463f7-2388-4855-a28b-70cb450a9f91"
      },
      "source": [
        "s_int.describe()"
      ],
      "execution_count": null,
      "outputs": [
        {
          "output_type": "execute_result",
          "data": {
            "text/plain": [
              "count     8.000000\n",
              "mean      6.750000\n",
              "std       7.066015\n",
              "min       1.000000\n",
              "25%       1.750000\n",
              "50%       4.000000\n",
              "75%       9.250000\n",
              "max      21.000000\n",
              "dtype: float64"
            ]
          },
          "metadata": {},
          "execution_count": 72
        }
      ]
    },
    {
      "cell_type": "markdown",
      "metadata": {
        "id": "Pf7GEJE3cMxo"
      },
      "source": [
        "Menggunakan idxmax() dan idxmin()"
      ]
    },
    {
      "cell_type": "code",
      "metadata": {
        "colab": {
          "base_uri": "https://localhost:8080/"
        },
        "id": "GPLU-i1qcIYl",
        "outputId": "3711b38f-5eb1-4e60-f04f-2a544385c230"
      },
      "source": [
        "s_int"
      ],
      "execution_count": null,
      "outputs": [
        {
          "output_type": "execute_result",
          "data": {
            "text/plain": [
              "0     1\n",
              "1     1\n",
              "2     2\n",
              "3     3\n",
              "4     5\n",
              "5     8\n",
              "6    13\n",
              "7    21\n",
              "dtype: int64"
            ]
          },
          "metadata": {},
          "execution_count": 4
        }
      ]
    },
    {
      "cell_type": "code",
      "metadata": {
        "colab": {
          "base_uri": "https://localhost:8080/"
        },
        "id": "HqBh0eJ3c4be",
        "outputId": "a7908b3c-2aa3-4ed3-9f23-c4847140365b"
      },
      "source": [
        "s_int[s_int.idxmax()]"
      ],
      "execution_count": null,
      "outputs": [
        {
          "output_type": "execute_result",
          "data": {
            "text/plain": [
              "21"
            ]
          },
          "metadata": {},
          "execution_count": 5
        }
      ]
    },
    {
      "cell_type": "code",
      "metadata": {
        "colab": {
          "base_uri": "https://localhost:8080/"
        },
        "id": "34lNASkfj7U6",
        "outputId": "506e107e-f146-4522-f5ad-835f5e9e0a16"
      },
      "source": [
        "s_int[s_int.idxmin()]\n",
        "s_int.idxmin()"
      ],
      "execution_count": null,
      "outputs": [
        {
          "output_type": "execute_result",
          "data": {
            "text/plain": [
              "0"
            ]
          },
          "metadata": {},
          "execution_count": 7
        }
      ]
    },
    {
      "cell_type": "markdown",
      "metadata": {
        "id": "NK36eVPfw778"
      },
      "source": [
        "Menggunaka value_counts()"
      ]
    },
    {
      "cell_type": "code",
      "metadata": {
        "colab": {
          "resources": {
            "http://localhost:8080/nbextensions/google.colab/files.js": {
              "data": "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",
              "ok": true,
              "headers": [
                [
                  "content-type",
                  "application/javascript"
                ]
              ],
              "status": 200,
              "status_text": ""
            }
          },
          "base_uri": "https://localhost:8080/",
          "height": 111
        },
        "id": "I3Np9IgUw-LM",
        "outputId": "a1cce47c-5791-4f03-d841-25962fb6348f"
      },
      "source": [
        "from google.colab import files\n",
        "files.upload()"
      ],
      "execution_count": null,
      "outputs": [
        {
          "output_type": "display_data",
          "data": {
            "text/html": [
              "\n",
              "     <input type=\"file\" id=\"files-4cc2f7bd-0aff-4511-96db-bb59c31e8bca\" name=\"files[]\" multiple disabled\n",
              "        style=\"border:none\" />\n",
              "     <output id=\"result-4cc2f7bd-0aff-4511-96db-bb59c31e8bca\">\n",
              "      Upload widget is only available when the cell has been executed in the\n",
              "      current browser session. Please rerun this cell to enable.\n",
              "      </output>\n",
              "      <script src=\"/nbextensions/google.colab/files.js\"></script> "
            ],
            "text/plain": [
              "<IPython.core.display.HTML object>"
            ]
          },
          "metadata": {}
        },
        {
          "output_type": "stream",
          "name": "stdout",
          "text": [
            "Saving mock_data_perush.csv to mock_data_perush.csv\n"
          ]
        },
        {
          "output_type": "execute_result",
          "data": {
            "text/plain": [
              "{'mock_data_perush.csv': b'id,nama_perush,dept\\n1,Photobug,Support\\n2,Jabbersphere,Human Resources\\n3,Voonder,Engineering\\n4,Kimia,Human Resources\\n5,Buzzshare,Training\\n6,Bluezoom,Business Development\\n7,DabZ,Research and Development\\n8,Tagtune,Human Resources\\n9,Photojam,Human Resources\\n10,Centizu,Legal\\n11,Plambee,Legal\\n12,Brainverse,Training\\n13,Topicstorm,Business Development\\n14,Brainverse,Engineering\\n15,Aimbo,Business Development\\n16,Thoughtstorm,Research and Development\\n17,Rhybox,Business Development\\n18,Katz,Research and Development\\n19,Yacero,Marketing\\n20,Jabberstorm,Training\\n21,Zoonoodle,Sales\\n22,Skippad,Support\\n23,Browsedrive,Business Development\\n24,Vitz,Training\\n25,Kamba,Engineering\\n26,Meeveo,Training\\n27,Topicstorm,Research and Development\\n28,Browsedrive,Business Development\\n29,Demivee,Accounting\\n30,Dynabox,Business Development\\n31,Myworks,Accounting\\n32,Gabvine,Engineering\\n33,Kayveo,Support\\n34,Flipstorm,Training\\n35,Skiptube,Sales\\n36,Myworks,Support\\n37,Realcube,Legal\\n38,Skinder,Sales\\n39,Camido,Training\\n40,Kamba,Support\\n41,Edgetag,Business Development\\n42,Zooveo,Engineering\\n43,Topiclounge,Support\\n44,Npath,Accounting\\n45,Voonyx,Accounting\\n46,Yodel,Business Development\\n47,Mynte,Engineering\\n48,Eare,Product Management\\n49,Twitterbridge,Product Management\\n50,Jaxspan,Marketing\\n'}"
            ]
          },
          "metadata": {},
          "execution_count": 8
        }
      ]
    },
    {
      "cell_type": "code",
      "metadata": {
        "id": "rgv1ubRaxBmD"
      },
      "source": [
        "fake_comp2 = pd.read_csv(\"mock_data_perush.csv\", index_col = \"nama_perush\", usecols=[\"nama_perush\", \"dept\"], squeeze=True)"
      ],
      "execution_count": null,
      "outputs": []
    },
    {
      "cell_type": "code",
      "metadata": {
        "colab": {
          "base_uri": "https://localhost:8080/"
        },
        "id": "ACZW9QbIxOLd",
        "outputId": "13ee9a27-5d05-430e-89ef-b2df9b3e4ffc"
      },
      "source": [
        "fake_comp2.head()"
      ],
      "execution_count": null,
      "outputs": [
        {
          "output_type": "execute_result",
          "data": {
            "text/plain": [
              "nama_perush\n",
              "Photobug                Support\n",
              "Jabbersphere    Human Resources\n",
              "Voonder             Engineering\n",
              "Kimia           Human Resources\n",
              "Buzzshare              Training\n",
              "Name: dept, dtype: object"
            ]
          },
          "metadata": {},
          "execution_count": 10
        }
      ]
    },
    {
      "cell_type": "code",
      "metadata": {
        "colab": {
          "base_uri": "https://localhost:8080/"
        },
        "id": "0oKPdtUfxRf9",
        "outputId": "064f0ce9-7a08-4003-e612-9af4ace911ab"
      },
      "source": [
        "fake_comp2.value_counts()"
      ],
      "execution_count": null,
      "outputs": [
        {
          "output_type": "execute_result",
          "data": {
            "text/plain": [
              "Business Development        9\n",
              "Training                    7\n",
              "Engineering                 6\n",
              "Support                     6\n",
              "Human Resources             4\n",
              "Accounting                  4\n",
              "Research and Development    4\n",
              "Sales                       3\n",
              "Legal                       3\n",
              "Product Management          2\n",
              "Marketing                   2\n",
              "Name: dept, dtype: int64"
            ]
          },
          "metadata": {},
          "execution_count": 11
        }
      ]
    },
    {
      "cell_type": "code",
      "metadata": {
        "colab": {
          "base_uri": "https://localhost:8080/"
        },
        "id": "cO6g-kYpyeQN",
        "outputId": "4a41d3de-e312-4b94-9682-3c99aa00157d"
      },
      "source": [
        "fake_comp2.value_counts(ascending=True)"
      ],
      "execution_count": null,
      "outputs": [
        {
          "output_type": "execute_result",
          "data": {
            "text/plain": [
              "Marketing                   2\n",
              "Product Management          2\n",
              "Legal                       3\n",
              "Sales                       3\n",
              "Research and Development    4\n",
              "Accounting                  4\n",
              "Human Resources             4\n",
              "Support                     6\n",
              "Engineering                 6\n",
              "Training                    7\n",
              "Business Development        9\n",
              "Name: dept, dtype: int64"
            ]
          },
          "metadata": {},
          "execution_count": 14
        }
      ]
    },
    {
      "cell_type": "markdown",
      "metadata": {
        "id": "3udzFZ1J1N6O"
      },
      "source": [
        "Menggunakan apply()"
      ]
    },
    {
      "cell_type": "code",
      "metadata": {
        "colab": {
          "base_uri": "https://localhost:8080/"
        },
        "id": "vfYfbPE01QKF",
        "outputId": "735a6c17-5dbd-47d5-b9f0-54524f15173a"
      },
      "source": [
        "my_int = [1, 1, 2, 3, 5, 8, 13, 21]\n",
        "s_int = pd.Series(my_int)\n",
        "s_int"
      ],
      "execution_count": null,
      "outputs": [
        {
          "output_type": "execute_result",
          "data": {
            "text/plain": [
              "0     1\n",
              "1     1\n",
              "2     2\n",
              "3     3\n",
              "4     5\n",
              "5     8\n",
              "6    13\n",
              "7    21\n",
              "dtype: int64"
            ]
          },
          "metadata": {},
          "execution_count": 16
        }
      ]
    },
    {
      "cell_type": "code",
      "metadata": {
        "id": "IKw9FEX11tl-"
      },
      "source": [
        "def kecilbesar(num):\n",
        "  if num <3:\n",
        "    return \"Kecil\"\n",
        "  elif num >=3 and num <13:\n",
        "    return \"Sedang\"\n",
        "  else:\n",
        "    return \"Besar\""
      ],
      "execution_count": null,
      "outputs": []
    },
    {
      "cell_type": "code",
      "metadata": {
        "colab": {
          "base_uri": "https://localhost:8080/"
        },
        "id": "eqGnr7PB2gxT",
        "outputId": "b84eabc0-2fa7-428e-d184-ecf20ab49b6e"
      },
      "source": [
        "s_int.apply(kecilbesar)"
      ],
      "execution_count": null,
      "outputs": [
        {
          "output_type": "execute_result",
          "data": {
            "text/plain": [
              "0     Kecil\n",
              "1     Kecil\n",
              "2     Kecil\n",
              "3    Sedang\n",
              "4    Sedang\n",
              "5    Sedang\n",
              "6     Besar\n",
              "7     Besar\n",
              "dtype: object"
            ]
          },
          "metadata": {},
          "execution_count": 18
        }
      ]
    },
    {
      "cell_type": "code",
      "metadata": {
        "colab": {
          "base_uri": "https://localhost:8080/"
        },
        "id": "xw2YBZN428zq",
        "outputId": "8619e647-0f02-4da5-9bee-ed5b194b265c"
      },
      "source": [
        "s_int.apply(lambda temp : temp + 1)"
      ],
      "execution_count": null,
      "outputs": [
        {
          "output_type": "execute_result",
          "data": {
            "text/plain": [
              "0     2\n",
              "1     2\n",
              "2     3\n",
              "3     4\n",
              "4     6\n",
              "5     9\n",
              "6    14\n",
              "7    22\n",
              "dtype: int64"
            ]
          },
          "metadata": {},
          "execution_count": 19
        }
      ]
    },
    {
      "cell_type": "markdown",
      "metadata": {
        "id": "4NaMxaR-4qGM"
      },
      "source": [
        "Menggunakan map()"
      ]
    },
    {
      "cell_type": "code",
      "metadata": {
        "id": "kfXHYhcE4sSq"
      },
      "source": [
        "fake_comp_name = pd.read_csv(\"mock_data_perush.csv\", usecols=[\"nama_perush\"], squeeze=True)"
      ],
      "execution_count": null,
      "outputs": []
    },
    {
      "cell_type": "code",
      "metadata": {
        "id": "oNOib9q245qa"
      },
      "source": [
        "fake_comp_name"
      ],
      "execution_count": null,
      "outputs": []
    },
    {
      "cell_type": "code",
      "metadata": {
        "id": "RjVh2o_a5GKg"
      },
      "source": [
        "fake_comp_dept = pd.read_csv(\"mock_data_perush.csv\", index_col=\"nama_perush\", usecols=[\"nama_perush\", \"dept\"], squeeze=True).to_dict()"
      ],
      "execution_count": null,
      "outputs": []
    },
    {
      "cell_type": "code",
      "metadata": {
        "colab": {
          "base_uri": "https://localhost:8080/"
        },
        "id": "FdelrLjy5Wlu",
        "outputId": "32d7f4e1-2e80-45e0-8536-0602f61721a3"
      },
      "source": [
        "fake_comp_dept"
      ],
      "execution_count": null,
      "outputs": [
        {
          "output_type": "execute_result",
          "data": {
            "text/plain": [
              "{'Aimbo': 'Business Development',\n",
              " 'Bluezoom': 'Business Development',\n",
              " 'Brainverse': 'Engineering',\n",
              " 'Browsedrive': 'Business Development',\n",
              " 'Buzzshare': 'Training',\n",
              " 'Camido': 'Training',\n",
              " 'Centizu': 'Legal',\n",
              " 'DabZ': 'Research and Development',\n",
              " 'Demivee': 'Accounting',\n",
              " 'Dynabox': 'Business Development',\n",
              " 'Eare': 'Product Management',\n",
              " 'Edgetag': 'Business Development',\n",
              " 'Flipstorm': 'Training',\n",
              " 'Gabvine': 'Engineering',\n",
              " 'Jabbersphere': 'Human Resources',\n",
              " 'Jabberstorm': 'Training',\n",
              " 'Jaxspan': 'Marketing',\n",
              " 'Kamba': 'Support',\n",
              " 'Katz': 'Research and Development',\n",
              " 'Kayveo': 'Support',\n",
              " 'Kimia': 'Human Resources',\n",
              " 'Meeveo': 'Training',\n",
              " 'Mynte': 'Engineering',\n",
              " 'Myworks': 'Support',\n",
              " 'Npath': 'Accounting',\n",
              " 'Photobug': 'Support',\n",
              " 'Photojam': 'Human Resources',\n",
              " 'Plambee': 'Legal',\n",
              " 'Realcube': 'Legal',\n",
              " 'Rhybox': 'Business Development',\n",
              " 'Skinder': 'Sales',\n",
              " 'Skippad': 'Support',\n",
              " 'Skiptube': 'Sales',\n",
              " 'Tagtune': 'Human Resources',\n",
              " 'Thoughtstorm': 'Research and Development',\n",
              " 'Topiclounge': 'Support',\n",
              " 'Topicstorm': 'Research and Development',\n",
              " 'Twitterbridge': 'Product Management',\n",
              " 'Vitz': 'Training',\n",
              " 'Voonder': 'Engineering',\n",
              " 'Voonyx': 'Accounting',\n",
              " 'Yacero': 'Marketing',\n",
              " 'Yodel': 'Business Development',\n",
              " 'Zoonoodle': 'Sales',\n",
              " 'Zooveo': 'Engineering'}"
            ]
          },
          "metadata": {},
          "execution_count": 41
        }
      ]
    },
    {
      "cell_type": "code",
      "metadata": {
        "colab": {
          "base_uri": "https://localhost:8080/"
        },
        "id": "7kUOpsab6JIY",
        "outputId": "a2c6b54c-89c3-41e6-a9d1-eb104c39b570"
      },
      "source": [
        "fake_comp_name.map(fake_comp_dept)"
      ],
      "execution_count": null,
      "outputs": [
        {
          "output_type": "execute_result",
          "data": {
            "text/plain": [
              "0                      Support\n",
              "1              Human Resources\n",
              "2                  Engineering\n",
              "3              Human Resources\n",
              "4                     Training\n",
              "5         Business Development\n",
              "6     Research and Development\n",
              "7              Human Resources\n",
              "8              Human Resources\n",
              "9                        Legal\n",
              "10                       Legal\n",
              "11                 Engineering\n",
              "12    Research and Development\n",
              "13                 Engineering\n",
              "14        Business Development\n",
              "15    Research and Development\n",
              "16        Business Development\n",
              "17    Research and Development\n",
              "18                   Marketing\n",
              "19                    Training\n",
              "20                       Sales\n",
              "21                     Support\n",
              "22        Business Development\n",
              "23                    Training\n",
              "24                     Support\n",
              "25                    Training\n",
              "26    Research and Development\n",
              "27        Business Development\n",
              "28                  Accounting\n",
              "29        Business Development\n",
              "30                     Support\n",
              "31                 Engineering\n",
              "32                     Support\n",
              "33                    Training\n",
              "34                       Sales\n",
              "35                     Support\n",
              "36                       Legal\n",
              "37                       Sales\n",
              "38                    Training\n",
              "39                     Support\n",
              "40        Business Development\n",
              "41                 Engineering\n",
              "42                     Support\n",
              "43                  Accounting\n",
              "44                  Accounting\n",
              "45        Business Development\n",
              "46                 Engineering\n",
              "47          Product Management\n",
              "48          Product Management\n",
              "49                   Marketing\n",
              "Name: nama_perush, dtype: object"
            ]
          },
          "metadata": {},
          "execution_count": 42
        }
      ]
    }
  ]
}