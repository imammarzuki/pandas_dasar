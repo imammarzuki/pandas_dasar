{
  "nbformat": 4,
  "nbformat_minor": 0,
  "metadata": {
    "colab": {
      "provenance": [],
      "authorship_tag": "ABX9TyM0DSy4gwO6DJUe8tCinPaH",
      "include_colab_link": true
    },
    "kernelspec": {
      "name": "python3",
      "display_name": "Python 3"
    },
    "language_info": {
      "name": "python"
    }
  },
  "cells": [
    {
      "cell_type": "markdown",
      "metadata": {
        "id": "view-in-github",
        "colab_type": "text"
      },
      "source": [
        "<a href=\"https://colab.research.google.com/github/imammarzuki/pandas_dasar/blob/main/1_MembuatSeries.ipynb\" target=\"_parent\"><img src=\"https://colab.research.google.com/assets/colab-badge.svg\" alt=\"Open In Colab\"/></a>"
      ]
    },
    {
      "cell_type": "code",
      "source": [
        "#Pandas Series - Membuat Series"
      ],
      "metadata": {
        "id": "JygEAUkslD0C"
      },
      "execution_count": 1,
      "outputs": []
    },
    {
      "cell_type": "code",
      "execution_count": 2,
      "metadata": {
        "id": "2Ca3EW0EVfb5"
      },
      "outputs": [],
      "source": [
        "import pandas as pd"
      ]
    },
    {
      "cell_type": "code",
      "source": [
        "menu_kopi = [\"Kopi Lajang\", \"Kopi LDR\", \"Kopi Mandor\", \"Kopi Bucin\"]\n",
        "pd.Series(menu_kopi)"
      ],
      "metadata": {
        "colab": {
          "base_uri": "https://localhost:8080/"
        },
        "id": "Nqau5pspV3JG",
        "outputId": "304701fa-db13-4d78-e6bf-68103fbb15b0"
      },
      "execution_count": 3,
      "outputs": [
        {
          "output_type": "execute_result",
          "data": {
            "text/plain": [
              "0    Kopi Lajang\n",
              "1       Kopi LDR\n",
              "2    Kopi Mandor\n",
              "3     Kopi Bucin\n",
              "dtype: object"
            ]
          },
          "metadata": {},
          "execution_count": 3
        }
      ]
    },
    {
      "cell_type": "code",
      "source": [
        "my_int = [1,1,2,3,5]\n",
        "pd.Series(my_int)"
      ],
      "metadata": {
        "colab": {
          "base_uri": "https://localhost:8080/"
        },
        "id": "PflqC8IFWTl3",
        "outputId": "a576fa48-28cd-4a73-8ed9-9bc1237fb159"
      },
      "execution_count": 4,
      "outputs": [
        {
          "output_type": "execute_result",
          "data": {
            "text/plain": [
              "0    1\n",
              "1    1\n",
              "2    2\n",
              "3    3\n",
              "4    5\n",
              "dtype: int64"
            ]
          },
          "metadata": {},
          "execution_count": 4
        }
      ]
    },
    {
      "cell_type": "code",
      "source": [
        "my_float=[0.236,0.382,0.5,0.618,0.786]\n",
        "pd.Series(my_float)"
      ],
      "metadata": {
        "colab": {
          "base_uri": "https://localhost:8080/"
        },
        "id": "H4efZq35hSF3",
        "outputId": "f8079445-306f-4d3d-b646-fc482cbb8d4d"
      },
      "execution_count": 5,
      "outputs": [
        {
          "output_type": "execute_result",
          "data": {
            "text/plain": [
              "0    0.236\n",
              "1    0.382\n",
              "2    0.500\n",
              "3    0.618\n",
              "4    0.786\n",
              "dtype: float64"
            ]
          },
          "metadata": {},
          "execution_count": 5
        }
      ]
    },
    {
      "cell_type": "code",
      "source": [
        "my_bool=[True,False,False,True,True]\n",
        "pd.Series(my_bool)"
      ],
      "metadata": {
        "colab": {
          "base_uri": "https://localhost:8080/"
        },
        "id": "bYiG3-wViSqX",
        "outputId": "e4ea62dd-2623-4f4d-a226-2e5bf406b186"
      },
      "execution_count": 6,
      "outputs": [
        {
          "output_type": "execute_result",
          "data": {
            "text/plain": [
              "0     True\n",
              "1    False\n",
              "2    False\n",
              "3     True\n",
              "4     True\n",
              "dtype: bool"
            ]
          },
          "metadata": {},
          "execution_count": 6
        }
      ]
    },
    {
      "cell_type": "code",
      "source": [
        "ticker={\"ASII\": \"Astra Internasional\", \"BJBR\": \"Bank Jabar\", \"PGAS\": \"Perusahaan Gas Negara\"}\n",
        "porto=pd.Series(ticker)"
      ],
      "metadata": {
        "id": "_N4pvPqril7E"
      },
      "execution_count": 7,
      "outputs": []
    },
    {
      "cell_type": "code",
      "source": [
        "porto"
      ],
      "metadata": {
        "colab": {
          "base_uri": "https://localhost:8080/"
        },
        "id": "r8QiPliLpPWq",
        "outputId": "fd235e8a-b07a-48b9-bafb-b93454642cc6"
      },
      "execution_count": 8,
      "outputs": [
        {
          "output_type": "execute_result",
          "data": {
            "text/plain": [
              "ASII      Astra Internasional\n",
              "BJBR               Bank Jabar\n",
              "PGAS    Perusahaan Gas Negara\n",
              "dtype: object"
            ]
          },
          "metadata": {},
          "execution_count": 8
        }
      ]
    }
  ]
}